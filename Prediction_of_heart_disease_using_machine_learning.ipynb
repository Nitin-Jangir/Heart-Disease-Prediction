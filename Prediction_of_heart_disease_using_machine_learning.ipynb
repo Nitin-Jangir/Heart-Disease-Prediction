{
  "nbformat": 4,
  "nbformat_minor": 0,
  "metadata": {
    "colab": {
      "provenance": []
    },
    "kernelspec": {
      "name": "python3",
      "display_name": "Python 3"
    },
    "language_info": {
      "name": "python"
    }
  },
  "cells": [
    {
      "cell_type": "code",
      "execution_count": null,
      "metadata": {
        "colab": {
          "base_uri": "https://localhost:8080/"
        },
        "id": "2uXkAzKkfaUy",
        "outputId": "efe36a4e-1290-4e3d-8ff2-53e956f96894"
      },
      "outputs": [
        {
          "output_type": "stream",
          "name": "stdout",
          "text": [
            "Collecting bubbly\n",
            "  Downloading bubbly-1.0.2.tar.gz (5.1 kB)\n",
            "  Preparing metadata (setup.py) ... \u001b[?25l\u001b[?25hdone\n",
            "Requirement already satisfied: plotly in /usr/local/lib/python3.10/dist-packages (from bubbly) (5.24.1)\n",
            "Requirement already satisfied: pandas in /usr/local/lib/python3.10/dist-packages (from bubbly) (2.2.2)\n",
            "Requirement already satisfied: numpy>=1.22.4 in /usr/local/lib/python3.10/dist-packages (from pandas->bubbly) (1.26.4)\n",
            "Requirement already satisfied: python-dateutil>=2.8.2 in /usr/local/lib/python3.10/dist-packages (from pandas->bubbly) (2.8.2)\n",
            "Requirement already satisfied: pytz>=2020.1 in /usr/local/lib/python3.10/dist-packages (from pandas->bubbly) (2024.2)\n",
            "Requirement already satisfied: tzdata>=2022.7 in /usr/local/lib/python3.10/dist-packages (from pandas->bubbly) (2024.2)\n",
            "Requirement already satisfied: tenacity>=6.2.0 in /usr/local/lib/python3.10/dist-packages (from plotly->bubbly) (9.0.0)\n",
            "Requirement already satisfied: packaging in /usr/local/lib/python3.10/dist-packages (from plotly->bubbly) (24.2)\n",
            "Requirement already satisfied: six>=1.5 in /usr/local/lib/python3.10/dist-packages (from python-dateutil>=2.8.2->pandas->bubbly) (1.16.0)\n",
            "Building wheels for collected packages: bubbly\n",
            "  Building wheel for bubbly (setup.py) ... \u001b[?25l\u001b[?25hdone\n",
            "  Created wheel for bubbly: filename=bubbly-1.0.2-py3-none-any.whl size=5415 sha256=35d6421d068c97309e0b7634187d9600bbb29519308de20a5acd36f48d224f1a\n",
            "  Stored in directory: /root/.cache/pip/wheels/dc/b4/ab/043c77f064dbbb38983593a3bed54363cc1910d0fb20ba6f66\n",
            "Successfully built bubbly\n",
            "Installing collected packages: bubbly\n",
            "Successfully installed bubbly-1.0.2\n",
            "Requirement already satisfied: scikit-learn in /usr/local/lib/python3.10/dist-packages (1.5.2)\n",
            "Requirement already satisfied: numpy>=1.19.5 in /usr/local/lib/python3.10/dist-packages (from scikit-learn) (1.26.4)\n",
            "Requirement already satisfied: scipy>=1.6.0 in /usr/local/lib/python3.10/dist-packages (from scikit-learn) (1.13.1)\n",
            "Requirement already satisfied: joblib>=1.2.0 in /usr/local/lib/python3.10/dist-packages (from scikit-learn) (1.4.2)\n",
            "Requirement already satisfied: threadpoolctl>=3.1.0 in /usr/local/lib/python3.10/dist-packages (from scikit-learn) (3.5.0)\n",
            "Collecting pandas==1.5.3\n",
            "  Downloading pandas-1.5.3-cp310-cp310-manylinux_2_17_x86_64.manylinux2014_x86_64.whl.metadata (11 kB)\n",
            "Requirement already satisfied: python-dateutil>=2.8.1 in /usr/local/lib/python3.10/dist-packages (from pandas==1.5.3) (2.8.2)\n",
            "Requirement already satisfied: pytz>=2020.1 in /usr/local/lib/python3.10/dist-packages (from pandas==1.5.3) (2024.2)\n",
            "Requirement already satisfied: numpy>=1.21.0 in /usr/local/lib/python3.10/dist-packages (from pandas==1.5.3) (1.26.4)\n",
            "Requirement already satisfied: six>=1.5 in /usr/local/lib/python3.10/dist-packages (from python-dateutil>=2.8.1->pandas==1.5.3) (1.16.0)\n",
            "Downloading pandas-1.5.3-cp310-cp310-manylinux_2_17_x86_64.manylinux2014_x86_64.whl (12.1 MB)\n",
            "\u001b[2K   \u001b[90m━━━━━━━━━━━━━━━━━━━━━━━━━━━━━━━━━━━━━━━━\u001b[0m \u001b[32m12.1/12.1 MB\u001b[0m \u001b[31m50.9 MB/s\u001b[0m eta \u001b[36m0:00:00\u001b[0m\n",
            "\u001b[?25hInstalling collected packages: pandas\n",
            "  Attempting uninstall: pandas\n",
            "    Found existing installation: pandas 2.2.2\n",
            "    Uninstalling pandas-2.2.2:\n",
            "      Successfully uninstalled pandas-2.2.2\n",
            "\u001b[31mERROR: pip's dependency resolver does not currently take into account all the packages that are installed. This behaviour is the source of the following dependency conflicts.\n",
            "cudf-cu12 24.10.1 requires pandas<2.2.3dev0,>=2.0, but you have pandas 1.5.3 which is incompatible.\n",
            "google-colab 1.0.0 requires pandas==2.2.2, but you have pandas 1.5.3 which is incompatible.\n",
            "mizani 0.13.0 requires pandas>=2.2.0, but you have pandas 1.5.3 which is incompatible.\n",
            "plotnine 0.14.1 requires pandas>=2.2.0, but you have pandas 1.5.3 which is incompatible.\n",
            "xarray 2024.10.0 requires pandas>=2.1, but you have pandas 1.5.3 which is incompatible.\u001b[0m\u001b[31m\n",
            "\u001b[0mSuccessfully installed pandas-1.5.3\n"
          ]
        }
      ],
      "source": [
        "! pip install bubbly --upgrade\n",
        "! pip install scikit-learn  -U\n",
        "!pip install pandas==1.5.3\n"
      ]
    },
    {
      "cell_type": "code",
      "source": [
        "import pandas as pd\n",
        "import numpy as np\n",
        "\n",
        "import plotly.express as px\n",
        "import plotly.offline as py\n",
        "\n",
        "from bubbly.bubbly import bubbleplot as blp\n",
        "import matplotlib.pyplot as plt\n",
        "import seaborn as sns\n",
        "\n",
        "import warnings\n",
        "warnings.filterwarnings('ignore')\n",
        "import plotly.graph_objs as go\n",
        "py.init_notebook_mode(connected=True)"
      ],
      "metadata": {
        "id": "SHseDzCAfwvz",
        "colab": {
          "base_uri": "https://localhost:8080/",
          "height": 17
        },
        "outputId": "13080dbc-5914-41e1-d332-7257753d6085"
      },
      "execution_count": null,
      "outputs": [
        {
          "output_type": "display_data",
          "data": {
            "text/html": [
              "        <script type=\"text/javascript\">\n",
              "        window.PlotlyConfig = {MathJaxConfig: 'local'};\n",
              "        if (window.MathJax && window.MathJax.Hub && window.MathJax.Hub.Config) {window.MathJax.Hub.Config({SVG: {font: \"STIX-Web\"}});}\n",
              "        if (typeof require !== 'undefined') {\n",
              "        require.undef(\"plotly\");\n",
              "        requirejs.config({\n",
              "            paths: {\n",
              "                'plotly': ['https://cdn.plot.ly/plotly-2.35.2.min']\n",
              "            }\n",
              "        });\n",
              "        require(['plotly'], function(Plotly) {\n",
              "            window._Plotly = Plotly;\n",
              "        });\n",
              "        }\n",
              "        </script>\n",
              "        "
            ]
          },
          "metadata": {}
        }
      ]
    },
    {
      "cell_type": "code",
      "source": [
        "data=pd.read_csv('/content/heart.csv')\n",
        "\n",
        "data"
      ],
      "metadata": {
        "colab": {
          "base_uri": "https://localhost:8080/",
          "height": 423
        },
        "id": "51IhTXoVf3d0",
        "outputId": "c5374b0c-c871-4ff9-f9c6-871a976b0606"
      },
      "execution_count": null,
      "outputs": [
        {
          "output_type": "execute_result",
          "data": {
            "text/plain": [
              "      age  sex  cp  trestbps  chol  fbs  restecg  thalach  exang  oldpeak  \\\n",
              "0      52    1   0       125   212    0        1      168      0      1.0   \n",
              "1      53    1   0       140   203    1        0      155      1      3.1   \n",
              "2      70    1   0       145   174    0        1      125      1      2.6   \n",
              "3      61    1   0       148   203    0        1      161      0      0.0   \n",
              "4      62    0   0       138   294    1        1      106      0      1.9   \n",
              "...   ...  ...  ..       ...   ...  ...      ...      ...    ...      ...   \n",
              "1020   59    1   1       140   221    0        1      164      1      0.0   \n",
              "1021   60    1   0       125   258    0        0      141      1      2.8   \n",
              "1022   47    1   0       110   275    0        0      118      1      1.0   \n",
              "1023   50    0   0       110   254    0        0      159      0      0.0   \n",
              "1024   54    1   0       120   188    0        1      113      0      1.4   \n",
              "\n",
              "      slope  ca  thal  target  \n",
              "0         2   2     3       0  \n",
              "1         0   0     3       0  \n",
              "2         0   0     3       0  \n",
              "3         2   1     3       0  \n",
              "4         1   3     2       0  \n",
              "...     ...  ..   ...     ...  \n",
              "1020      2   0     2       1  \n",
              "1021      1   1     3       0  \n",
              "1022      1   1     2       0  \n",
              "1023      2   0     2       1  \n",
              "1024      1   1     3       0  \n",
              "\n",
              "[1025 rows x 14 columns]"
            ],
            "text/html": [
              "\n",
              "  <div id=\"df-c56f7d86-08e2-4cb7-92d3-0dda010bef15\" class=\"colab-df-container\">\n",
              "    <div>\n",
              "<style scoped>\n",
              "    .dataframe tbody tr th:only-of-type {\n",
              "        vertical-align: middle;\n",
              "    }\n",
              "\n",
              "    .dataframe tbody tr th {\n",
              "        vertical-align: top;\n",
              "    }\n",
              "\n",
              "    .dataframe thead th {\n",
              "        text-align: right;\n",
              "    }\n",
              "</style>\n",
              "<table border=\"1\" class=\"dataframe\">\n",
              "  <thead>\n",
              "    <tr style=\"text-align: right;\">\n",
              "      <th></th>\n",
              "      <th>age</th>\n",
              "      <th>sex</th>\n",
              "      <th>cp</th>\n",
              "      <th>trestbps</th>\n",
              "      <th>chol</th>\n",
              "      <th>fbs</th>\n",
              "      <th>restecg</th>\n",
              "      <th>thalach</th>\n",
              "      <th>exang</th>\n",
              "      <th>oldpeak</th>\n",
              "      <th>slope</th>\n",
              "      <th>ca</th>\n",
              "      <th>thal</th>\n",
              "      <th>target</th>\n",
              "    </tr>\n",
              "  </thead>\n",
              "  <tbody>\n",
              "    <tr>\n",
              "      <th>0</th>\n",
              "      <td>52</td>\n",
              "      <td>1</td>\n",
              "      <td>0</td>\n",
              "      <td>125</td>\n",
              "      <td>212</td>\n",
              "      <td>0</td>\n",
              "      <td>1</td>\n",
              "      <td>168</td>\n",
              "      <td>0</td>\n",
              "      <td>1.0</td>\n",
              "      <td>2</td>\n",
              "      <td>2</td>\n",
              "      <td>3</td>\n",
              "      <td>0</td>\n",
              "    </tr>\n",
              "    <tr>\n",
              "      <th>1</th>\n",
              "      <td>53</td>\n",
              "      <td>1</td>\n",
              "      <td>0</td>\n",
              "      <td>140</td>\n",
              "      <td>203</td>\n",
              "      <td>1</td>\n",
              "      <td>0</td>\n",
              "      <td>155</td>\n",
              "      <td>1</td>\n",
              "      <td>3.1</td>\n",
              "      <td>0</td>\n",
              "      <td>0</td>\n",
              "      <td>3</td>\n",
              "      <td>0</td>\n",
              "    </tr>\n",
              "    <tr>\n",
              "      <th>2</th>\n",
              "      <td>70</td>\n",
              "      <td>1</td>\n",
              "      <td>0</td>\n",
              "      <td>145</td>\n",
              "      <td>174</td>\n",
              "      <td>0</td>\n",
              "      <td>1</td>\n",
              "      <td>125</td>\n",
              "      <td>1</td>\n",
              "      <td>2.6</td>\n",
              "      <td>0</td>\n",
              "      <td>0</td>\n",
              "      <td>3</td>\n",
              "      <td>0</td>\n",
              "    </tr>\n",
              "    <tr>\n",
              "      <th>3</th>\n",
              "      <td>61</td>\n",
              "      <td>1</td>\n",
              "      <td>0</td>\n",
              "      <td>148</td>\n",
              "      <td>203</td>\n",
              "      <td>0</td>\n",
              "      <td>1</td>\n",
              "      <td>161</td>\n",
              "      <td>0</td>\n",
              "      <td>0.0</td>\n",
              "      <td>2</td>\n",
              "      <td>1</td>\n",
              "      <td>3</td>\n",
              "      <td>0</td>\n",
              "    </tr>\n",
              "    <tr>\n",
              "      <th>4</th>\n",
              "      <td>62</td>\n",
              "      <td>0</td>\n",
              "      <td>0</td>\n",
              "      <td>138</td>\n",
              "      <td>294</td>\n",
              "      <td>1</td>\n",
              "      <td>1</td>\n",
              "      <td>106</td>\n",
              "      <td>0</td>\n",
              "      <td>1.9</td>\n",
              "      <td>1</td>\n",
              "      <td>3</td>\n",
              "      <td>2</td>\n",
              "      <td>0</td>\n",
              "    </tr>\n",
              "    <tr>\n",
              "      <th>...</th>\n",
              "      <td>...</td>\n",
              "      <td>...</td>\n",
              "      <td>...</td>\n",
              "      <td>...</td>\n",
              "      <td>...</td>\n",
              "      <td>...</td>\n",
              "      <td>...</td>\n",
              "      <td>...</td>\n",
              "      <td>...</td>\n",
              "      <td>...</td>\n",
              "      <td>...</td>\n",
              "      <td>...</td>\n",
              "      <td>...</td>\n",
              "      <td>...</td>\n",
              "    </tr>\n",
              "    <tr>\n",
              "      <th>1020</th>\n",
              "      <td>59</td>\n",
              "      <td>1</td>\n",
              "      <td>1</td>\n",
              "      <td>140</td>\n",
              "      <td>221</td>\n",
              "      <td>0</td>\n",
              "      <td>1</td>\n",
              "      <td>164</td>\n",
              "      <td>1</td>\n",
              "      <td>0.0</td>\n",
              "      <td>2</td>\n",
              "      <td>0</td>\n",
              "      <td>2</td>\n",
              "      <td>1</td>\n",
              "    </tr>\n",
              "    <tr>\n",
              "      <th>1021</th>\n",
              "      <td>60</td>\n",
              "      <td>1</td>\n",
              "      <td>0</td>\n",
              "      <td>125</td>\n",
              "      <td>258</td>\n",
              "      <td>0</td>\n",
              "      <td>0</td>\n",
              "      <td>141</td>\n",
              "      <td>1</td>\n",
              "      <td>2.8</td>\n",
              "      <td>1</td>\n",
              "      <td>1</td>\n",
              "      <td>3</td>\n",
              "      <td>0</td>\n",
              "    </tr>\n",
              "    <tr>\n",
              "      <th>1022</th>\n",
              "      <td>47</td>\n",
              "      <td>1</td>\n",
              "      <td>0</td>\n",
              "      <td>110</td>\n",
              "      <td>275</td>\n",
              "      <td>0</td>\n",
              "      <td>0</td>\n",
              "      <td>118</td>\n",
              "      <td>1</td>\n",
              "      <td>1.0</td>\n",
              "      <td>1</td>\n",
              "      <td>1</td>\n",
              "      <td>2</td>\n",
              "      <td>0</td>\n",
              "    </tr>\n",
              "    <tr>\n",
              "      <th>1023</th>\n",
              "      <td>50</td>\n",
              "      <td>0</td>\n",
              "      <td>0</td>\n",
              "      <td>110</td>\n",
              "      <td>254</td>\n",
              "      <td>0</td>\n",
              "      <td>0</td>\n",
              "      <td>159</td>\n",
              "      <td>0</td>\n",
              "      <td>0.0</td>\n",
              "      <td>2</td>\n",
              "      <td>0</td>\n",
              "      <td>2</td>\n",
              "      <td>1</td>\n",
              "    </tr>\n",
              "    <tr>\n",
              "      <th>1024</th>\n",
              "      <td>54</td>\n",
              "      <td>1</td>\n",
              "      <td>0</td>\n",
              "      <td>120</td>\n",
              "      <td>188</td>\n",
              "      <td>0</td>\n",
              "      <td>1</td>\n",
              "      <td>113</td>\n",
              "      <td>0</td>\n",
              "      <td>1.4</td>\n",
              "      <td>1</td>\n",
              "      <td>1</td>\n",
              "      <td>3</td>\n",
              "      <td>0</td>\n",
              "    </tr>\n",
              "  </tbody>\n",
              "</table>\n",
              "<p>1025 rows × 14 columns</p>\n",
              "</div>\n",
              "    <div class=\"colab-df-buttons\">\n",
              "\n",
              "  <div class=\"colab-df-container\">\n",
              "    <button class=\"colab-df-convert\" onclick=\"convertToInteractive('df-c56f7d86-08e2-4cb7-92d3-0dda010bef15')\"\n",
              "            title=\"Convert this dataframe to an interactive table.\"\n",
              "            style=\"display:none;\">\n",
              "\n",
              "  <svg xmlns=\"http://www.w3.org/2000/svg\" height=\"24px\" viewBox=\"0 -960 960 960\">\n",
              "    <path d=\"M120-120v-720h720v720H120Zm60-500h600v-160H180v160Zm220 220h160v-160H400v160Zm0 220h160v-160H400v160ZM180-400h160v-160H180v160Zm440 0h160v-160H620v160ZM180-180h160v-160H180v160Zm440 0h160v-160H620v160Z\"/>\n",
              "  </svg>\n",
              "    </button>\n",
              "\n",
              "  <style>\n",
              "    .colab-df-container {\n",
              "      display:flex;\n",
              "      gap: 12px;\n",
              "    }\n",
              "\n",
              "    .colab-df-convert {\n",
              "      background-color: #E8F0FE;\n",
              "      border: none;\n",
              "      border-radius: 50%;\n",
              "      cursor: pointer;\n",
              "      display: none;\n",
              "      fill: #1967D2;\n",
              "      height: 32px;\n",
              "      padding: 0 0 0 0;\n",
              "      width: 32px;\n",
              "    }\n",
              "\n",
              "    .colab-df-convert:hover {\n",
              "      background-color: #E2EBFA;\n",
              "      box-shadow: 0px 1px 2px rgba(60, 64, 67, 0.3), 0px 1px 3px 1px rgba(60, 64, 67, 0.15);\n",
              "      fill: #174EA6;\n",
              "    }\n",
              "\n",
              "    .colab-df-buttons div {\n",
              "      margin-bottom: 4px;\n",
              "    }\n",
              "\n",
              "    [theme=dark] .colab-df-convert {\n",
              "      background-color: #3B4455;\n",
              "      fill: #D2E3FC;\n",
              "    }\n",
              "\n",
              "    [theme=dark] .colab-df-convert:hover {\n",
              "      background-color: #434B5C;\n",
              "      box-shadow: 0px 1px 3px 1px rgba(0, 0, 0, 0.15);\n",
              "      filter: drop-shadow(0px 1px 2px rgba(0, 0, 0, 0.3));\n",
              "      fill: #FFFFFF;\n",
              "    }\n",
              "  </style>\n",
              "\n",
              "    <script>\n",
              "      const buttonEl =\n",
              "        document.querySelector('#df-c56f7d86-08e2-4cb7-92d3-0dda010bef15 button.colab-df-convert');\n",
              "      buttonEl.style.display =\n",
              "        google.colab.kernel.accessAllowed ? 'block' : 'none';\n",
              "\n",
              "      async function convertToInteractive(key) {\n",
              "        const element = document.querySelector('#df-c56f7d86-08e2-4cb7-92d3-0dda010bef15');\n",
              "        const dataTable =\n",
              "          await google.colab.kernel.invokeFunction('convertToInteractive',\n",
              "                                                    [key], {});\n",
              "        if (!dataTable) return;\n",
              "\n",
              "        const docLinkHtml = 'Like what you see? Visit the ' +\n",
              "          '<a target=\"_blank\" href=https://colab.research.google.com/notebooks/data_table.ipynb>data table notebook</a>'\n",
              "          + ' to learn more about interactive tables.';\n",
              "        element.innerHTML = '';\n",
              "        dataTable['output_type'] = 'display_data';\n",
              "        await google.colab.output.renderOutput(dataTable, element);\n",
              "        const docLink = document.createElement('div');\n",
              "        docLink.innerHTML = docLinkHtml;\n",
              "        element.appendChild(docLink);\n",
              "      }\n",
              "    </script>\n",
              "  </div>\n",
              "\n",
              "\n",
              "<div id=\"df-b11ac777-1f8c-4b8d-8bde-68788b78e06b\">\n",
              "  <button class=\"colab-df-quickchart\" onclick=\"quickchart('df-b11ac777-1f8c-4b8d-8bde-68788b78e06b')\"\n",
              "            title=\"Suggest charts\"\n",
              "            style=\"display:none;\">\n",
              "\n",
              "<svg xmlns=\"http://www.w3.org/2000/svg\" height=\"24px\"viewBox=\"0 0 24 24\"\n",
              "     width=\"24px\">\n",
              "    <g>\n",
              "        <path d=\"M19 3H5c-1.1 0-2 .9-2 2v14c0 1.1.9 2 2 2h14c1.1 0 2-.9 2-2V5c0-1.1-.9-2-2-2zM9 17H7v-7h2v7zm4 0h-2V7h2v10zm4 0h-2v-4h2v4z\"/>\n",
              "    </g>\n",
              "</svg>\n",
              "  </button>\n",
              "\n",
              "<style>\n",
              "  .colab-df-quickchart {\n",
              "      --bg-color: #E8F0FE;\n",
              "      --fill-color: #1967D2;\n",
              "      --hover-bg-color: #E2EBFA;\n",
              "      --hover-fill-color: #174EA6;\n",
              "      --disabled-fill-color: #AAA;\n",
              "      --disabled-bg-color: #DDD;\n",
              "  }\n",
              "\n",
              "  [theme=dark] .colab-df-quickchart {\n",
              "      --bg-color: #3B4455;\n",
              "      --fill-color: #D2E3FC;\n",
              "      --hover-bg-color: #434B5C;\n",
              "      --hover-fill-color: #FFFFFF;\n",
              "      --disabled-bg-color: #3B4455;\n",
              "      --disabled-fill-color: #666;\n",
              "  }\n",
              "\n",
              "  .colab-df-quickchart {\n",
              "    background-color: var(--bg-color);\n",
              "    border: none;\n",
              "    border-radius: 50%;\n",
              "    cursor: pointer;\n",
              "    display: none;\n",
              "    fill: var(--fill-color);\n",
              "    height: 32px;\n",
              "    padding: 0;\n",
              "    width: 32px;\n",
              "  }\n",
              "\n",
              "  .colab-df-quickchart:hover {\n",
              "    background-color: var(--hover-bg-color);\n",
              "    box-shadow: 0 1px 2px rgba(60, 64, 67, 0.3), 0 1px 3px 1px rgba(60, 64, 67, 0.15);\n",
              "    fill: var(--button-hover-fill-color);\n",
              "  }\n",
              "\n",
              "  .colab-df-quickchart-complete:disabled,\n",
              "  .colab-df-quickchart-complete:disabled:hover {\n",
              "    background-color: var(--disabled-bg-color);\n",
              "    fill: var(--disabled-fill-color);\n",
              "    box-shadow: none;\n",
              "  }\n",
              "\n",
              "  .colab-df-spinner {\n",
              "    border: 2px solid var(--fill-color);\n",
              "    border-color: transparent;\n",
              "    border-bottom-color: var(--fill-color);\n",
              "    animation:\n",
              "      spin 1s steps(1) infinite;\n",
              "  }\n",
              "\n",
              "  @keyframes spin {\n",
              "    0% {\n",
              "      border-color: transparent;\n",
              "      border-bottom-color: var(--fill-color);\n",
              "      border-left-color: var(--fill-color);\n",
              "    }\n",
              "    20% {\n",
              "      border-color: transparent;\n",
              "      border-left-color: var(--fill-color);\n",
              "      border-top-color: var(--fill-color);\n",
              "    }\n",
              "    30% {\n",
              "      border-color: transparent;\n",
              "      border-left-color: var(--fill-color);\n",
              "      border-top-color: var(--fill-color);\n",
              "      border-right-color: var(--fill-color);\n",
              "    }\n",
              "    40% {\n",
              "      border-color: transparent;\n",
              "      border-right-color: var(--fill-color);\n",
              "      border-top-color: var(--fill-color);\n",
              "    }\n",
              "    60% {\n",
              "      border-color: transparent;\n",
              "      border-right-color: var(--fill-color);\n",
              "    }\n",
              "    80% {\n",
              "      border-color: transparent;\n",
              "      border-right-color: var(--fill-color);\n",
              "      border-bottom-color: var(--fill-color);\n",
              "    }\n",
              "    90% {\n",
              "      border-color: transparent;\n",
              "      border-bottom-color: var(--fill-color);\n",
              "    }\n",
              "  }\n",
              "</style>\n",
              "\n",
              "  <script>\n",
              "    async function quickchart(key) {\n",
              "      const quickchartButtonEl =\n",
              "        document.querySelector('#' + key + ' button');\n",
              "      quickchartButtonEl.disabled = true;  // To prevent multiple clicks.\n",
              "      quickchartButtonEl.classList.add('colab-df-spinner');\n",
              "      try {\n",
              "        const charts = await google.colab.kernel.invokeFunction(\n",
              "            'suggestCharts', [key], {});\n",
              "      } catch (error) {\n",
              "        console.error('Error during call to suggestCharts:', error);\n",
              "      }\n",
              "      quickchartButtonEl.classList.remove('colab-df-spinner');\n",
              "      quickchartButtonEl.classList.add('colab-df-quickchart-complete');\n",
              "    }\n",
              "    (() => {\n",
              "      let quickchartButtonEl =\n",
              "        document.querySelector('#df-b11ac777-1f8c-4b8d-8bde-68788b78e06b button');\n",
              "      quickchartButtonEl.style.display =\n",
              "        google.colab.kernel.accessAllowed ? 'block' : 'none';\n",
              "    })();\n",
              "  </script>\n",
              "</div>\n",
              "\n",
              "  <div id=\"id_49dcf07c-b24c-4fb5-a9a8-3cd72481a19e\">\n",
              "    <style>\n",
              "      .colab-df-generate {\n",
              "        background-color: #E8F0FE;\n",
              "        border: none;\n",
              "        border-radius: 50%;\n",
              "        cursor: pointer;\n",
              "        display: none;\n",
              "        fill: #1967D2;\n",
              "        height: 32px;\n",
              "        padding: 0 0 0 0;\n",
              "        width: 32px;\n",
              "      }\n",
              "\n",
              "      .colab-df-generate:hover {\n",
              "        background-color: #E2EBFA;\n",
              "        box-shadow: 0px 1px 2px rgba(60, 64, 67, 0.3), 0px 1px 3px 1px rgba(60, 64, 67, 0.15);\n",
              "        fill: #174EA6;\n",
              "      }\n",
              "\n",
              "      [theme=dark] .colab-df-generate {\n",
              "        background-color: #3B4455;\n",
              "        fill: #D2E3FC;\n",
              "      }\n",
              "\n",
              "      [theme=dark] .colab-df-generate:hover {\n",
              "        background-color: #434B5C;\n",
              "        box-shadow: 0px 1px 3px 1px rgba(0, 0, 0, 0.15);\n",
              "        filter: drop-shadow(0px 1px 2px rgba(0, 0, 0, 0.3));\n",
              "        fill: #FFFFFF;\n",
              "      }\n",
              "    </style>\n",
              "    <button class=\"colab-df-generate\" onclick=\"generateWithVariable('data')\"\n",
              "            title=\"Generate code using this dataframe.\"\n",
              "            style=\"display:none;\">\n",
              "\n",
              "  <svg xmlns=\"http://www.w3.org/2000/svg\" height=\"24px\"viewBox=\"0 0 24 24\"\n",
              "       width=\"24px\">\n",
              "    <path d=\"M7,19H8.4L18.45,9,17,7.55,7,17.6ZM5,21V16.75L18.45,3.32a2,2,0,0,1,2.83,0l1.4,1.43a1.91,1.91,0,0,1,.58,1.4,1.91,1.91,0,0,1-.58,1.4L9.25,21ZM18.45,9,17,7.55Zm-12,3A5.31,5.31,0,0,0,4.9,8.1,5.31,5.31,0,0,0,1,6.5,5.31,5.31,0,0,0,4.9,4.9,5.31,5.31,0,0,0,6.5,1,5.31,5.31,0,0,0,8.1,4.9,5.31,5.31,0,0,0,12,6.5,5.46,5.46,0,0,0,6.5,12Z\"/>\n",
              "  </svg>\n",
              "    </button>\n",
              "    <script>\n",
              "      (() => {\n",
              "      const buttonEl =\n",
              "        document.querySelector('#id_49dcf07c-b24c-4fb5-a9a8-3cd72481a19e button.colab-df-generate');\n",
              "      buttonEl.style.display =\n",
              "        google.colab.kernel.accessAllowed ? 'block' : 'none';\n",
              "\n",
              "      buttonEl.onclick = () => {\n",
              "        google.colab.notebook.generateWithVariable('data');\n",
              "      }\n",
              "      })();\n",
              "    </script>\n",
              "  </div>\n",
              "\n",
              "    </div>\n",
              "  </div>\n"
            ],
            "application/vnd.google.colaboratory.intrinsic+json": {
              "type": "dataframe",
              "variable_name": "data",
              "summary": "{\n  \"name\": \"data\",\n  \"rows\": 1025,\n  \"fields\": [\n    {\n      \"column\": \"age\",\n      \"properties\": {\n        \"dtype\": \"number\",\n        \"std\": 9,\n        \"min\": 29,\n        \"max\": 77,\n        \"num_unique_values\": 41,\n        \"samples\": [\n          65,\n          50,\n          54\n        ],\n        \"semantic_type\": \"\",\n        \"description\": \"\"\n      }\n    },\n    {\n      \"column\": \"sex\",\n      \"properties\": {\n        \"dtype\": \"number\",\n        \"std\": 0,\n        \"min\": 0,\n        \"max\": 1,\n        \"num_unique_values\": 2,\n        \"samples\": [\n          0,\n          1\n        ],\n        \"semantic_type\": \"\",\n        \"description\": \"\"\n      }\n    },\n    {\n      \"column\": \"cp\",\n      \"properties\": {\n        \"dtype\": \"number\",\n        \"std\": 1,\n        \"min\": 0,\n        \"max\": 3,\n        \"num_unique_values\": 4,\n        \"samples\": [\n          1,\n          3\n        ],\n        \"semantic_type\": \"\",\n        \"description\": \"\"\n      }\n    },\n    {\n      \"column\": \"trestbps\",\n      \"properties\": {\n        \"dtype\": \"number\",\n        \"std\": 17,\n        \"min\": 94,\n        \"max\": 200,\n        \"num_unique_values\": 49,\n        \"samples\": [\n          128,\n          172\n        ],\n        \"semantic_type\": \"\",\n        \"description\": \"\"\n      }\n    },\n    {\n      \"column\": \"chol\",\n      \"properties\": {\n        \"dtype\": \"number\",\n        \"std\": 51,\n        \"min\": 126,\n        \"max\": 564,\n        \"num_unique_values\": 152,\n        \"samples\": [\n          267,\n          262\n        ],\n        \"semantic_type\": \"\",\n        \"description\": \"\"\n      }\n    },\n    {\n      \"column\": \"fbs\",\n      \"properties\": {\n        \"dtype\": \"number\",\n        \"std\": 0,\n        \"min\": 0,\n        \"max\": 1,\n        \"num_unique_values\": 2,\n        \"samples\": [\n          1,\n          0\n        ],\n        \"semantic_type\": \"\",\n        \"description\": \"\"\n      }\n    },\n    {\n      \"column\": \"restecg\",\n      \"properties\": {\n        \"dtype\": \"number\",\n        \"std\": 0,\n        \"min\": 0,\n        \"max\": 2,\n        \"num_unique_values\": 3,\n        \"samples\": [\n          1,\n          0\n        ],\n        \"semantic_type\": \"\",\n        \"description\": \"\"\n      }\n    },\n    {\n      \"column\": \"thalach\",\n      \"properties\": {\n        \"dtype\": \"number\",\n        \"std\": 23,\n        \"min\": 71,\n        \"max\": 202,\n        \"num_unique_values\": 91,\n        \"samples\": [\n          180,\n          152\n        ],\n        \"semantic_type\": \"\",\n        \"description\": \"\"\n      }\n    },\n    {\n      \"column\": \"exang\",\n      \"properties\": {\n        \"dtype\": \"number\",\n        \"std\": 0,\n        \"min\": 0,\n        \"max\": 1,\n        \"num_unique_values\": 2,\n        \"samples\": [\n          1,\n          0\n        ],\n        \"semantic_type\": \"\",\n        \"description\": \"\"\n      }\n    },\n    {\n      \"column\": \"oldpeak\",\n      \"properties\": {\n        \"dtype\": \"number\",\n        \"std\": 1.175053255150176,\n        \"min\": 0.0,\n        \"max\": 6.2,\n        \"num_unique_values\": 40,\n        \"samples\": [\n          2.8,\n          0.4\n        ],\n        \"semantic_type\": \"\",\n        \"description\": \"\"\n      }\n    },\n    {\n      \"column\": \"slope\",\n      \"properties\": {\n        \"dtype\": \"number\",\n        \"std\": 0,\n        \"min\": 0,\n        \"max\": 2,\n        \"num_unique_values\": 3,\n        \"samples\": [\n          2,\n          0\n        ],\n        \"semantic_type\": \"\",\n        \"description\": \"\"\n      }\n    },\n    {\n      \"column\": \"ca\",\n      \"properties\": {\n        \"dtype\": \"number\",\n        \"std\": 1,\n        \"min\": 0,\n        \"max\": 4,\n        \"num_unique_values\": 5,\n        \"samples\": [\n          0,\n          4\n        ],\n        \"semantic_type\": \"\",\n        \"description\": \"\"\n      }\n    },\n    {\n      \"column\": \"thal\",\n      \"properties\": {\n        \"dtype\": \"number\",\n        \"std\": 0,\n        \"min\": 0,\n        \"max\": 3,\n        \"num_unique_values\": 4,\n        \"samples\": [\n          2,\n          0\n        ],\n        \"semantic_type\": \"\",\n        \"description\": \"\"\n      }\n    },\n    {\n      \"column\": \"target\",\n      \"properties\": {\n        \"dtype\": \"number\",\n        \"std\": 0,\n        \"min\": 0,\n        \"max\": 1,\n        \"num_unique_values\": 2,\n        \"samples\": [\n          1,\n          0\n        ],\n        \"semantic_type\": \"\",\n        \"description\": \"\"\n      }\n    }\n  ]\n}"
            }
          },
          "metadata": {},
          "execution_count": 3
        }
      ]
    },
    {
      "cell_type": "code",
      "source": [
        "data['target'].unique()"
      ],
      "metadata": {
        "colab": {
          "base_uri": "https://localhost:8080/"
        },
        "id": "Wa9WpowngkvH",
        "outputId": "c6486cb9-8024-4048-af22-1805f3f1e4cc"
      },
      "execution_count": null,
      "outputs": [
        {
          "output_type": "execute_result",
          "data": {
            "text/plain": [
              "array([0, 1])"
            ]
          },
          "metadata": {},
          "execution_count": 4
        }
      ]
    },
    {
      "cell_type": "code",
      "source": [
        "data.isna().sum()"
      ],
      "metadata": {
        "colab": {
          "base_uri": "https://localhost:8080/",
          "height": 523
        },
        "id": "bPlMRRH6gsAa",
        "outputId": "1efbff72-b808-4bb8-e93f-7ff636438a31"
      },
      "execution_count": null,
      "outputs": [
        {
          "output_type": "execute_result",
          "data": {
            "text/plain": [
              "age         0\n",
              "sex         0\n",
              "cp          0\n",
              "trestbps    0\n",
              "chol        0\n",
              "fbs         0\n",
              "restecg     0\n",
              "thalach     0\n",
              "exang       0\n",
              "oldpeak     0\n",
              "slope       0\n",
              "ca          0\n",
              "thal        0\n",
              "target      0\n",
              "dtype: int64"
            ],
            "text/html": [
              "<div>\n",
              "<style scoped>\n",
              "    .dataframe tbody tr th:only-of-type {\n",
              "        vertical-align: middle;\n",
              "    }\n",
              "\n",
              "    .dataframe tbody tr th {\n",
              "        vertical-align: top;\n",
              "    }\n",
              "\n",
              "    .dataframe thead th {\n",
              "        text-align: right;\n",
              "    }\n",
              "</style>\n",
              "<table border=\"1\" class=\"dataframe\">\n",
              "  <thead>\n",
              "    <tr style=\"text-align: right;\">\n",
              "      <th></th>\n",
              "      <th>0</th>\n",
              "    </tr>\n",
              "  </thead>\n",
              "  <tbody>\n",
              "    <tr>\n",
              "      <th>age</th>\n",
              "      <td>0</td>\n",
              "    </tr>\n",
              "    <tr>\n",
              "      <th>sex</th>\n",
              "      <td>0</td>\n",
              "    </tr>\n",
              "    <tr>\n",
              "      <th>cp</th>\n",
              "      <td>0</td>\n",
              "    </tr>\n",
              "    <tr>\n",
              "      <th>trestbps</th>\n",
              "      <td>0</td>\n",
              "    </tr>\n",
              "    <tr>\n",
              "      <th>chol</th>\n",
              "      <td>0</td>\n",
              "    </tr>\n",
              "    <tr>\n",
              "      <th>fbs</th>\n",
              "      <td>0</td>\n",
              "    </tr>\n",
              "    <tr>\n",
              "      <th>restecg</th>\n",
              "      <td>0</td>\n",
              "    </tr>\n",
              "    <tr>\n",
              "      <th>thalach</th>\n",
              "      <td>0</td>\n",
              "    </tr>\n",
              "    <tr>\n",
              "      <th>exang</th>\n",
              "      <td>0</td>\n",
              "    </tr>\n",
              "    <tr>\n",
              "      <th>oldpeak</th>\n",
              "      <td>0</td>\n",
              "    </tr>\n",
              "    <tr>\n",
              "      <th>slope</th>\n",
              "      <td>0</td>\n",
              "    </tr>\n",
              "    <tr>\n",
              "      <th>ca</th>\n",
              "      <td>0</td>\n",
              "    </tr>\n",
              "    <tr>\n",
              "      <th>thal</th>\n",
              "      <td>0</td>\n",
              "    </tr>\n",
              "    <tr>\n",
              "      <th>target</th>\n",
              "      <td>0</td>\n",
              "    </tr>\n",
              "  </tbody>\n",
              "</table>\n",
              "</div><br><label><b>dtype:</b> int64</label>"
            ]
          },
          "metadata": {},
          "execution_count": 5
        }
      ]
    },
    {
      "cell_type": "code",
      "source": [
        "data.duplicated().sum()"
      ],
      "metadata": {
        "colab": {
          "base_uri": "https://localhost:8080/"
        },
        "id": "egbqc7g8g21T",
        "outputId": "f554c965-258a-4aa6-829f-134b1582acd9"
      },
      "execution_count": null,
      "outputs": [
        {
          "output_type": "execute_result",
          "data": {
            "text/plain": [
              "723"
            ]
          },
          "metadata": {},
          "execution_count": 6
        }
      ]
    },
    {
      "cell_type": "code",
      "source": [
        "# import warnings\n",
        "# warnings.filterwarnings('ignore')\n",
        "# figure = bubbleplot(dataset = data, x_column = 'trestbps', y_column = 'chol'\n",
        "#     bubble_column = 'sex', time_column = 'age', size_column = 'oldpeak', color_column = 'sex',\n",
        "#     x_title = \"Resting Blood Pressure\", y_title = \"Cholestrol\", title = 'BP vs Chol. vs Age vs Sex vs Heart Rate',\n",
        "#     x_logscale = False, scale_bubble = 3, height = 650)\n",
        "# py.iplot(figure, config={'scrollzoom': True})\n",
        "figure = blp(\n",
        "    dataset = data,\n",
        "    x_column = 'trestbps',\n",
        "    y_column = 'chol',\n",
        "    bubble_column = 'sex',\n",
        "    time_column = 'age',\n",
        "    size_column = 'oldpeak',\n",
        "    color_column = 'sex',\n",
        "    x_title = \"Resting Blood Pressure\",\n",
        "    y_title = \"Cholestrol\",\n",
        "    title = 'BP vs Chol. vs Age vs Sex vs Heart Rate',\n",
        "    x_logscale = False,\n",
        "    scale_bubble = 3,\n",
        "    height = 650\n",
        ")\n",
        "\n",
        "py.iplot(figure, config={'scrollzoom': True})\n",
        "\n"
      ],
      "metadata": {
        "colab": {
          "base_uri": "https://localhost:8080/",
          "height": 667
        },
        "id": "M2Br-k1JhFf6",
        "outputId": "ead37460-a605-4f20-d3c7-b098cf3168d7"
      },
      "execution_count": null,
      "outputs": [
        {
          "output_type": "display_data",
          "data": {
            "application/vnd.plotly.v1+json": {
              "data": [
                {
                  "marker": {
                    "color": [
                      1,
                      1,
                      1,
                      1
                    ],
                    "size": [
                      0,
                      0,
                      0,
                      0
                    ],
                    "sizemode": "area",
                    "sizeref": 0.0006458333333333333
                  },
                  "mode": "markers",
                  "text": [
                    "1",
                    "1",
                    "1",
                    "1"
                  ],
                  "x": [
                    130,
                    130,
                    130,
                    130
                  ],
                  "y": [
                    204,
                    204,
                    204,
                    204
                  ],
                  "type": "scatter"
                }
              ],
              "layout": {
                "height": 650,
                "hovermode": "closest",
                "margin": {
                  "b": 50,
                  "pad": 5,
                  "t": 50
                },
                "showlegend": false,
                "sliders": [
                  {
                    "active": 0,
                    "currentvalue": {
                      "font": {
                        "size": 20
                      },
                      "prefix": "Year:",
                      "visible": true,
                      "xanchor": "right"
                    },
                    "len": 0.9,
                    "pad": {
                      "b": 10,
                      "t": 50
                    },
                    "steps": [
                      {
                        "args": [
                          [
                            52
                          ],
                          {
                            "frame": {
                              "duration": 300,
                              "redraw": false
                            },
                            "mode": "immediate",
                            "transition": {
                              "duration": 300
                            }
                          }
                        ],
                        "label": "52",
                        "method": "animate"
                      },
                      {
                        "args": [
                          [
                            53
                          ],
                          {
                            "frame": {
                              "duration": 300,
                              "redraw": false
                            },
                            "mode": "immediate",
                            "transition": {
                              "duration": 300
                            }
                          }
                        ],
                        "label": "53",
                        "method": "animate"
                      },
                      {
                        "args": [
                          [
                            70
                          ],
                          {
                            "frame": {
                              "duration": 300,
                              "redraw": false
                            },
                            "mode": "immediate",
                            "transition": {
                              "duration": 300
                            }
                          }
                        ],
                        "label": "70",
                        "method": "animate"
                      },
                      {
                        "args": [
                          [
                            61
                          ],
                          {
                            "frame": {
                              "duration": 300,
                              "redraw": false
                            },
                            "mode": "immediate",
                            "transition": {
                              "duration": 300
                            }
                          }
                        ],
                        "label": "61",
                        "method": "animate"
                      },
                      {
                        "args": [
                          [
                            62
                          ],
                          {
                            "frame": {
                              "duration": 300,
                              "redraw": false
                            },
                            "mode": "immediate",
                            "transition": {
                              "duration": 300
                            }
                          }
                        ],
                        "label": "62",
                        "method": "animate"
                      },
                      {
                        "args": [
                          [
                            58
                          ],
                          {
                            "frame": {
                              "duration": 300,
                              "redraw": false
                            },
                            "mode": "immediate",
                            "transition": {
                              "duration": 300
                            }
                          }
                        ],
                        "label": "58",
                        "method": "animate"
                      },
                      {
                        "args": [
                          [
                            55
                          ],
                          {
                            "frame": {
                              "duration": 300,
                              "redraw": false
                            },
                            "mode": "immediate",
                            "transition": {
                              "duration": 300
                            }
                          }
                        ],
                        "label": "55",
                        "method": "animate"
                      },
                      {
                        "args": [
                          [
                            46
                          ],
                          {
                            "frame": {
                              "duration": 300,
                              "redraw": false
                            },
                            "mode": "immediate",
                            "transition": {
                              "duration": 300
                            }
                          }
                        ],
                        "label": "46",
                        "method": "animate"
                      },
                      {
                        "args": [
                          [
                            54
                          ],
                          {
                            "frame": {
                              "duration": 300,
                              "redraw": false
                            },
                            "mode": "immediate",
                            "transition": {
                              "duration": 300
                            }
                          }
                        ],
                        "label": "54",
                        "method": "animate"
                      },
                      {
                        "args": [
                          [
                            71
                          ],
                          {
                            "frame": {
                              "duration": 300,
                              "redraw": false
                            },
                            "mode": "immediate",
                            "transition": {
                              "duration": 300
                            }
                          }
                        ],
                        "label": "71",
                        "method": "animate"
                      },
                      {
                        "args": [
                          [
                            43
                          ],
                          {
                            "frame": {
                              "duration": 300,
                              "redraw": false
                            },
                            "mode": "immediate",
                            "transition": {
                              "duration": 300
                            }
                          }
                        ],
                        "label": "43",
                        "method": "animate"
                      },
                      {
                        "args": [
                          [
                            34
                          ],
                          {
                            "frame": {
                              "duration": 300,
                              "redraw": false
                            },
                            "mode": "immediate",
                            "transition": {
                              "duration": 300
                            }
                          }
                        ],
                        "label": "34",
                        "method": "animate"
                      },
                      {
                        "args": [
                          [
                            51
                          ],
                          {
                            "frame": {
                              "duration": 300,
                              "redraw": false
                            },
                            "mode": "immediate",
                            "transition": {
                              "duration": 300
                            }
                          }
                        ],
                        "label": "51",
                        "method": "animate"
                      },
                      {
                        "args": [
                          [
                            50
                          ],
                          {
                            "frame": {
                              "duration": 300,
                              "redraw": false
                            },
                            "mode": "immediate",
                            "transition": {
                              "duration": 300
                            }
                          }
                        ],
                        "label": "50",
                        "method": "animate"
                      },
                      {
                        "args": [
                          [
                            60
                          ],
                          {
                            "frame": {
                              "duration": 300,
                              "redraw": false
                            },
                            "mode": "immediate",
                            "transition": {
                              "duration": 300
                            }
                          }
                        ],
                        "label": "60",
                        "method": "animate"
                      },
                      {
                        "args": [
                          [
                            67
                          ],
                          {
                            "frame": {
                              "duration": 300,
                              "redraw": false
                            },
                            "mode": "immediate",
                            "transition": {
                              "duration": 300
                            }
                          }
                        ],
                        "label": "67",
                        "method": "animate"
                      },
                      {
                        "args": [
                          [
                            45
                          ],
                          {
                            "frame": {
                              "duration": 300,
                              "redraw": false
                            },
                            "mode": "immediate",
                            "transition": {
                              "duration": 300
                            }
                          }
                        ],
                        "label": "45",
                        "method": "animate"
                      },
                      {
                        "args": [
                          [
                            63
                          ],
                          {
                            "frame": {
                              "duration": 300,
                              "redraw": false
                            },
                            "mode": "immediate",
                            "transition": {
                              "duration": 300
                            }
                          }
                        ],
                        "label": "63",
                        "method": "animate"
                      },
                      {
                        "args": [
                          [
                            42
                          ],
                          {
                            "frame": {
                              "duration": 300,
                              "redraw": false
                            },
                            "mode": "immediate",
                            "transition": {
                              "duration": 300
                            }
                          }
                        ],
                        "label": "42",
                        "method": "animate"
                      },
                      {
                        "args": [
                          [
                            44
                          ],
                          {
                            "frame": {
                              "duration": 300,
                              "redraw": false
                            },
                            "mode": "immediate",
                            "transition": {
                              "duration": 300
                            }
                          }
                        ],
                        "label": "44",
                        "method": "animate"
                      },
                      {
                        "args": [
                          [
                            56
                          ],
                          {
                            "frame": {
                              "duration": 300,
                              "redraw": false
                            },
                            "mode": "immediate",
                            "transition": {
                              "duration": 300
                            }
                          }
                        ],
                        "label": "56",
                        "method": "animate"
                      },
                      {
                        "args": [
                          [
                            57
                          ],
                          {
                            "frame": {
                              "duration": 300,
                              "redraw": false
                            },
                            "mode": "immediate",
                            "transition": {
                              "duration": 300
                            }
                          }
                        ],
                        "label": "57",
                        "method": "animate"
                      },
                      {
                        "args": [
                          [
                            59
                          ],
                          {
                            "frame": {
                              "duration": 300,
                              "redraw": false
                            },
                            "mode": "immediate",
                            "transition": {
                              "duration": 300
                            }
                          }
                        ],
                        "label": "59",
                        "method": "animate"
                      },
                      {
                        "args": [
                          [
                            64
                          ],
                          {
                            "frame": {
                              "duration": 300,
                              "redraw": false
                            },
                            "mode": "immediate",
                            "transition": {
                              "duration": 300
                            }
                          }
                        ],
                        "label": "64",
                        "method": "animate"
                      },
                      {
                        "args": [
                          [
                            65
                          ],
                          {
                            "frame": {
                              "duration": 300,
                              "redraw": false
                            },
                            "mode": "immediate",
                            "transition": {
                              "duration": 300
                            }
                          }
                        ],
                        "label": "65",
                        "method": "animate"
                      },
                      {
                        "args": [
                          [
                            41
                          ],
                          {
                            "frame": {
                              "duration": 300,
                              "redraw": false
                            },
                            "mode": "immediate",
                            "transition": {
                              "duration": 300
                            }
                          }
                        ],
                        "label": "41",
                        "method": "animate"
                      },
                      {
                        "args": [
                          [
                            66
                          ],
                          {
                            "frame": {
                              "duration": 300,
                              "redraw": false
                            },
                            "mode": "immediate",
                            "transition": {
                              "duration": 300
                            }
                          }
                        ],
                        "label": "66",
                        "method": "animate"
                      },
                      {
                        "args": [
                          [
                            38
                          ],
                          {
                            "frame": {
                              "duration": 300,
                              "redraw": false
                            },
                            "mode": "immediate",
                            "transition": {
                              "duration": 300
                            }
                          }
                        ],
                        "label": "38",
                        "method": "animate"
                      },
                      {
                        "args": [
                          [
                            49
                          ],
                          {
                            "frame": {
                              "duration": 300,
                              "redraw": false
                            },
                            "mode": "immediate",
                            "transition": {
                              "duration": 300
                            }
                          }
                        ],
                        "label": "49",
                        "method": "animate"
                      },
                      {
                        "args": [
                          [
                            48
                          ],
                          {
                            "frame": {
                              "duration": 300,
                              "redraw": false
                            },
                            "mode": "immediate",
                            "transition": {
                              "duration": 300
                            }
                          }
                        ],
                        "label": "48",
                        "method": "animate"
                      },
                      {
                        "args": [
                          [
                            29
                          ],
                          {
                            "frame": {
                              "duration": 300,
                              "redraw": false
                            },
                            "mode": "immediate",
                            "transition": {
                              "duration": 300
                            }
                          }
                        ],
                        "label": "29",
                        "method": "animate"
                      },
                      {
                        "args": [
                          [
                            37
                          ],
                          {
                            "frame": {
                              "duration": 300,
                              "redraw": false
                            },
                            "mode": "immediate",
                            "transition": {
                              "duration": 300
                            }
                          }
                        ],
                        "label": "37",
                        "method": "animate"
                      },
                      {
                        "args": [
                          [
                            47
                          ],
                          {
                            "frame": {
                              "duration": 300,
                              "redraw": false
                            },
                            "mode": "immediate",
                            "transition": {
                              "duration": 300
                            }
                          }
                        ],
                        "label": "47",
                        "method": "animate"
                      },
                      {
                        "args": [
                          [
                            68
                          ],
                          {
                            "frame": {
                              "duration": 300,
                              "redraw": false
                            },
                            "mode": "immediate",
                            "transition": {
                              "duration": 300
                            }
                          }
                        ],
                        "label": "68",
                        "method": "animate"
                      },
                      {
                        "args": [
                          [
                            76
                          ],
                          {
                            "frame": {
                              "duration": 300,
                              "redraw": false
                            },
                            "mode": "immediate",
                            "transition": {
                              "duration": 300
                            }
                          }
                        ],
                        "label": "76",
                        "method": "animate"
                      },
                      {
                        "args": [
                          [
                            40
                          ],
                          {
                            "frame": {
                              "duration": 300,
                              "redraw": false
                            },
                            "mode": "immediate",
                            "transition": {
                              "duration": 300
                            }
                          }
                        ],
                        "label": "40",
                        "method": "animate"
                      },
                      {
                        "args": [
                          [
                            39
                          ],
                          {
                            "frame": {
                              "duration": 300,
                              "redraw": false
                            },
                            "mode": "immediate",
                            "transition": {
                              "duration": 300
                            }
                          }
                        ],
                        "label": "39",
                        "method": "animate"
                      },
                      {
                        "args": [
                          [
                            77
                          ],
                          {
                            "frame": {
                              "duration": 300,
                              "redraw": false
                            },
                            "mode": "immediate",
                            "transition": {
                              "duration": 300
                            }
                          }
                        ],
                        "label": "77",
                        "method": "animate"
                      },
                      {
                        "args": [
                          [
                            69
                          ],
                          {
                            "frame": {
                              "duration": 300,
                              "redraw": false
                            },
                            "mode": "immediate",
                            "transition": {
                              "duration": 300
                            }
                          }
                        ],
                        "label": "69",
                        "method": "animate"
                      },
                      {
                        "args": [
                          [
                            35
                          ],
                          {
                            "frame": {
                              "duration": 300,
                              "redraw": false
                            },
                            "mode": "immediate",
                            "transition": {
                              "duration": 300
                            }
                          }
                        ],
                        "label": "35",
                        "method": "animate"
                      },
                      {
                        "args": [
                          [
                            74
                          ],
                          {
                            "frame": {
                              "duration": 300,
                              "redraw": false
                            },
                            "mode": "immediate",
                            "transition": {
                              "duration": 300
                            }
                          }
                        ],
                        "label": "74",
                        "method": "animate"
                      }
                    ],
                    "transition": {
                      "duration": 300,
                      "easing": "cubic-in-out"
                    },
                    "x": 0.1,
                    "xanchor": "left",
                    "y": 0,
                    "yanchor": "top"
                  }
                ],
                "template": {
                  "data": {
                    "barpolar": [
                      {
                        "marker": {
                          "line": {
                            "color": "#E5ECF6",
                            "width": 0.5
                          },
                          "pattern": {
                            "fillmode": "overlay",
                            "size": 10,
                            "solidity": 0.2
                          }
                        },
                        "type": "barpolar"
                      }
                    ],
                    "bar": [
                      {
                        "error_x": {
                          "color": "#2a3f5f"
                        },
                        "error_y": {
                          "color": "#2a3f5f"
                        },
                        "marker": {
                          "line": {
                            "color": "#E5ECF6",
                            "width": 0.5
                          },
                          "pattern": {
                            "fillmode": "overlay",
                            "size": 10,
                            "solidity": 0.2
                          }
                        },
                        "type": "bar"
                      }
                    ],
                    "carpet": [
                      {
                        "aaxis": {
                          "endlinecolor": "#2a3f5f",
                          "gridcolor": "white",
                          "linecolor": "white",
                          "minorgridcolor": "white",
                          "startlinecolor": "#2a3f5f"
                        },
                        "baxis": {
                          "endlinecolor": "#2a3f5f",
                          "gridcolor": "white",
                          "linecolor": "white",
                          "minorgridcolor": "white",
                          "startlinecolor": "#2a3f5f"
                        },
                        "type": "carpet"
                      }
                    ],
                    "choropleth": [
                      {
                        "colorbar": {
                          "outlinewidth": 0,
                          "ticks": ""
                        },
                        "type": "choropleth"
                      }
                    ],
                    "contourcarpet": [
                      {
                        "colorbar": {
                          "outlinewidth": 0,
                          "ticks": ""
                        },
                        "type": "contourcarpet"
                      }
                    ],
                    "contour": [
                      {
                        "colorbar": {
                          "outlinewidth": 0,
                          "ticks": ""
                        },
                        "colorscale": [
                          [
                            0,
                            "#0d0887"
                          ],
                          [
                            0.1111111111111111,
                            "#46039f"
                          ],
                          [
                            0.2222222222222222,
                            "#7201a8"
                          ],
                          [
                            0.3333333333333333,
                            "#9c179e"
                          ],
                          [
                            0.4444444444444444,
                            "#bd3786"
                          ],
                          [
                            0.5555555555555556,
                            "#d8576b"
                          ],
                          [
                            0.6666666666666666,
                            "#ed7953"
                          ],
                          [
                            0.7777777777777778,
                            "#fb9f3a"
                          ],
                          [
                            0.8888888888888888,
                            "#fdca26"
                          ],
                          [
                            1,
                            "#f0f921"
                          ]
                        ],
                        "type": "contour"
                      }
                    ],
                    "heatmapgl": [
                      {
                        "colorbar": {
                          "outlinewidth": 0,
                          "ticks": ""
                        },
                        "colorscale": [
                          [
                            0,
                            "#0d0887"
                          ],
                          [
                            0.1111111111111111,
                            "#46039f"
                          ],
                          [
                            0.2222222222222222,
                            "#7201a8"
                          ],
                          [
                            0.3333333333333333,
                            "#9c179e"
                          ],
                          [
                            0.4444444444444444,
                            "#bd3786"
                          ],
                          [
                            0.5555555555555556,
                            "#d8576b"
                          ],
                          [
                            0.6666666666666666,
                            "#ed7953"
                          ],
                          [
                            0.7777777777777778,
                            "#fb9f3a"
                          ],
                          [
                            0.8888888888888888,
                            "#fdca26"
                          ],
                          [
                            1,
                            "#f0f921"
                          ]
                        ],
                        "type": "heatmapgl"
                      }
                    ],
                    "heatmap": [
                      {
                        "colorbar": {
                          "outlinewidth": 0,
                          "ticks": ""
                        },
                        "colorscale": [
                          [
                            0,
                            "#0d0887"
                          ],
                          [
                            0.1111111111111111,
                            "#46039f"
                          ],
                          [
                            0.2222222222222222,
                            "#7201a8"
                          ],
                          [
                            0.3333333333333333,
                            "#9c179e"
                          ],
                          [
                            0.4444444444444444,
                            "#bd3786"
                          ],
                          [
                            0.5555555555555556,
                            "#d8576b"
                          ],
                          [
                            0.6666666666666666,
                            "#ed7953"
                          ],
                          [
                            0.7777777777777778,
                            "#fb9f3a"
                          ],
                          [
                            0.8888888888888888,
                            "#fdca26"
                          ],
                          [
                            1,
                            "#f0f921"
                          ]
                        ],
                        "type": "heatmap"
                      }
                    ],
                    "histogram2dcontour": [
                      {
                        "colorbar": {
                          "outlinewidth": 0,
                          "ticks": ""
                        },
                        "colorscale": [
                          [
                            0,
                            "#0d0887"
                          ],
                          [
                            0.1111111111111111,
                            "#46039f"
                          ],
                          [
                            0.2222222222222222,
                            "#7201a8"
                          ],
                          [
                            0.3333333333333333,
                            "#9c179e"
                          ],
                          [
                            0.4444444444444444,
                            "#bd3786"
                          ],
                          [
                            0.5555555555555556,
                            "#d8576b"
                          ],
                          [
                            0.6666666666666666,
                            "#ed7953"
                          ],
                          [
                            0.7777777777777778,
                            "#fb9f3a"
                          ],
                          [
                            0.8888888888888888,
                            "#fdca26"
                          ],
                          [
                            1,
                            "#f0f921"
                          ]
                        ],
                        "type": "histogram2dcontour"
                      }
                    ],
                    "histogram2d": [
                      {
                        "colorbar": {
                          "outlinewidth": 0,
                          "ticks": ""
                        },
                        "colorscale": [
                          [
                            0,
                            "#0d0887"
                          ],
                          [
                            0.1111111111111111,
                            "#46039f"
                          ],
                          [
                            0.2222222222222222,
                            "#7201a8"
                          ],
                          [
                            0.3333333333333333,
                            "#9c179e"
                          ],
                          [
                            0.4444444444444444,
                            "#bd3786"
                          ],
                          [
                            0.5555555555555556,
                            "#d8576b"
                          ],
                          [
                            0.6666666666666666,
                            "#ed7953"
                          ],
                          [
                            0.7777777777777778,
                            "#fb9f3a"
                          ],
                          [
                            0.8888888888888888,
                            "#fdca26"
                          ],
                          [
                            1,
                            "#f0f921"
                          ]
                        ],
                        "type": "histogram2d"
                      }
                    ],
                    "histogram": [
                      {
                        "marker": {
                          "pattern": {
                            "fillmode": "overlay",
                            "size": 10,
                            "solidity": 0.2
                          }
                        },
                        "type": "histogram"
                      }
                    ],
                    "mesh3d": [
                      {
                        "colorbar": {
                          "outlinewidth": 0,
                          "ticks": ""
                        },
                        "type": "mesh3d"
                      }
                    ],
                    "parcoords": [
                      {
                        "line": {
                          "colorbar": {
                            "outlinewidth": 0,
                            "ticks": ""
                          }
                        },
                        "type": "parcoords"
                      }
                    ],
                    "pie": [
                      {
                        "automargin": true,
                        "type": "pie"
                      }
                    ],
                    "scatter3d": [
                      {
                        "line": {
                          "colorbar": {
                            "outlinewidth": 0,
                            "ticks": ""
                          }
                        },
                        "marker": {
                          "colorbar": {
                            "outlinewidth": 0,
                            "ticks": ""
                          }
                        },
                        "type": "scatter3d"
                      }
                    ],
                    "scattercarpet": [
                      {
                        "marker": {
                          "colorbar": {
                            "outlinewidth": 0,
                            "ticks": ""
                          }
                        },
                        "type": "scattercarpet"
                      }
                    ],
                    "scattergeo": [
                      {
                        "marker": {
                          "colorbar": {
                            "outlinewidth": 0,
                            "ticks": ""
                          }
                        },
                        "type": "scattergeo"
                      }
                    ],
                    "scattergl": [
                      {
                        "marker": {
                          "colorbar": {
                            "outlinewidth": 0,
                            "ticks": ""
                          }
                        },
                        "type": "scattergl"
                      }
                    ],
                    "scattermapbox": [
                      {
                        "marker": {
                          "colorbar": {
                            "outlinewidth": 0,
                            "ticks": ""
                          }
                        },
                        "type": "scattermapbox"
                      }
                    ],
                    "scatterpolargl": [
                      {
                        "marker": {
                          "colorbar": {
                            "outlinewidth": 0,
                            "ticks": ""
                          }
                        },
                        "type": "scatterpolargl"
                      }
                    ],
                    "scatterpolar": [
                      {
                        "marker": {
                          "colorbar": {
                            "outlinewidth": 0,
                            "ticks": ""
                          }
                        },
                        "type": "scatterpolar"
                      }
                    ],
                    "scatter": [
                      {
                        "fillpattern": {
                          "fillmode": "overlay",
                          "size": 10,
                          "solidity": 0.2
                        },
                        "type": "scatter"
                      }
                    ],
                    "scatterternary": [
                      {
                        "marker": {
                          "colorbar": {
                            "outlinewidth": 0,
                            "ticks": ""
                          }
                        },
                        "type": "scatterternary"
                      }
                    ],
                    "surface": [
                      {
                        "colorbar": {
                          "outlinewidth": 0,
                          "ticks": ""
                        },
                        "colorscale": [
                          [
                            0,
                            "#0d0887"
                          ],
                          [
                            0.1111111111111111,
                            "#46039f"
                          ],
                          [
                            0.2222222222222222,
                            "#7201a8"
                          ],
                          [
                            0.3333333333333333,
                            "#9c179e"
                          ],
                          [
                            0.4444444444444444,
                            "#bd3786"
                          ],
                          [
                            0.5555555555555556,
                            "#d8576b"
                          ],
                          [
                            0.6666666666666666,
                            "#ed7953"
                          ],
                          [
                            0.7777777777777778,
                            "#fb9f3a"
                          ],
                          [
                            0.8888888888888888,
                            "#fdca26"
                          ],
                          [
                            1,
                            "#f0f921"
                          ]
                        ],
                        "type": "surface"
                      }
                    ],
                    "table": [
                      {
                        "cells": {
                          "fill": {
                            "color": "#EBF0F8"
                          },
                          "line": {
                            "color": "white"
                          }
                        },
                        "header": {
                          "fill": {
                            "color": "#C8D4E3"
                          },
                          "line": {
                            "color": "white"
                          }
                        },
                        "type": "table"
                      }
                    ]
                  },
                  "layout": {
                    "annotationdefaults": {
                      "arrowcolor": "#2a3f5f",
                      "arrowhead": 0,
                      "arrowwidth": 1
                    },
                    "autotypenumbers": "strict",
                    "coloraxis": {
                      "colorbar": {
                        "outlinewidth": 0,
                        "ticks": ""
                      }
                    },
                    "colorscale": {
                      "diverging": [
                        [
                          0,
                          "#8e0152"
                        ],
                        [
                          0.1,
                          "#c51b7d"
                        ],
                        [
                          0.2,
                          "#de77ae"
                        ],
                        [
                          0.3,
                          "#f1b6da"
                        ],
                        [
                          0.4,
                          "#fde0ef"
                        ],
                        [
                          0.5,
                          "#f7f7f7"
                        ],
                        [
                          0.6,
                          "#e6f5d0"
                        ],
                        [
                          0.7,
                          "#b8e186"
                        ],
                        [
                          0.8,
                          "#7fbc41"
                        ],
                        [
                          0.9,
                          "#4d9221"
                        ],
                        [
                          1,
                          "#276419"
                        ]
                      ],
                      "sequential": [
                        [
                          0,
                          "#0d0887"
                        ],
                        [
                          0.1111111111111111,
                          "#46039f"
                        ],
                        [
                          0.2222222222222222,
                          "#7201a8"
                        ],
                        [
                          0.3333333333333333,
                          "#9c179e"
                        ],
                        [
                          0.4444444444444444,
                          "#bd3786"
                        ],
                        [
                          0.5555555555555556,
                          "#d8576b"
                        ],
                        [
                          0.6666666666666666,
                          "#ed7953"
                        ],
                        [
                          0.7777777777777778,
                          "#fb9f3a"
                        ],
                        [
                          0.8888888888888888,
                          "#fdca26"
                        ],
                        [
                          1,
                          "#f0f921"
                        ]
                      ],
                      "sequentialminus": [
                        [
                          0,
                          "#0d0887"
                        ],
                        [
                          0.1111111111111111,
                          "#46039f"
                        ],
                        [
                          0.2222222222222222,
                          "#7201a8"
                        ],
                        [
                          0.3333333333333333,
                          "#9c179e"
                        ],
                        [
                          0.4444444444444444,
                          "#bd3786"
                        ],
                        [
                          0.5555555555555556,
                          "#d8576b"
                        ],
                        [
                          0.6666666666666666,
                          "#ed7953"
                        ],
                        [
                          0.7777777777777778,
                          "#fb9f3a"
                        ],
                        [
                          0.8888888888888888,
                          "#fdca26"
                        ],
                        [
                          1,
                          "#f0f921"
                        ]
                      ]
                    },
                    "colorway": [
                      "#636efa",
                      "#EF553B",
                      "#00cc96",
                      "#ab63fa",
                      "#FFA15A",
                      "#19d3f3",
                      "#FF6692",
                      "#B6E880",
                      "#FF97FF",
                      "#FECB52"
                    ],
                    "font": {
                      "color": "#2a3f5f"
                    },
                    "geo": {
                      "bgcolor": "white",
                      "lakecolor": "white",
                      "landcolor": "#E5ECF6",
                      "showlakes": true,
                      "showland": true,
                      "subunitcolor": "white"
                    },
                    "hoverlabel": {
                      "align": "left"
                    },
                    "hovermode": "closest",
                    "mapbox": {
                      "style": "light"
                    },
                    "paper_bgcolor": "white",
                    "plot_bgcolor": "#E5ECF6",
                    "polar": {
                      "angularaxis": {
                        "gridcolor": "white",
                        "linecolor": "white",
                        "ticks": ""
                      },
                      "bgcolor": "#E5ECF6",
                      "radialaxis": {
                        "gridcolor": "white",
                        "linecolor": "white",
                        "ticks": ""
                      }
                    },
                    "scene": {
                      "xaxis": {
                        "backgroundcolor": "#E5ECF6",
                        "gridcolor": "white",
                        "gridwidth": 2,
                        "linecolor": "white",
                        "showbackground": true,
                        "ticks": "",
                        "zerolinecolor": "white"
                      },
                      "yaxis": {
                        "backgroundcolor": "#E5ECF6",
                        "gridcolor": "white",
                        "gridwidth": 2,
                        "linecolor": "white",
                        "showbackground": true,
                        "ticks": "",
                        "zerolinecolor": "white"
                      },
                      "zaxis": {
                        "backgroundcolor": "#E5ECF6",
                        "gridcolor": "white",
                        "gridwidth": 2,
                        "linecolor": "white",
                        "showbackground": true,
                        "ticks": "",
                        "zerolinecolor": "white"
                      }
                    },
                    "shapedefaults": {
                      "line": {
                        "color": "#2a3f5f"
                      }
                    },
                    "ternary": {
                      "aaxis": {
                        "gridcolor": "white",
                        "linecolor": "white",
                        "ticks": ""
                      },
                      "baxis": {
                        "gridcolor": "white",
                        "linecolor": "white",
                        "ticks": ""
                      },
                      "bgcolor": "#E5ECF6",
                      "caxis": {
                        "gridcolor": "white",
                        "linecolor": "white",
                        "ticks": ""
                      }
                    },
                    "title": {
                      "x": 0.05
                    },
                    "xaxis": {
                      "automargin": true,
                      "gridcolor": "white",
                      "linecolor": "white",
                      "ticks": "",
                      "title": {
                        "standoff": 15
                      },
                      "zerolinecolor": "white",
                      "zerolinewidth": 2
                    },
                    "yaxis": {
                      "automargin": true,
                      "gridcolor": "white",
                      "linecolor": "white",
                      "ticks": "",
                      "title": {
                        "standoff": 15
                      },
                      "zerolinecolor": "white",
                      "zerolinewidth": 2
                    }
                  }
                },
                "title": {
                  "text": "BP vs Chol. vs Age vs Sex vs Heart Rate"
                },
                "updatemenus": [
                  {
                    "buttons": [
                      {
                        "args": [
                          null,
                          {
                            "frame": {
                              "duration": 500,
                              "redraw": false
                            },
                            "fromcurrent": true,
                            "transition": {
                              "duration": 300,
                              "easing": "quadratic-in-out"
                            }
                          }
                        ],
                        "label": "Play",
                        "method": "animate"
                      },
                      {
                        "args": [
                          [
                            null
                          ],
                          {
                            "frame": {
                              "duration": 0,
                              "redraw": false
                            },
                            "mode": "immediate",
                            "transition": {
                              "duration": 0
                            }
                          }
                        ],
                        "label": "Pause",
                        "method": "animate"
                      }
                    ],
                    "direction": "left",
                    "pad": {
                      "r": 10,
                      "t": 87
                    },
                    "showactive": false,
                    "type": "buttons",
                    "x": 0.1,
                    "xanchor": "right",
                    "y": 0,
                    "yanchor": "top"
                  }
                ],
                "xaxis": {
                  "autorange": false,
                  "range": [
                    65.8,
                    280
                  ],
                  "title": {
                    "text": "Resting Blood Pressure"
                  }
                },
                "yaxis": {
                  "autorange": false,
                  "range": [
                    88.19999999999999,
                    789.5999999999999
                  ],
                  "title": {
                    "text": "Cholestrol"
                  }
                }
              },
              "frames": [
                {
                  "data": [
                    {
                      "marker": {
                        "color": [
                          1,
                          1,
                          1,
                          1,
                          1,
                          1,
                          1,
                          1,
                          1,
                          1,
                          1,
                          0,
                          1,
                          1,
                          1,
                          1,
                          1,
                          1,
                          1,
                          1,
                          1,
                          1,
                          1,
                          1,
                          1,
                          1,
                          1,
                          1,
                          1,
                          1,
                          1,
                          1,
                          1,
                          1,
                          1,
                          0,
                          0,
                          1,
                          1,
                          1,
                          1,
                          1,
                          1
                        ],
                        "size": [
                          1,
                          1,
                          0.8,
                          0.8,
                          0,
                          0,
                          1.2,
                          1.2,
                          0,
                          0,
                          0.2,
                          0.1,
                          0.5,
                          0,
                          0,
                          0,
                          0,
                          0,
                          0.2,
                          1.2,
                          1,
                          1,
                          1,
                          0.1,
                          0,
                          1,
                          0,
                          0,
                          0.5,
                          0,
                          0,
                          0,
                          1,
                          1,
                          0.8,
                          0.1,
                          0.1,
                          0.1,
                          0.2,
                          0.5,
                          0,
                          0,
                          0.1
                        ],
                        "sizemode": "area",
                        "sizeref": 0.0006458333333333333
                      },
                      "mode": "markers",
                      "text": [
                        "1",
                        "1",
                        "1",
                        "1",
                        "1",
                        "1",
                        "1",
                        "1",
                        "1",
                        "1",
                        "1",
                        "0",
                        "1",
                        "1",
                        "1",
                        "1",
                        "1",
                        "1",
                        "1",
                        "1",
                        "1",
                        "1",
                        "1",
                        "1",
                        "1",
                        "1",
                        "1",
                        "1",
                        "1",
                        "1",
                        "1",
                        "1",
                        "1",
                        "1",
                        "1",
                        "0",
                        "0",
                        "1",
                        "1",
                        "1",
                        "1",
                        "1",
                        "1"
                      ],
                      "x": [
                        125,
                        128,
                        134,
                        134,
                        118,
                        138,
                        152,
                        152,
                        128,
                        138,
                        120,
                        136,
                        172,
                        118,
                        138,
                        128,
                        112,
                        118,
                        120,
                        152,
                        125,
                        125,
                        128,
                        108,
                        112,
                        128,
                        128,
                        112,
                        172,
                        128,
                        128,
                        112,
                        125,
                        128,
                        134,
                        136,
                        136,
                        108,
                        120,
                        172,
                        118,
                        128,
                        108
                      ],
                      "y": [
                        212,
                        204,
                        201,
                        201,
                        186,
                        223,
                        298,
                        298,
                        205,
                        223,
                        325,
                        196,
                        199,
                        186,
                        223,
                        205,
                        230,
                        186,
                        325,
                        298,
                        212,
                        212,
                        204,
                        233,
                        230,
                        204,
                        255,
                        230,
                        199,
                        255,
                        255,
                        230,
                        212,
                        204,
                        201,
                        196,
                        196,
                        233,
                        325,
                        199,
                        186,
                        205,
                        233
                      ],
                      "type": "scatter"
                    }
                  ],
                  "name": "52"
                },
                {
                  "data": [
                    {
                      "marker": {
                        "color": [
                          1,
                          1,
                          1,
                          1,
                          1,
                          1,
                          0,
                          0,
                          0,
                          0,
                          1,
                          1,
                          1,
                          0,
                          1,
                          0,
                          0,
                          1,
                          1,
                          1,
                          1,
                          0,
                          1,
                          0,
                          1,
                          1
                        ],
                        "size": [
                          3.1,
                          1.2,
                          2,
                          0,
                          1.2,
                          2,
                          0,
                          0.4,
                          0,
                          0,
                          0,
                          0,
                          0,
                          0,
                          1.2,
                          0,
                          0.4,
                          3.1,
                          2,
                          0,
                          3.1,
                          0,
                          0,
                          0.4,
                          3.1,
                          2
                        ],
                        "sizemode": "area",
                        "sizeref": 0.0006458333333333333
                      },
                      "mode": "markers",
                      "text": [
                        "1",
                        "1",
                        "1",
                        "1",
                        "1",
                        "1",
                        "0",
                        "0",
                        "0",
                        "0",
                        "1",
                        "1",
                        "1",
                        "0",
                        "1",
                        "0",
                        "0",
                        "1",
                        "1",
                        "1",
                        "1",
                        "0",
                        "1",
                        "0",
                        "1",
                        "1"
                      ],
                      "x": [
                        140,
                        130,
                        123,
                        142,
                        130,
                        123,
                        128,
                        130,
                        128,
                        128,
                        130,
                        130,
                        130,
                        138,
                        130,
                        138,
                        130,
                        140,
                        123,
                        142,
                        140,
                        138,
                        142,
                        130,
                        140,
                        123
                      ],
                      "y": [
                        203,
                        197,
                        282,
                        226,
                        197,
                        282,
                        216,
                        264,
                        216,
                        216,
                        246,
                        246,
                        246,
                        234,
                        197,
                        234,
                        264,
                        203,
                        282,
                        226,
                        203,
                        234,
                        226,
                        264,
                        203,
                        282
                      ],
                      "type": "scatter"
                    }
                  ],
                  "name": "53"
                },
                {
                  "data": [
                    {
                      "marker": {
                        "color": [
                          1,
                          1,
                          1,
                          1,
                          1,
                          1,
                          1,
                          1,
                          1,
                          1,
                          1,
                          1,
                          1,
                          1
                        ],
                        "size": [
                          2.6,
                          2.9,
                          2.9,
                          2.4,
                          0,
                          2.4,
                          2.4,
                          2.4,
                          2.9,
                          0,
                          0,
                          2.6,
                          2.6,
                          2.6
                        ],
                        "sizemode": "area",
                        "sizeref": 0.0006458333333333333
                      },
                      "mode": "markers",
                      "text": [
                        "1",
                        "1",
                        "1",
                        "1",
                        "1",
                        "1",
                        "1",
                        "1",
                        "1",
                        "1",
                        "1",
                        "1",
                        "1",
                        "1"
                      ],
                      "x": [
                        145,
                        160,
                        160,
                        130,
                        156,
                        130,
                        130,
                        130,
                        160,
                        156,
                        156,
                        145,
                        145,
                        145
                      ],
                      "y": [
                        174,
                        269,
                        269,
                        322,
                        245,
                        322,
                        322,
                        322,
                        269,
                        245,
                        245,
                        174,
                        174,
                        174
                      ],
                      "type": "scatter"
                    }
                  ],
                  "name": "70"
                },
                {
                  "data": [
                    {
                      "marker": {
                        "color": [
                          1,
                          0,
                          0,
                          1,
                          0,
                          1,
                          1,
                          1,
                          1,
                          1,
                          1,
                          1,
                          1,
                          1,
                          1,
                          0,
                          1,
                          1,
                          1,
                          1,
                          0,
                          0,
                          0,
                          1,
                          1,
                          1,
                          1,
                          1,
                          1,
                          1,
                          0
                        ],
                        "size": [
                          0,
                          1,
                          0,
                          1.9,
                          1,
                          3.6,
                          2.6,
                          1,
                          3.6,
                          1.9,
                          1,
                          1,
                          3.6,
                          0,
                          0,
                          1,
                          0,
                          2.6,
                          3.6,
                          3.6,
                          0,
                          0,
                          1,
                          2.6,
                          1.9,
                          3.6,
                          3.6,
                          1.9,
                          3.6,
                          2.6,
                          0
                        ],
                        "sizemode": "area",
                        "sizeref": 0.0006458333333333333
                      },
                      "mode": "markers",
                      "text": [
                        "1",
                        "0",
                        "0",
                        "1",
                        "0",
                        "1",
                        "1",
                        "1",
                        "1",
                        "1",
                        "1",
                        "1",
                        "1",
                        "1",
                        "1",
                        "0",
                        "1",
                        "1",
                        "1",
                        "1",
                        "0",
                        "0",
                        "0",
                        "1",
                        "1",
                        "1",
                        "1",
                        "1",
                        "1",
                        "1",
                        "0"
                      ],
                      "x": [
                        148,
                        145,
                        130,
                        140,
                        145,
                        120,
                        134,
                        150,
                        120,
                        140,
                        150,
                        150,
                        120,
                        148,
                        148,
                        145,
                        148,
                        134,
                        138,
                        138,
                        130,
                        130,
                        145,
                        134,
                        140,
                        138,
                        138,
                        140,
                        120,
                        134,
                        130
                      ],
                      "y": [
                        203,
                        307,
                        330,
                        207,
                        307,
                        260,
                        234,
                        243,
                        260,
                        207,
                        243,
                        243,
                        260,
                        203,
                        203,
                        307,
                        203,
                        234,
                        166,
                        166,
                        330,
                        330,
                        307,
                        234,
                        207,
                        166,
                        166,
                        207,
                        260,
                        234,
                        330
                      ],
                      "type": "scatter"
                    }
                  ],
                  "name": "61"
                },
                {
                  "data": [
                    {
                      "marker": {
                        "color": [
                          0,
                          0,
                          0,
                          0,
                          1,
                          1,
                          0,
                          1,
                          0,
                          0,
                          1,
                          0,
                          1,
                          0,
                          0,
                          0,
                          1,
                          0,
                          0,
                          0,
                          0,
                          0,
                          0,
                          1,
                          0,
                          0,
                          1,
                          1,
                          0,
                          1,
                          0,
                          0,
                          0,
                          1,
                          0,
                          1,
                          1
                        ],
                        "size": [
                          1.9,
                          6.2,
                          3.6,
                          0,
                          0,
                          1.4,
                          0,
                          1.4,
                          1.4,
                          1.2,
                          1.8,
                          1.2,
                          1.8,
                          6.2,
                          0,
                          1.4,
                          1.4,
                          6.2,
                          0,
                          1.2,
                          1.2,
                          1.2,
                          1.9,
                          1.8,
                          1.4,
                          1.9,
                          1.4,
                          0,
                          3.6,
                          0,
                          3.6,
                          1.2,
                          3.6,
                          1.8,
                          1.2,
                          1.8,
                          1.8
                        ],
                        "sizemode": "area",
                        "sizeref": 0.0006458333333333333
                      },
                      "mode": "markers",
                      "text": [
                        "0",
                        "0",
                        "0",
                        "0",
                        "1",
                        "1",
                        "0",
                        "1",
                        "0",
                        "0",
                        "1",
                        "0",
                        "1",
                        "0",
                        "0",
                        "0",
                        "1",
                        "0",
                        "0",
                        "0",
                        "0",
                        "0",
                        "0",
                        "1",
                        "0",
                        "0",
                        "1",
                        "1",
                        "0",
                        "1",
                        "0",
                        "0",
                        "0",
                        "1",
                        "0",
                        "1",
                        "1"
                      ],
                      "x": [
                        138,
                        160,
                        140,
                        124,
                        128,
                        120,
                        124,
                        120,
                        150,
                        140,
                        120,
                        130,
                        130,
                        160,
                        124,
                        150,
                        120,
                        160,
                        124,
                        140,
                        140,
                        130,
                        138,
                        120,
                        150,
                        138,
                        120,
                        128,
                        140,
                        128,
                        140,
                        130,
                        140,
                        120,
                        130,
                        130,
                        130
                      ],
                      "y": [
                        294,
                        164,
                        268,
                        209,
                        208,
                        281,
                        209,
                        281,
                        244,
                        394,
                        267,
                        263,
                        231,
                        164,
                        209,
                        244,
                        281,
                        164,
                        209,
                        394,
                        394,
                        263,
                        294,
                        267,
                        244,
                        294,
                        281,
                        208,
                        268,
                        208,
                        268,
                        263,
                        268,
                        267,
                        263,
                        231,
                        231
                      ],
                      "type": "scatter"
                    }
                  ],
                  "name": "62"
                },
                {
                  "data": [
                    {
                      "marker": {
                        "color": [
                          0,
                          1,
                          1,
                          0,
                          0,
                          1,
                          0,
                          1,
                          1,
                          1,
                          1,
                          0,
                          1,
                          1,
                          0,
                          1,
                          1,
                          1,
                          1,
                          1,
                          1,
                          1,
                          1,
                          1,
                          0,
                          1,
                          1,
                          0,
                          1,
                          0,
                          1,
                          1,
                          1,
                          1,
                          1,
                          0,
                          1,
                          1,
                          0,
                          0,
                          1,
                          0,
                          0,
                          1,
                          0,
                          1,
                          1,
                          1,
                          1,
                          1,
                          1,
                          1,
                          0,
                          1,
                          0,
                          1,
                          0,
                          1,
                          1,
                          0,
                          1,
                          0,
                          1,
                          0,
                          1,
                          1,
                          1,
                          1
                        ],
                        "size": [
                          1,
                          4.4,
                          0,
                          0,
                          1,
                          0,
                          2.8,
                          4.4,
                          0,
                          0.1,
                          0,
                          2.8,
                          3.2,
                          3.2,
                          0,
                          3,
                          0.8,
                          0.8,
                          2.5,
                          0.6,
                          1.8,
                          2,
                          3.2,
                          0.8,
                          0,
                          0,
                          0.1,
                          0,
                          1.8,
                          0.6,
                          2.2,
                          0.4,
                          2.5,
                          3,
                          0.1,
                          0.6,
                          2,
                          1.8,
                          0,
                          2.8,
                          3.2,
                          0,
                          0.6,
                          4.4,
                          1,
                          0.1,
                          0,
                          0.6,
                          2.2,
                          0,
                          0.4,
                          0.4,
                          1,
                          2,
                          0.6,
                          0.6,
                          2.8,
                          0.4,
                          2.5,
                          1,
                          1.8,
                          0,
                          2,
                          1,
                          3,
                          0,
                          4.4,
                          2.2
                        ],
                        "sizemode": "area",
                        "sizeref": 0.0006458333333333333
                      },
                      "mode": "markers",
                      "text": [
                        "0",
                        "1",
                        "1",
                        "0",
                        "0",
                        "1",
                        "0",
                        "1",
                        "1",
                        "1",
                        "1",
                        "0",
                        "1",
                        "1",
                        "0",
                        "1",
                        "1",
                        "1",
                        "1",
                        "1",
                        "1",
                        "1",
                        "1",
                        "1",
                        "0",
                        "1",
                        "1",
                        "0",
                        "1",
                        "0",
                        "1",
                        "1",
                        "1",
                        "1",
                        "1",
                        "0",
                        "1",
                        "1",
                        "0",
                        "0",
                        "1",
                        "0",
                        "0",
                        "1",
                        "0",
                        "1",
                        "1",
                        "1",
                        "1",
                        "1",
                        "1",
                        "1",
                        "0",
                        "1",
                        "0",
                        "1",
                        "0",
                        "1",
                        "1",
                        "0",
                        "1",
                        "0",
                        "1",
                        "0",
                        "1",
                        "1",
                        "1",
                        "1"
                      ],
                      "x": [
                        100,
                        114,
                        140,
                        136,
                        150,
                        140,
                        170,
                        114,
                        125,
                        100,
                        125,
                        170,
                        132,
                        132,
                        120,
                        128,
                        150,
                        150,
                        112,
                        105,
                        120,
                        146,
                        132,
                        150,
                        136,
                        140,
                        100,
                        136,
                        120,
                        130,
                        128,
                        125,
                        112,
                        128,
                        100,
                        130,
                        146,
                        120,
                        120,
                        170,
                        132,
                        120,
                        130,
                        114,
                        100,
                        100,
                        125,
                        105,
                        128,
                        125,
                        125,
                        125,
                        150,
                        146,
                        130,
                        105,
                        170,
                        125,
                        112,
                        150,
                        120,
                        136,
                        146,
                        100,
                        128,
                        140,
                        114,
                        128
                      ],
                      "y": [
                        248,
                        318,
                        211,
                        319,
                        283,
                        211,
                        225,
                        318,
                        300,
                        234,
                        300,
                        225,
                        224,
                        224,
                        340,
                        259,
                        270,
                        270,
                        230,
                        240,
                        284,
                        218,
                        224,
                        270,
                        319,
                        211,
                        234,
                        319,
                        284,
                        197,
                        216,
                        220,
                        230,
                        259,
                        234,
                        197,
                        218,
                        284,
                        340,
                        225,
                        224,
                        340,
                        197,
                        318,
                        248,
                        234,
                        300,
                        240,
                        216,
                        300,
                        220,
                        220,
                        283,
                        218,
                        197,
                        240,
                        225,
                        220,
                        230,
                        283,
                        284,
                        319,
                        218,
                        248,
                        259,
                        211,
                        318,
                        216
                      ],
                      "type": "scatter"
                    }
                  ],
                  "name": "58"
                },
                {
                  "data": [
                    {
                      "marker": {
                        "color": [
                          1,
                          0,
                          0,
                          1,
                          1,
                          0,
                          1,
                          0,
                          1,
                          0,
                          1,
                          1,
                          1,
                          0,
                          1,
                          1,
                          0,
                          0,
                          1,
                          0,
                          0,
                          0,
                          0,
                          1,
                          1,
                          1,
                          0,
                          1,
                          0,
                          0
                        ],
                        "size": [
                          0.8,
                          3.4,
                          1.2,
                          5.6,
                          5.6,
                          1.2,
                          1.2,
                          1.2,
                          0.8,
                          1.2,
                          1.2,
                          0.8,
                          1.2,
                          3.4,
                          0,
                          1.2,
                          3.4,
                          2,
                          5.6,
                          1.4,
                          2,
                          1.4,
                          1.4,
                          0,
                          0.8,
                          5.6,
                          2,
                          0,
                          3.4,
                          2
                        ],
                        "sizemode": "area",
                        "sizeref": 0.0006458333333333333
                      },
                      "mode": "markers",
                      "text": [
                        "1",
                        "0",
                        "0",
                        "1",
                        "1",
                        "0",
                        "1",
                        "0",
                        "1",
                        "0",
                        "1",
                        "1",
                        "1",
                        "0",
                        "1",
                        "1",
                        "0",
                        "0",
                        "1",
                        "0",
                        "0",
                        "0",
                        "0",
                        "1",
                        "1",
                        "1",
                        "0",
                        "1",
                        "0",
                        "0"
                      ],
                      "x": [
                        160,
                        180,
                        132,
                        140,
                        140,
                        132,
                        132,
                        132,
                        160,
                        132,
                        132,
                        160,
                        132,
                        180,
                        130,
                        132,
                        180,
                        128,
                        140,
                        135,
                        128,
                        135,
                        135,
                        130,
                        160,
                        140,
                        128,
                        130,
                        180,
                        128
                      ],
                      "y": [
                        289,
                        327,
                        342,
                        217,
                        217,
                        342,
                        353,
                        342,
                        289,
                        342,
                        353,
                        289,
                        353,
                        327,
                        262,
                        353,
                        327,
                        205,
                        217,
                        250,
                        205,
                        250,
                        250,
                        262,
                        289,
                        217,
                        205,
                        262,
                        327,
                        205
                      ],
                      "type": "scatter"
                    }
                  ],
                  "name": "55"
                },
                {
                  "data": [
                    {
                      "marker": {
                        "color": [
                          1,
                          1,
                          1,
                          1,
                          1,
                          1,
                          0,
                          0,
                          0,
                          0,
                          0,
                          1,
                          0,
                          0,
                          1,
                          1,
                          1,
                          0,
                          1,
                          0,
                          1,
                          1,
                          1
                        ],
                        "size": [
                          0.8,
                          3.6,
                          0.8,
                          3.6,
                          1.8,
                          1.8,
                          0,
                          0,
                          1.4,
                          0,
                          0,
                          3.6,
                          1.4,
                          1.4,
                          0.8,
                          0,
                          1.8,
                          0,
                          1.8,
                          0,
                          0,
                          0,
                          0.8
                        ],
                        "sizemode": "area",
                        "sizeref": 0.0006458333333333333
                      },
                      "mode": "markers",
                      "text": [
                        "1",
                        "1",
                        "1",
                        "1",
                        "1",
                        "1",
                        "0",
                        "0",
                        "0",
                        "0",
                        "0",
                        "1",
                        "0",
                        "0",
                        "1",
                        "1",
                        "1",
                        "0",
                        "1",
                        "0",
                        "1",
                        "1",
                        "1"
                      ],
                      "x": [
                        120,
                        150,
                        120,
                        150,
                        140,
                        140,
                        105,
                        138,
                        142,
                        105,
                        138,
                        150,
                        142,
                        142,
                        120,
                        101,
                        140,
                        138,
                        140,
                        105,
                        101,
                        101,
                        120
                      ],
                      "y": [
                        249,
                        231,
                        249,
                        231,
                        311,
                        311,
                        204,
                        243,
                        177,
                        204,
                        243,
                        231,
                        177,
                        177,
                        249,
                        197,
                        311,
                        243,
                        311,
                        204,
                        197,
                        197,
                        249
                      ],
                      "type": "scatter"
                    }
                  ],
                  "name": "46"
                },
                {
                  "data": [
                    {
                      "marker": {
                        "color": [
                          1,
                          1,
                          1,
                          0,
                          1,
                          1,
                          1,
                          1,
                          1,
                          1,
                          1,
                          1,
                          1,
                          1,
                          1,
                          0,
                          1,
                          1,
                          1,
                          1,
                          0,
                          1,
                          0,
                          0,
                          1,
                          0,
                          0,
                          1,
                          0,
                          1,
                          0,
                          1,
                          1,
                          0,
                          0,
                          1,
                          1,
                          0,
                          1,
                          1,
                          1,
                          0,
                          1,
                          1,
                          1,
                          1,
                          1,
                          1,
                          1,
                          0,
                          0,
                          1,
                          1
                        ],
                        "size": [
                          3.2,
                          2.2,
                          0.4,
                          0,
                          0,
                          0,
                          0,
                          0,
                          0,
                          0.4,
                          0,
                          0.4,
                          2.8,
                          3.2,
                          1.6,
                          0,
                          0,
                          1.6,
                          0,
                          0,
                          1.6,
                          0.5,
                          0,
                          1.6,
                          0.5,
                          0,
                          0,
                          1.2,
                          0,
                          0,
                          0,
                          0.5,
                          3.2,
                          0,
                          0,
                          3.2,
                          0.4,
                          0,
                          1.6,
                          2.8,
                          2.8,
                          1.6,
                          1.2,
                          2.2,
                          1.4,
                          2.8,
                          1.2,
                          0,
                          2.2,
                          0,
                          0,
                          1.4,
                          1.4
                        ],
                        "sizemode": "area",
                        "sizeref": 0.0006458333333333333
                      },
                      "mode": "markers",
                      "text": [
                        "1",
                        "1",
                        "1",
                        "0",
                        "1",
                        "1",
                        "1",
                        "1",
                        "1",
                        "1",
                        "1",
                        "1",
                        "1",
                        "1",
                        "1",
                        "0",
                        "1",
                        "1",
                        "1",
                        "1",
                        "0",
                        "1",
                        "0",
                        "0",
                        "1",
                        "0",
                        "0",
                        "1",
                        "0",
                        "1",
                        "0",
                        "1",
                        "1",
                        "0",
                        "0",
                        "1",
                        "1",
                        "0",
                        "1",
                        "1",
                        "1",
                        "0",
                        "1",
                        "1",
                        "1",
                        "1",
                        "1",
                        "1",
                        "1",
                        "0",
                        "0",
                        "1",
                        "1"
                      ],
                      "x": [
                        122,
                        124,
                        120,
                        108,
                        108,
                        110,
                        108,
                        108,
                        192,
                        120,
                        108,
                        120,
                        110,
                        122,
                        150,
                        132,
                        192,
                        150,
                        110,
                        192,
                        110,
                        125,
                        108,
                        110,
                        125,
                        160,
                        132,
                        140,
                        132,
                        110,
                        108,
                        125,
                        122,
                        160,
                        135,
                        122,
                        120,
                        135,
                        150,
                        110,
                        110,
                        110,
                        140,
                        124,
                        120,
                        110,
                        140,
                        110,
                        124,
                        160,
                        135,
                        120,
                        120
                      ],
                      "y": [
                        286,
                        266,
                        258,
                        267,
                        309,
                        206,
                        309,
                        309,
                        283,
                        258,
                        309,
                        258,
                        239,
                        286,
                        232,
                        288,
                        283,
                        232,
                        206,
                        283,
                        214,
                        273,
                        267,
                        214,
                        273,
                        201,
                        288,
                        239,
                        288,
                        206,
                        267,
                        273,
                        286,
                        201,
                        304,
                        286,
                        258,
                        304,
                        232,
                        239,
                        239,
                        214,
                        239,
                        266,
                        188,
                        239,
                        239,
                        206,
                        266,
                        201,
                        304,
                        188,
                        188
                      ],
                      "type": "scatter"
                    }
                  ],
                  "name": "54"
                },
                {
                  "data": [
                    {
                      "marker": {
                        "color": [
                          0,
                          0,
                          0,
                          0,
                          0,
                          0,
                          0,
                          0,
                          0,
                          0,
                          0
                        ],
                        "size": [
                          1.6,
                          0,
                          0,
                          0.4,
                          1.6,
                          1.6,
                          0,
                          1.6,
                          0.4,
                          0,
                          0.4
                        ],
                        "sizemode": "area",
                        "sizeref": 0.0006458333333333333
                      },
                      "mode": "markers",
                      "text": [
                        "0",
                        "0",
                        "0",
                        "0",
                        "0",
                        "0",
                        "0",
                        "0",
                        "0",
                        "0",
                        "0"
                      ],
                      "x": [
                        112,
                        110,
                        110,
                        160,
                        112,
                        112,
                        110,
                        112,
                        160,
                        110,
                        160
                      ],
                      "y": [
                        149,
                        265,
                        265,
                        302,
                        149,
                        149,
                        265,
                        149,
                        302,
                        265,
                        302
                      ],
                      "type": "scatter"
                    }
                  ],
                  "name": "71"
                },
                {
                  "data": [
                    {
                      "marker": {
                        "color": [
                          0,
                          0,
                          1,
                          1,
                          1,
                          1,
                          1,
                          1,
                          0,
                          0,
                          1,
                          1,
                          1,
                          1,
                          0,
                          1,
                          1,
                          0,
                          1,
                          1,
                          1,
                          1,
                          0,
                          1,
                          1,
                          1
                        ],
                        "size": [
                          3,
                          0.2,
                          2.5,
                          1.9,
                          1.5,
                          1.9,
                          0,
                          0.1,
                          0.2,
                          3,
                          0.1,
                          1.5,
                          0,
                          2.5,
                          3,
                          1.5,
                          2.5,
                          3,
                          1.2,
                          2.5,
                          1.2,
                          1.2,
                          0.2,
                          1.9,
                          0,
                          0.1
                        ],
                        "sizemode": "area",
                        "sizeref": 0.0006458333333333333
                      },
                      "mode": "markers",
                      "text": [
                        "0",
                        "0",
                        "1",
                        "1",
                        "1",
                        "1",
                        "1",
                        "1",
                        "0",
                        "0",
                        "1",
                        "1",
                        "1",
                        "1",
                        "0",
                        "1",
                        "1",
                        "0",
                        "1",
                        "1",
                        "1",
                        "1",
                        "0",
                        "1",
                        "1",
                        "1"
                      ],
                      "x": [
                        132,
                        122,
                        120,
                        130,
                        150,
                        130,
                        110,
                        132,
                        122,
                        132,
                        132,
                        150,
                        110,
                        120,
                        132,
                        150,
                        120,
                        132,
                        115,
                        120,
                        115,
                        115,
                        122,
                        130,
                        110,
                        132
                      ],
                      "y": [
                        341,
                        213,
                        177,
                        315,
                        247,
                        315,
                        211,
                        247,
                        213,
                        341,
                        247,
                        247,
                        211,
                        177,
                        341,
                        247,
                        177,
                        341,
                        303,
                        177,
                        303,
                        303,
                        213,
                        315,
                        211,
                        247
                      ],
                      "type": "scatter"
                    }
                  ],
                  "name": "43"
                },
                {
                  "data": [
                    {
                      "marker": {
                        "color": [
                          0,
                          0,
                          1,
                          1,
                          1,
                          0
                        ],
                        "size": [
                          0.7,
                          0.7,
                          0,
                          0,
                          0,
                          0.7
                        ],
                        "sizemode": "area",
                        "sizeref": 0.0006458333333333333
                      },
                      "mode": "markers",
                      "text": [
                        "0",
                        "0",
                        "1",
                        "1",
                        "1",
                        "0"
                      ],
                      "x": [
                        118,
                        118,
                        118,
                        118,
                        118,
                        118
                      ],
                      "y": [
                        210,
                        210,
                        182,
                        182,
                        182,
                        210
                      ],
                      "type": "scatter"
                    }
                  ],
                  "name": "34"
                },
                {
                  "data": [
                    {
                      "marker": {
                        "color": [
                          1,
                          0,
                          1,
                          1,
                          0,
                          0,
                          1,
                          1,
                          1,
                          1,
                          1,
                          1,
                          1,
                          0,
                          0,
                          1,
                          0,
                          1,
                          1,
                          0,
                          0,
                          0,
                          1,
                          1,
                          1,
                          1,
                          0,
                          1,
                          1,
                          1,
                          1,
                          1,
                          1,
                          1,
                          1,
                          0,
                          1,
                          0,
                          1
                        ],
                        "size": [
                          4.2,
                          1.5,
                          1.4,
                          1.6,
                          0.5,
                          0.6,
                          1.2,
                          0,
                          2.4,
                          0,
                          0.6,
                          0.6,
                          0.6,
                          1.2,
                          0.6,
                          0,
                          1.2,
                          4.2,
                          2.4,
                          0.5,
                          0.6,
                          1.2,
                          0,
                          1.4,
                          0,
                          1.2,
                          0.5,
                          1.2,
                          4.2,
                          0,
                          1.2,
                          1.4,
                          0,
                          1.6,
                          1.6,
                          1.5,
                          2.4,
                          1.5,
                          1.6
                        ],
                        "sizemode": "area",
                        "sizeref": 0.0006458333333333333
                      },
                      "mode": "markers",
                      "text": [
                        "1",
                        "0",
                        "1",
                        "1",
                        "0",
                        "0",
                        "1",
                        "1",
                        "1",
                        "1",
                        "1",
                        "1",
                        "1",
                        "0",
                        "0",
                        "1",
                        "0",
                        "1",
                        "1",
                        "0",
                        "0",
                        "0",
                        "1",
                        "1",
                        "1",
                        "1",
                        "0",
                        "1",
                        "1",
                        "1",
                        "1",
                        "1",
                        "1",
                        "1",
                        "1",
                        "0",
                        "1",
                        "0",
                        "1"
                      ],
                      "x": [
                        140,
                        140,
                        125,
                        140,
                        130,
                        120,
                        100,
                        140,
                        125,
                        94,
                        110,
                        110,
                        110,
                        130,
                        120,
                        140,
                        130,
                        140,
                        125,
                        130,
                        120,
                        130,
                        94,
                        125,
                        94,
                        100,
                        130,
                        100,
                        140,
                        94,
                        100,
                        125,
                        140,
                        140,
                        140,
                        140,
                        125,
                        140,
                        140
                      ],
                      "y": [
                        298,
                        308,
                        213,
                        299,
                        256,
                        295,
                        222,
                        261,
                        245,
                        227,
                        175,
                        175,
                        175,
                        305,
                        295,
                        261,
                        305,
                        298,
                        245,
                        256,
                        295,
                        305,
                        227,
                        213,
                        227,
                        222,
                        256,
                        222,
                        298,
                        227,
                        222,
                        213,
                        261,
                        299,
                        299,
                        308,
                        245,
                        308,
                        299
                      ],
                      "type": "scatter"
                    }
                  ],
                  "name": "51"
                },
                {
                  "data": [
                    {
                      "marker": {
                        "color": [
                          0,
                          0,
                          1,
                          1,
                          1,
                          1,
                          1,
                          1,
                          1,
                          0,
                          0,
                          0,
                          1,
                          0,
                          1,
                          0,
                          1,
                          1,
                          1,
                          0,
                          0
                        ],
                        "size": [
                          1.1,
                          1.1,
                          0,
                          0.6,
                          0,
                          0.9,
                          2.6,
                          2.6,
                          0.9,
                          1.6,
                          0,
                          1.6,
                          2.6,
                          1.6,
                          0,
                          1.1,
                          0.9,
                          0.6,
                          0.6,
                          0,
                          0
                        ],
                        "sizemode": "area",
                        "sizeref": 0.0006458333333333333
                      },
                      "mode": "markers",
                      "text": [
                        "0",
                        "0",
                        "1",
                        "1",
                        "1",
                        "1",
                        "1",
                        "1",
                        "1",
                        "0",
                        "0",
                        "0",
                        "1",
                        "0",
                        "1",
                        "0",
                        "1",
                        "1",
                        "1",
                        "0",
                        "0"
                      ],
                      "x": [
                        120,
                        120,
                        129,
                        140,
                        129,
                        144,
                        150,
                        150,
                        144,
                        120,
                        110,
                        120,
                        150,
                        120,
                        129,
                        120,
                        144,
                        140,
                        140,
                        110,
                        110
                      ],
                      "y": [
                        244,
                        244,
                        196,
                        233,
                        196,
                        200,
                        243,
                        243,
                        200,
                        219,
                        254,
                        219,
                        243,
                        219,
                        196,
                        244,
                        200,
                        233,
                        233,
                        254,
                        254
                      ],
                      "type": "scatter"
                    }
                  ],
                  "name": "50"
                },
                {
                  "data": [
                    {
                      "marker": {
                        "color": [
                          1,
                          1,
                          1,
                          0,
                          0,
                          1,
                          0,
                          1,
                          1,
                          1,
                          1,
                          1,
                          1,
                          0,
                          1,
                          0,
                          1,
                          0,
                          1,
                          1,
                          1,
                          1,
                          0,
                          0,
                          0,
                          1,
                          0,
                          1,
                          1,
                          0,
                          1,
                          0,
                          1,
                          0,
                          1,
                          1,
                          1
                        ],
                        "size": [
                          3,
                          1.4,
                          2.8,
                          0.9,
                          0.9,
                          1.2,
                          0,
                          2.8,
                          1.4,
                          3,
                          2.8,
                          2.4,
                          1.4,
                          0,
                          1.2,
                          0.9,
                          2.4,
                          2.6,
                          2.8,
                          2.8,
                          1.4,
                          3,
                          0,
                          2.6,
                          0,
                          1.4,
                          0,
                          1.4,
                          1.2,
                          0.9,
                          2.4,
                          2.6,
                          2.4,
                          0,
                          1.2,
                          1.4,
                          2.8
                        ],
                        "sizemode": "area",
                        "sizeref": 0.0006458333333333333
                      },
                      "mode": "markers",
                      "text": [
                        "1",
                        "1",
                        "1",
                        "0",
                        "0",
                        "1",
                        "0",
                        "1",
                        "1",
                        "1",
                        "1",
                        "1",
                        "1",
                        "0",
                        "1",
                        "0",
                        "1",
                        "0",
                        "1",
                        "1",
                        "1",
                        "1",
                        "0",
                        "0",
                        "0",
                        "1",
                        "0",
                        "1",
                        "1",
                        "0",
                        "1",
                        "0",
                        "1",
                        "0",
                        "1",
                        "1",
                        "1"
                      ],
                      "x": [
                        140,
                        117,
                        145,
                        150,
                        150,
                        140,
                        102,
                        125,
                        117,
                        140,
                        145,
                        130,
                        130,
                        102,
                        140,
                        150,
                        130,
                        150,
                        145,
                        125,
                        130,
                        140,
                        120,
                        150,
                        102,
                        117,
                        120,
                        130,
                        140,
                        150,
                        130,
                        150,
                        130,
                        120,
                        140,
                        117,
                        125
                      ],
                      "y": [
                        185,
                        230,
                        282,
                        240,
                        240,
                        293,
                        318,
                        258,
                        230,
                        185,
                        282,
                        206,
                        253,
                        318,
                        293,
                        240,
                        206,
                        258,
                        282,
                        258,
                        253,
                        185,
                        178,
                        258,
                        318,
                        230,
                        178,
                        253,
                        293,
                        240,
                        206,
                        258,
                        206,
                        178,
                        293,
                        230,
                        258
                      ],
                      "type": "scatter"
                    }
                  ],
                  "name": "60"
                },
                {
                  "data": [
                    {
                      "marker": {
                        "color": [
                          0,
                          1,
                          1,
                          0,
                          0,
                          1,
                          1,
                          1,
                          1,
                          1,
                          1,
                          1,
                          1,
                          1,
                          1,
                          0,
                          1,
                          0,
                          0,
                          1,
                          1,
                          1,
                          0,
                          1,
                          1,
                          1,
                          1,
                          0,
                          1,
                          0,
                          1
                        ],
                        "size": [
                          0.3,
                          0.8,
                          0.9,
                          1.6,
                          1.6,
                          1.5,
                          0.9,
                          0.8,
                          1,
                          0.9,
                          1,
                          1.5,
                          1,
                          0.8,
                          2.6,
                          1.6,
                          1.5,
                          0,
                          0.3,
                          0.2,
                          1,
                          0.8,
                          0,
                          2.6,
                          0.2,
                          2.6,
                          2.6,
                          0,
                          1.5,
                          0.3,
                          0.2
                        ],
                        "sizemode": "area",
                        "sizeref": 0.0006458333333333333
                      },
                      "mode": "markers",
                      "text": [
                        "0",
                        "1",
                        "1",
                        "0",
                        "0",
                        "1",
                        "1",
                        "1",
                        "1",
                        "1",
                        "1",
                        "1",
                        "1",
                        "1",
                        "1",
                        "0",
                        "1",
                        "0",
                        "0",
                        "1",
                        "1",
                        "1",
                        "0",
                        "1",
                        "1",
                        "1",
                        "1",
                        "0",
                        "1",
                        "0",
                        "1"
                      ],
                      "x": [
                        106,
                        152,
                        100,
                        115,
                        115,
                        160,
                        100,
                        152,
                        120,
                        100,
                        120,
                        160,
                        120,
                        152,
                        120,
                        115,
                        160,
                        152,
                        106,
                        125,
                        120,
                        152,
                        152,
                        120,
                        125,
                        120,
                        120,
                        152,
                        160,
                        106,
                        125
                      ],
                      "y": [
                        223,
                        212,
                        299,
                        564,
                        564,
                        286,
                        299,
                        212,
                        237,
                        299,
                        237,
                        286,
                        237,
                        212,
                        229,
                        564,
                        286,
                        277,
                        223,
                        254,
                        237,
                        212,
                        277,
                        229,
                        254,
                        229,
                        229,
                        277,
                        286,
                        223,
                        254
                      ],
                      "type": "scatter"
                    }
                  ],
                  "name": "67"
                },
                {
                  "data": [
                    {
                      "marker": {
                        "color": [
                          1,
                          0,
                          0,
                          1,
                          1,
                          1,
                          0,
                          1,
                          0,
                          1,
                          1,
                          1,
                          0,
                          1,
                          0,
                          0,
                          1,
                          0,
                          1,
                          0,
                          1,
                          1,
                          0,
                          1,
                          1
                        ],
                        "size": [
                          3,
                          0.2,
                          0,
                          0,
                          0,
                          0,
                          0,
                          3,
                          0.6,
                          0,
                          1.2,
                          0,
                          0.6,
                          1.2,
                          0.6,
                          0.6,
                          1.2,
                          0,
                          0,
                          0.2,
                          0,
                          3,
                          0.2,
                          0,
                          0
                        ],
                        "sizemode": "area",
                        "sizeref": 0.0006458333333333333
                      },
                      "mode": "markers",
                      "text": [
                        "1",
                        "0",
                        "0",
                        "1",
                        "1",
                        "1",
                        "0",
                        "1",
                        "0",
                        "1",
                        "1",
                        "1",
                        "0",
                        "1",
                        "0",
                        "0",
                        "1",
                        "0",
                        "1",
                        "0",
                        "1",
                        "1",
                        "0",
                        "1",
                        "1"
                      ],
                      "x": [
                        104,
                        138,
                        112,
                        128,
                        115,
                        128,
                        112,
                        104,
                        130,
                        142,
                        110,
                        142,
                        130,
                        110,
                        130,
                        130,
                        110,
                        112,
                        115,
                        138,
                        115,
                        104,
                        138,
                        142,
                        128
                      ],
                      "y": [
                        208,
                        236,
                        160,
                        308,
                        260,
                        308,
                        160,
                        208,
                        234,
                        309,
                        264,
                        309,
                        234,
                        264,
                        234,
                        234,
                        264,
                        160,
                        260,
                        236,
                        260,
                        208,
                        236,
                        309,
                        308
                      ],
                      "type": "scatter"
                    }
                  ],
                  "name": "45"
                },
                {
                  "data": [
                    {
                      "marker": {
                        "color": [
                          0,
                          1,
                          1,
                          1,
                          0,
                          1,
                          1,
                          1,
                          1,
                          0,
                          0,
                          1,
                          1,
                          1,
                          0,
                          0,
                          0,
                          0,
                          0,
                          0,
                          0,
                          1,
                          1,
                          0,
                          0,
                          1,
                          1,
                          1,
                          0,
                          0,
                          0,
                          0
                        ],
                        "size": [
                          0,
                          4,
                          4,
                          1.4,
                          0,
                          1.8,
                          4,
                          1.4,
                          1.4,
                          0,
                          1.8,
                          2.3,
                          1.8,
                          2.3,
                          4,
                          4,
                          0,
                          1.8,
                          1.8,
                          0,
                          0,
                          1.8,
                          1.4,
                          4,
                          0,
                          1.8,
                          4,
                          2.3,
                          0,
                          0,
                          4,
                          1.8
                        ],
                        "sizemode": "area",
                        "sizeref": 0.0006458333333333333
                      },
                      "mode": "markers",
                      "text": [
                        "0",
                        "1",
                        "1",
                        "1",
                        "0",
                        "1",
                        "1",
                        "1",
                        "1",
                        "0",
                        "0",
                        "1",
                        "1",
                        "1",
                        "0",
                        "0",
                        "0",
                        "0",
                        "0",
                        "0",
                        "0",
                        "1",
                        "1",
                        "0",
                        "0",
                        "1",
                        "1",
                        "1",
                        "0",
                        "0",
                        "0",
                        "0"
                      ],
                      "x": [
                        135,
                        140,
                        140,
                        130,
                        124,
                        130,
                        140,
                        130,
                        130,
                        135,
                        108,
                        145,
                        130,
                        145,
                        150,
                        150,
                        124,
                        108,
                        108,
                        140,
                        140,
                        130,
                        130,
                        150,
                        140,
                        130,
                        140,
                        145,
                        124,
                        135,
                        150,
                        108
                      ],
                      "y": [
                        252,
                        187,
                        187,
                        254,
                        197,
                        330,
                        187,
                        254,
                        254,
                        252,
                        269,
                        233,
                        330,
                        233,
                        407,
                        407,
                        197,
                        269,
                        269,
                        195,
                        195,
                        330,
                        254,
                        407,
                        195,
                        330,
                        187,
                        233,
                        197,
                        252,
                        407,
                        269
                      ],
                      "type": "scatter"
                    }
                  ],
                  "name": "63"
                },
                {
                  "data": [
                    {
                      "marker": {
                        "color": [
                          0,
                          1,
                          1,
                          1,
                          1,
                          1,
                          1,
                          1,
                          1,
                          0,
                          0,
                          0,
                          1,
                          1,
                          1,
                          1,
                          1,
                          1,
                          0,
                          0,
                          1,
                          1,
                          1,
                          1,
                          1,
                          1
                        ],
                        "size": [
                          0,
                          0,
                          1.8,
                          0,
                          0,
                          0.8,
                          0.8,
                          0,
                          0.8,
                          0,
                          0.6,
                          0,
                          0.8,
                          1.8,
                          0,
                          0.8,
                          0,
                          1.8,
                          0.6,
                          0.6,
                          0,
                          0.8,
                          0,
                          1.8,
                          0,
                          0
                        ],
                        "sizemode": "area",
                        "sizeref": 0.0006458333333333333
                      },
                      "mode": "markers",
                      "text": [
                        "0",
                        "1",
                        "1",
                        "1",
                        "1",
                        "1",
                        "1",
                        "1",
                        "1",
                        "0",
                        "0",
                        "0",
                        "1",
                        "1",
                        "1",
                        "1",
                        "1",
                        "1",
                        "0",
                        "0",
                        "1",
                        "1",
                        "1",
                        "1",
                        "1",
                        "1"
                      ],
                      "x": [
                        120,
                        140,
                        136,
                        120,
                        130,
                        148,
                        120,
                        130,
                        148,
                        120,
                        102,
                        120,
                        120,
                        136,
                        120,
                        148,
                        130,
                        136,
                        102,
                        102,
                        140,
                        120,
                        130,
                        136,
                        140,
                        120
                      ],
                      "y": [
                        209,
                        226,
                        315,
                        295,
                        180,
                        244,
                        240,
                        180,
                        244,
                        209,
                        265,
                        209,
                        240,
                        315,
                        295,
                        244,
                        180,
                        315,
                        265,
                        265,
                        226,
                        240,
                        180,
                        315,
                        226,
                        295
                      ],
                      "type": "scatter"
                    }
                  ],
                  "name": "42"
                },
                {
                  "data": [
                    {
                      "marker": {
                        "color": [
                          1,
                          1,
                          1,
                          1,
                          1,
                          1,
                          1,
                          0,
                          1,
                          1,
                          1,
                          1,
                          0,
                          1,
                          1,
                          1,
                          0,
                          1,
                          1,
                          1,
                          1,
                          1,
                          1,
                          1,
                          1,
                          0,
                          1,
                          1,
                          1,
                          1,
                          1,
                          1,
                          0,
                          1,
                          1,
                          0
                        ],
                        "size": [
                          0.4,
                          2.8,
                          0,
                          2.8,
                          0,
                          2.8,
                          0,
                          0.3,
                          0,
                          0,
                          0,
                          0,
                          0.3,
                          0,
                          0,
                          0,
                          0.3,
                          0,
                          0,
                          0,
                          0,
                          0,
                          0,
                          0,
                          0,
                          0.6,
                          0,
                          0,
                          2.8,
                          0.4,
                          0.4,
                          0,
                          0.6,
                          0,
                          0,
                          0.6
                        ],
                        "sizemode": "area",
                        "sizeref": 0.0006458333333333333
                      },
                      "mode": "markers",
                      "text": [
                        "1",
                        "1",
                        "1",
                        "1",
                        "1",
                        "1",
                        "1",
                        "0",
                        "1",
                        "1",
                        "1",
                        "1",
                        "0",
                        "1",
                        "1",
                        "1",
                        "0",
                        "1",
                        "1",
                        "1",
                        "1",
                        "1",
                        "1",
                        "1",
                        "1",
                        "0",
                        "1",
                        "1",
                        "1",
                        "1",
                        "1",
                        "1",
                        "0",
                        "1",
                        "1",
                        "0"
                      ],
                      "x": [
                        130,
                        120,
                        120,
                        120,
                        110,
                        120,
                        110,
                        118,
                        130,
                        120,
                        120,
                        130,
                        118,
                        120,
                        120,
                        130,
                        118,
                        112,
                        120,
                        140,
                        112,
                        112,
                        140,
                        120,
                        120,
                        108,
                        140,
                        120,
                        120,
                        130,
                        130,
                        120,
                        108,
                        110,
                        120,
                        108
                      ],
                      "y": [
                        233,
                        169,
                        220,
                        169,
                        197,
                        169,
                        197,
                        242,
                        219,
                        226,
                        263,
                        219,
                        242,
                        220,
                        226,
                        219,
                        242,
                        290,
                        220,
                        235,
                        290,
                        290,
                        235,
                        226,
                        220,
                        141,
                        235,
                        226,
                        169,
                        233,
                        233,
                        263,
                        141,
                        197,
                        263,
                        141
                      ],
                      "type": "scatter"
                    }
                  ],
                  "name": "44"
                },
                {
                  "data": [
                    {
                      "marker": {
                        "color": [
                          1,
                          1,
                          1,
                          1,
                          1,
                          1,
                          1,
                          0,
                          1,
                          0,
                          1,
                          1,
                          1,
                          1,
                          0,
                          0,
                          0,
                          1,
                          1,
                          1,
                          0,
                          1,
                          0,
                          1,
                          0,
                          0,
                          1,
                          1,
                          1,
                          1,
                          1,
                          1,
                          1,
                          1,
                          1,
                          1,
                          1,
                          0,
                          1
                        ],
                        "size": [
                          0.6,
                          1.9,
                          1.2,
                          1.2,
                          2.1,
                          1.6,
                          0,
                          4,
                          1.6,
                          1.9,
                          1.2,
                          0,
                          0.8,
                          1.6,
                          4,
                          1.3,
                          1.3,
                          0.6,
                          0.6,
                          1.2,
                          4,
                          2.1,
                          1.9,
                          1.6,
                          4,
                          1.3,
                          0,
                          0.6,
                          0,
                          0,
                          0,
                          2.1,
                          0,
                          0.8,
                          0,
                          1.9,
                          0.8,
                          1.9,
                          1.9
                        ],
                        "sizemode": "area",
                        "sizeref": 0.0006458333333333333
                      },
                      "mode": "markers",
                      "text": [
                        "1",
                        "1",
                        "1",
                        "1",
                        "1",
                        "1",
                        "1",
                        "0",
                        "1",
                        "0",
                        "1",
                        "1",
                        "1",
                        "1",
                        "0",
                        "0",
                        "0",
                        "1",
                        "1",
                        "1",
                        "0",
                        "1",
                        "0",
                        "1",
                        "0",
                        "0",
                        "1",
                        "1",
                        "1",
                        "1",
                        "1",
                        "1",
                        "1",
                        "1",
                        "1",
                        "1",
                        "1",
                        "0",
                        "1"
                      ],
                      "x": [
                        130,
                        120,
                        125,
                        125,
                        132,
                        130,
                        120,
                        200,
                        130,
                        134,
                        125,
                        130,
                        120,
                        130,
                        200,
                        140,
                        140,
                        130,
                        130,
                        125,
                        200,
                        132,
                        134,
                        130,
                        200,
                        140,
                        130,
                        130,
                        130,
                        130,
                        120,
                        132,
                        120,
                        120,
                        120,
                        120,
                        120,
                        134,
                        120
                      ],
                      "y": [
                        256,
                        193,
                        249,
                        249,
                        184,
                        283,
                        240,
                        288,
                        283,
                        409,
                        249,
                        221,
                        236,
                        283,
                        288,
                        294,
                        294,
                        256,
                        256,
                        249,
                        288,
                        184,
                        409,
                        283,
                        288,
                        294,
                        221,
                        256,
                        221,
                        221,
                        240,
                        184,
                        240,
                        236,
                        240,
                        193,
                        236,
                        409,
                        193
                      ],
                      "type": "scatter"
                    }
                  ],
                  "name": "56"
                },
                {
                  "data": [
                    {
                      "marker": {
                        "color": [
                          1,
                          1,
                          0,
                          1,
                          0,
                          1,
                          1,
                          1,
                          1,
                          0,
                          1,
                          0,
                          1,
                          1,
                          1,
                          1,
                          1,
                          1,
                          1,
                          1,
                          0,
                          1,
                          0,
                          0,
                          1,
                          0,
                          1,
                          1,
                          1,
                          1,
                          1,
                          0,
                          1,
                          1,
                          1,
                          0,
                          1,
                          1,
                          1,
                          1,
                          1,
                          1,
                          1,
                          1,
                          1,
                          1,
                          1,
                          1,
                          1,
                          1,
                          1,
                          1,
                          0,
                          1,
                          0,
                          1,
                          1
                        ],
                        "size": [
                          1.2,
                          0.4,
                          0.2,
                          0,
                          0,
                          0.2,
                          3,
                          0.4,
                          1.2,
                          0.6,
                          1,
                          0,
                          0.3,
                          1,
                          0,
                          0.6,
                          0.2,
                          3,
                          1.5,
                          0.3,
                          0,
                          0.6,
                          0,
                          0.6,
                          1.6,
                          0.6,
                          1.2,
                          1.6,
                          0.2,
                          1,
                          0.4,
                          0,
                          1.6,
                          0,
                          1.2,
                          0,
                          0.3,
                          1.5,
                          0.4,
                          0.6,
                          3,
                          3,
                          0.6,
                          0.3,
                          0.4,
                          0.4,
                          0,
                          0,
                          1.2,
                          1,
                          1.5,
                          1.2,
                          0.2,
                          0,
                          0.2,
                          0.4,
                          0
                        ],
                        "sizemode": "area",
                        "sizeref": 0.0006458333333333333
                      },
                      "mode": "markers",
                      "text": [
                        "1",
                        "1",
                        "0",
                        "1",
                        "0",
                        "1",
                        "1",
                        "1",
                        "1",
                        "0",
                        "1",
                        "0",
                        "1",
                        "1",
                        "1",
                        "1",
                        "1",
                        "1",
                        "1",
                        "1",
                        "0",
                        "1",
                        "0",
                        "0",
                        "1",
                        "0",
                        "1",
                        "1",
                        "1",
                        "1",
                        "1",
                        "0",
                        "1",
                        "1",
                        "1",
                        "0",
                        "1",
                        "1",
                        "1",
                        "1",
                        "1",
                        "1",
                        "1",
                        "1",
                        "1",
                        "1",
                        "1",
                        "1",
                        "1",
                        "1",
                        "1",
                        "1",
                        "0",
                        "1",
                        "0",
                        "1",
                        "1"
                      ],
                      "x": [
                        130,
                        128,
                        140,
                        154,
                        128,
                        150,
                        110,
                        140,
                        152,
                        120,
                        165,
                        130,
                        124,
                        165,
                        132,
                        150,
                        150,
                        110,
                        110,
                        124,
                        130,
                        150,
                        128,
                        120,
                        150,
                        120,
                        152,
                        150,
                        150,
                        165,
                        128,
                        128,
                        150,
                        154,
                        152,
                        130,
                        124,
                        110,
                        128,
                        150,
                        110,
                        110,
                        150,
                        124,
                        128,
                        140,
                        132,
                        154,
                        130,
                        165,
                        110,
                        130,
                        140,
                        132,
                        140,
                        140,
                        154
                      ],
                      "y": [
                        131,
                        229,
                        241,
                        232,
                        303,
                        126,
                        335,
                        192,
                        274,
                        354,
                        289,
                        236,
                        261,
                        289,
                        207,
                        276,
                        126,
                        335,
                        201,
                        261,
                        236,
                        276,
                        303,
                        354,
                        168,
                        354,
                        274,
                        168,
                        126,
                        289,
                        229,
                        303,
                        168,
                        232,
                        274,
                        236,
                        261,
                        201,
                        229,
                        276,
                        335,
                        335,
                        276,
                        261,
                        229,
                        192,
                        207,
                        232,
                        131,
                        289,
                        201,
                        131,
                        241,
                        207,
                        241,
                        192,
                        232
                      ],
                      "type": "scatter"
                    }
                  ],
                  "name": "57"
                },
                {
                  "data": [
                    {
                      "marker": {
                        "color": [
                          1,
                          1,
                          1,
                          1,
                          1,
                          0,
                          1,
                          1,
                          1,
                          1,
                          1,
                          1,
                          1,
                          1,
                          1,
                          1,
                          1,
                          1,
                          0,
                          1,
                          1,
                          1,
                          1,
                          1,
                          1,
                          1,
                          1,
                          0,
                          1,
                          1,
                          1,
                          1,
                          1,
                          1,
                          1,
                          1,
                          1,
                          1,
                          1,
                          1,
                          1,
                          1,
                          1,
                          1,
                          1,
                          1
                        ],
                        "size": [
                          0,
                          1.6,
                          0.2,
                          3.4,
                          0,
                          0,
                          2.2,
                          3.4,
                          1.6,
                          2.2,
                          1.6,
                          2.2,
                          0,
                          1,
                          0.8,
                          0,
                          1.2,
                          0.2,
                          0,
                          0.5,
                          0,
                          4.2,
                          0.8,
                          0,
                          1,
                          0,
                          4.2,
                          0,
                          0,
                          3.4,
                          1,
                          1.2,
                          0.8,
                          0.2,
                          0,
                          0.2,
                          0,
                          0,
                          0,
                          4.2,
                          0.5,
                          2.2,
                          0.8,
                          0.5,
                          1.2,
                          0
                        ],
                        "sizemode": "area",
                        "sizeref": 0.0006458333333333333
                      },
                      "mode": "markers",
                      "text": [
                        "1",
                        "1",
                        "1",
                        "1",
                        "1",
                        "0",
                        "1",
                        "1",
                        "1",
                        "1",
                        "1",
                        "1",
                        "1",
                        "1",
                        "1",
                        "1",
                        "1",
                        "1",
                        "0",
                        "1",
                        "1",
                        "1",
                        "1",
                        "1",
                        "1",
                        "1",
                        "1",
                        "0",
                        "1",
                        "1",
                        "1",
                        "1",
                        "1",
                        "1",
                        "1",
                        "1",
                        "1",
                        "1",
                        "1",
                        "1",
                        "1",
                        "1",
                        "1",
                        "1",
                        "1",
                        "1"
                      ],
                      "x": [
                        138,
                        150,
                        170,
                        170,
                        140,
                        174,
                        126,
                        170,
                        150,
                        126,
                        150,
                        126,
                        140,
                        164,
                        134,
                        140,
                        110,
                        170,
                        174,
                        135,
                        140,
                        178,
                        134,
                        140,
                        164,
                        140,
                        178,
                        174,
                        138,
                        170,
                        164,
                        110,
                        134,
                        170,
                        160,
                        170,
                        160,
                        160,
                        138,
                        178,
                        135,
                        126,
                        134,
                        135,
                        110,
                        140
                      ],
                      "y": [
                        271,
                        212,
                        288,
                        326,
                        177,
                        249,
                        218,
                        326,
                        212,
                        218,
                        212,
                        218,
                        177,
                        176,
                        204,
                        221,
                        239,
                        288,
                        249,
                        234,
                        177,
                        270,
                        204,
                        177,
                        176,
                        221,
                        270,
                        249,
                        271,
                        326,
                        176,
                        239,
                        204,
                        288,
                        273,
                        288,
                        273,
                        273,
                        271,
                        270,
                        234,
                        218,
                        204,
                        234,
                        239,
                        221
                      ],
                      "type": "scatter"
                    }
                  ],
                  "name": "59"
                },
                {
                  "data": [
                    {
                      "marker": {
                        "color": [
                          1,
                          0,
                          1,
                          1,
                          1,
                          1,
                          1,
                          1,
                          0,
                          1,
                          0,
                          0,
                          0,
                          1,
                          0,
                          1,
                          1,
                          1,
                          1,
                          1,
                          1,
                          0,
                          1,
                          1,
                          1,
                          1,
                          0,
                          1,
                          1,
                          0,
                          1,
                          1,
                          1,
                          1
                        ],
                        "size": [
                          0.2,
                          0,
                          2.2,
                          1.8,
                          1.8,
                          0.6,
                          1.8,
                          0.6,
                          0,
                          1.8,
                          0.2,
                          0.2,
                          2,
                          2.2,
                          0.2,
                          1.8,
                          0.6,
                          1.8,
                          2,
                          2,
                          0.2,
                          2,
                          1.8,
                          0,
                          0,
                          2.2,
                          2,
                          0,
                          0.6,
                          0,
                          2.2,
                          0,
                          0.2,
                          2
                        ],
                        "sizemode": "area",
                        "sizeref": 0.0006458333333333333
                      },
                      "mode": "markers",
                      "text": [
                        "1",
                        "0",
                        "1",
                        "1",
                        "1",
                        "1",
                        "1",
                        "1",
                        "0",
                        "1",
                        "0",
                        "0",
                        "0",
                        "1",
                        "0",
                        "1",
                        "1",
                        "1",
                        "1",
                        "1",
                        "1",
                        "0",
                        "1",
                        "1",
                        "1",
                        "1",
                        "0",
                        "1",
                        "1",
                        "0",
                        "1",
                        "1",
                        "1",
                        "1"
                      ],
                      "x": [
                        128,
                        180,
                        120,
                        110,
                        125,
                        170,
                        110,
                        170,
                        180,
                        110,
                        140,
                        140,
                        130,
                        120,
                        140,
                        125,
                        170,
                        125,
                        145,
                        145,
                        128,
                        130,
                        125,
                        140,
                        140,
                        120,
                        130,
                        140,
                        170,
                        180,
                        120,
                        140,
                        128,
                        145
                      ],
                      "y": [
                        263,
                        325,
                        246,
                        211,
                        309,
                        227,
                        211,
                        227,
                        325,
                        211,
                        313,
                        313,
                        303,
                        246,
                        313,
                        309,
                        227,
                        309,
                        212,
                        212,
                        263,
                        303,
                        309,
                        335,
                        335,
                        246,
                        303,
                        335,
                        227,
                        325,
                        246,
                        335,
                        263,
                        212
                      ],
                      "type": "scatter"
                    }
                  ],
                  "name": "64"
                },
                {
                  "data": [
                    {
                      "marker": {
                        "color": [
                          0,
                          1,
                          0,
                          1,
                          0,
                          0,
                          0,
                          0,
                          1,
                          1,
                          0,
                          0,
                          1,
                          1,
                          1,
                          1,
                          0,
                          0,
                          1,
                          0,
                          0,
                          1,
                          1,
                          1,
                          1,
                          0,
                          1
                        ],
                        "size": [
                          0.8,
                          0.6,
                          0.8,
                          2.8,
                          0.8,
                          0.8,
                          1,
                          1,
                          0.6,
                          2.8,
                          0.8,
                          0.8,
                          0.6,
                          1.4,
                          1.4,
                          0.4,
                          0.8,
                          0.8,
                          0.4,
                          1,
                          1,
                          1.4,
                          2.8,
                          2.8,
                          0.4,
                          0.8,
                          1.4
                        ],
                        "sizemode": "area",
                        "sizeref": 0.0006458333333333333
                      },
                      "mode": "markers",
                      "text": [
                        "0",
                        "1",
                        "0",
                        "1",
                        "0",
                        "0",
                        "0",
                        "0",
                        "1",
                        "1",
                        "0",
                        "0",
                        "1",
                        "1",
                        "1",
                        "1",
                        "0",
                        "0",
                        "1",
                        "0",
                        "0",
                        "1",
                        "1",
                        "1",
                        "1",
                        "0",
                        "1"
                      ],
                      "x": [
                        160,
                        110,
                        140,
                        135,
                        155,
                        160,
                        150,
                        150,
                        110,
                        135,
                        155,
                        155,
                        110,
                        138,
                        138,
                        120,
                        140,
                        160,
                        120,
                        150,
                        150,
                        138,
                        135,
                        135,
                        120,
                        140,
                        138
                      ],
                      "y": [
                        360,
                        248,
                        417,
                        254,
                        269,
                        360,
                        225,
                        225,
                        248,
                        254,
                        269,
                        269,
                        248,
                        282,
                        282,
                        177,
                        417,
                        360,
                        177,
                        225,
                        225,
                        282,
                        254,
                        254,
                        177,
                        417,
                        282
                      ],
                      "type": "scatter"
                    }
                  ],
                  "name": "65"
                },
                {
                  "data": [
                    {
                      "marker": {
                        "color": [
                          1,
                          1,
                          1,
                          1,
                          1,
                          1,
                          1,
                          1,
                          0,
                          0,
                          0,
                          1,
                          0,
                          0,
                          0,
                          1,
                          1,
                          0,
                          0,
                          1,
                          0,
                          1,
                          0,
                          1,
                          0,
                          1,
                          0,
                          1,
                          1,
                          1,
                          1,
                          1
                        ],
                        "size": [
                          0,
                          0,
                          0,
                          0,
                          0,
                          0,
                          0,
                          0,
                          0,
                          0,
                          1.4,
                          0,
                          0,
                          1.4,
                          0,
                          2,
                          0,
                          1.4,
                          0,
                          2,
                          0,
                          0,
                          0,
                          0,
                          0,
                          2,
                          0,
                          0,
                          0,
                          0,
                          0,
                          0
                        ],
                        "sizemode": "area",
                        "sizeref": 0.0006458333333333333
                      },
                      "mode": "markers",
                      "text": [
                        "1",
                        "1",
                        "1",
                        "1",
                        "1",
                        "1",
                        "1",
                        "1",
                        "0",
                        "0",
                        "0",
                        "1",
                        "0",
                        "0",
                        "0",
                        "1",
                        "1",
                        "0",
                        "0",
                        "1",
                        "0",
                        "1",
                        "0",
                        "1",
                        "0",
                        "1",
                        "0",
                        "1",
                        "1",
                        "1",
                        "1",
                        "1"
                      ],
                      "x": [
                        135,
                        135,
                        110,
                        110,
                        120,
                        112,
                        112,
                        120,
                        126,
                        105,
                        130,
                        120,
                        105,
                        130,
                        112,
                        130,
                        110,
                        130,
                        105,
                        130,
                        126,
                        120,
                        126,
                        110,
                        112,
                        130,
                        112,
                        135,
                        135,
                        112,
                        110,
                        110
                      ],
                      "y": [
                        203,
                        203,
                        235,
                        172,
                        157,
                        250,
                        250,
                        157,
                        306,
                        198,
                        204,
                        157,
                        198,
                        204,
                        268,
                        214,
                        172,
                        204,
                        198,
                        214,
                        306,
                        157,
                        306,
                        235,
                        268,
                        214,
                        268,
                        203,
                        203,
                        250,
                        235,
                        172
                      ],
                      "type": "scatter"
                    }
                  ],
                  "name": "41"
                },
                {
                  "data": [
                    {
                      "marker": {
                        "color": [
                          0,
                          0,
                          0,
                          1,
                          0,
                          0,
                          1,
                          1,
                          1,
                          1,
                          1,
                          1,
                          0,
                          1,
                          0,
                          1,
                          0,
                          0,
                          1,
                          1,
                          0,
                          1,
                          1,
                          0,
                          1
                        ],
                        "size": [
                          1,
                          0,
                          0,
                          0.4,
                          0,
                          1,
                          0.4,
                          2.3,
                          0,
                          0,
                          0.4,
                          2.3,
                          0,
                          2.3,
                          1,
                          0.1,
                          2.6,
                          2.6,
                          0,
                          0.1,
                          2.6,
                          2.3,
                          0.1,
                          1,
                          0.1
                        ],
                        "sizemode": "area",
                        "sizeref": 0.0006458333333333333
                      },
                      "mode": "markers",
                      "text": [
                        "0",
                        "0",
                        "0",
                        "1",
                        "0",
                        "0",
                        "1",
                        "1",
                        "1",
                        "1",
                        "1",
                        "1",
                        "0",
                        "1",
                        "0",
                        "1",
                        "0",
                        "0",
                        "1",
                        "1",
                        "0",
                        "1",
                        "1",
                        "0",
                        "1"
                      ],
                      "x": [
                        178,
                        146,
                        146,
                        120,
                        146,
                        178,
                        120,
                        160,
                        160,
                        160,
                        120,
                        160,
                        146,
                        160,
                        178,
                        112,
                        150,
                        150,
                        160,
                        112,
                        150,
                        160,
                        112,
                        178,
                        112
                      ],
                      "y": [
                        228,
                        278,
                        278,
                        302,
                        278,
                        228,
                        302,
                        228,
                        246,
                        246,
                        302,
                        228,
                        278,
                        228,
                        228,
                        212,
                        226,
                        226,
                        246,
                        212,
                        226,
                        228,
                        212,
                        228,
                        212
                      ],
                      "type": "scatter"
                    }
                  ],
                  "name": "66"
                },
                {
                  "data": [
                    {
                      "marker": {
                        "color": [
                          1,
                          1,
                          1,
                          1,
                          1,
                          1,
                          1,
                          1,
                          1,
                          1,
                          1,
                          1
                        ],
                        "size": [
                          0,
                          0,
                          0,
                          0,
                          3.8,
                          0,
                          0,
                          0,
                          3.8,
                          3.8,
                          3.8,
                          0
                        ],
                        "sizemode": "area",
                        "sizeref": 0.0006458333333333333
                      },
                      "mode": "markers",
                      "text": [
                        "1",
                        "1",
                        "1",
                        "1",
                        "1",
                        "1",
                        "1",
                        "1",
                        "1",
                        "1",
                        "1",
                        "1"
                      ],
                      "x": [
                        138,
                        138,
                        138,
                        138,
                        120,
                        138,
                        138,
                        138,
                        120,
                        120,
                        120,
                        138
                      ],
                      "y": [
                        175,
                        175,
                        175,
                        175,
                        231,
                        175,
                        175,
                        175,
                        231,
                        231,
                        231,
                        175
                      ],
                      "type": "scatter"
                    }
                  ],
                  "name": "38"
                },
                {
                  "data": [
                    {
                      "marker": {
                        "color": [
                          1,
                          1,
                          1,
                          1,
                          0,
                          1,
                          1,
                          0,
                          0,
                          1,
                          1,
                          1,
                          1,
                          0,
                          1,
                          0,
                          0
                        ],
                        "size": [
                          2,
                          0.8,
                          0.6,
                          0.8,
                          0,
                          0.8,
                          2,
                          0,
                          0,
                          2,
                          2,
                          0.6,
                          0.6,
                          0,
                          0.8,
                          0,
                          0
                        ],
                        "sizemode": "area",
                        "sizeref": 0.0006458333333333333
                      },
                      "mode": "markers",
                      "text": [
                        "1",
                        "1",
                        "1",
                        "1",
                        "0",
                        "1",
                        "1",
                        "0",
                        "0",
                        "1",
                        "1",
                        "1",
                        "1",
                        "0",
                        "1",
                        "0",
                        "0"
                      ],
                      "x": [
                        120,
                        118,
                        130,
                        118,
                        130,
                        118,
                        120,
                        134,
                        134,
                        120,
                        120,
                        130,
                        130,
                        130,
                        118,
                        134,
                        130
                      ],
                      "y": [
                        188,
                        149,
                        266,
                        149,
                        269,
                        149,
                        188,
                        271,
                        271,
                        188,
                        188,
                        266,
                        266,
                        269,
                        149,
                        271,
                        269
                      ],
                      "type": "scatter"
                    }
                  ],
                  "name": "49"
                },
                {
                  "data": [
                    {
                      "marker": {
                        "color": [
                          1,
                          1,
                          1,
                          1,
                          1,
                          1,
                          1,
                          0,
                          1,
                          1,
                          1,
                          1,
                          1,
                          1,
                          1,
                          1,
                          1,
                          1,
                          1,
                          0,
                          0,
                          1,
                          1
                        ],
                        "size": [
                          0.2,
                          0,
                          0,
                          0,
                          0.5,
                          0,
                          0,
                          0.2,
                          0.2,
                          0,
                          1,
                          0,
                          1,
                          1,
                          0,
                          0,
                          0.5,
                          0.2,
                          0,
                          0.2,
                          0.2,
                          0.5,
                          1
                        ],
                        "sizemode": "area",
                        "sizeref": 0.0006458333333333333
                      },
                      "mode": "markers",
                      "text": [
                        "1",
                        "1",
                        "1",
                        "1",
                        "1",
                        "1",
                        "1",
                        "0",
                        "1",
                        "1",
                        "1",
                        "1",
                        "1",
                        "1",
                        "1",
                        "1",
                        "1",
                        "1",
                        "1",
                        "0",
                        "0",
                        "1",
                        "1"
                      ],
                      "x": [
                        130,
                        130,
                        124,
                        130,
                        124,
                        122,
                        130,
                        130,
                        130,
                        122,
                        110,
                        124,
                        110,
                        110,
                        122,
                        130,
                        124,
                        130,
                        124,
                        130,
                        130,
                        124,
                        110
                      ],
                      "y": [
                        245,
                        256,
                        255,
                        256,
                        274,
                        222,
                        256,
                        275,
                        245,
                        222,
                        229,
                        255,
                        229,
                        229,
                        222,
                        256,
                        274,
                        245,
                        255,
                        275,
                        275,
                        274,
                        229
                      ],
                      "type": "scatter"
                    }
                  ],
                  "name": "48"
                },
                {
                  "data": [
                    {
                      "marker": {
                        "color": [
                          1,
                          1,
                          1,
                          1
                        ],
                        "size": [
                          0,
                          0,
                          0,
                          0
                        ],
                        "sizemode": "area",
                        "sizeref": 0.0006458333333333333
                      },
                      "mode": "markers",
                      "text": [
                        "1",
                        "1",
                        "1",
                        "1"
                      ],
                      "x": [
                        130,
                        130,
                        130,
                        130
                      ],
                      "y": [
                        204,
                        204,
                        204,
                        204
                      ],
                      "type": "scatter"
                    }
                  ],
                  "name": "29"
                },
                {
                  "data": [
                    {
                      "marker": {
                        "color": [
                          0,
                          0,
                          0,
                          1,
                          1,
                          1
                        ],
                        "size": [
                          0,
                          0,
                          0,
                          3.5,
                          3.5,
                          3.5
                        ],
                        "sizemode": "area",
                        "sizeref": 0.0006458333333333333
                      },
                      "mode": "markers",
                      "text": [
                        "0",
                        "0",
                        "0",
                        "1",
                        "1",
                        "1"
                      ],
                      "x": [
                        120,
                        120,
                        120,
                        130,
                        130,
                        130
                      ],
                      "y": [
                        215,
                        215,
                        215,
                        250,
                        250,
                        250
                      ],
                      "type": "scatter"
                    }
                  ],
                  "name": "37"
                },
                {
                  "data": [
                    {
                      "marker": {
                        "color": [
                          1,
                          1,
                          1,
                          1,
                          1,
                          1,
                          1,
                          1,
                          1,
                          1,
                          1,
                          1,
                          1,
                          1,
                          1,
                          1,
                          1,
                          1
                        ],
                        "size": [
                          0,
                          0,
                          1,
                          0,
                          0.1,
                          1,
                          0,
                          0,
                          0,
                          0,
                          1,
                          0,
                          0,
                          0,
                          0.1,
                          0,
                          0.1,
                          1
                        ],
                        "sizemode": "area",
                        "sizeref": 0.0006458333333333333
                      },
                      "mode": "markers",
                      "text": [
                        "1",
                        "1",
                        "1",
                        "1",
                        "1",
                        "1",
                        "1",
                        "1",
                        "1",
                        "1",
                        "1",
                        "1",
                        "1",
                        "1",
                        "1",
                        "1",
                        "1",
                        "1"
                      ],
                      "x": [
                        138,
                        138,
                        110,
                        138,
                        112,
                        110,
                        108,
                        130,
                        130,
                        108,
                        110,
                        108,
                        130,
                        108,
                        112,
                        130,
                        112,
                        110
                      ],
                      "y": [
                        257,
                        257,
                        275,
                        257,
                        204,
                        275,
                        243,
                        253,
                        253,
                        243,
                        275,
                        243,
                        253,
                        243,
                        204,
                        253,
                        204,
                        275
                      ],
                      "type": "scatter"
                    }
                  ],
                  "name": "47"
                },
                {
                  "data": [
                    {
                      "marker": {
                        "color": [
                          1,
                          1,
                          1,
                          1,
                          1,
                          1,
                          0,
                          1,
                          1,
                          1,
                          0,
                          0
                        ],
                        "size": [
                          3.4,
                          1.6,
                          1.6,
                          1,
                          1,
                          1.6,
                          1.5,
                          3.4,
                          3.4,
                          1,
                          1.5,
                          1.5
                        ],
                        "sizemode": "area",
                        "sizeref": 0.0006458333333333333
                      },
                      "mode": "markers",
                      "text": [
                        "1",
                        "1",
                        "1",
                        "1",
                        "1",
                        "1",
                        "0",
                        "1",
                        "1",
                        "1",
                        "0",
                        "0"
                      ],
                      "x": [
                        144,
                        180,
                        180,
                        118,
                        118,
                        180,
                        120,
                        144,
                        144,
                        118,
                        120,
                        120
                      ],
                      "y": [
                        193,
                        274,
                        274,
                        277,
                        277,
                        274,
                        211,
                        193,
                        193,
                        277,
                        211,
                        211
                      ],
                      "type": "scatter"
                    }
                  ],
                  "name": "68"
                },
                {
                  "data": [
                    {
                      "marker": {
                        "color": [
                          0,
                          0,
                          0
                        ],
                        "size": [
                          1.1,
                          1.1,
                          1.1
                        ],
                        "sizemode": "area",
                        "sizeref": 0.0006458333333333333
                      },
                      "mode": "markers",
                      "text": [
                        "0",
                        "0",
                        "0"
                      ],
                      "x": [
                        140,
                        140,
                        140
                      ],
                      "y": [
                        197,
                        197,
                        197
                      ],
                      "type": "scatter"
                    }
                  ],
                  "name": "76"
                },
                {
                  "data": [
                    {
                      "marker": {
                        "color": [
                          1,
                          1,
                          1,
                          1,
                          1,
                          1,
                          1,
                          1,
                          1,
                          1,
                          1
                        ],
                        "size": [
                          0,
                          2,
                          1.4,
                          2,
                          0,
                          1.4,
                          2,
                          1.4,
                          2,
                          0,
                          0
                        ],
                        "sizemode": "area",
                        "sizeref": 0.0006458333333333333
                      },
                      "mode": "markers",
                      "text": [
                        "1",
                        "1",
                        "1",
                        "1",
                        "1",
                        "1",
                        "1",
                        "1",
                        "1",
                        "1",
                        "1"
                      ],
                      "x": [
                        152,
                        110,
                        140,
                        110,
                        152,
                        140,
                        110,
                        140,
                        110,
                        152,
                        152
                      ],
                      "y": [
                        223,
                        167,
                        199,
                        167,
                        223,
                        199,
                        167,
                        199,
                        167,
                        223,
                        223
                      ],
                      "type": "scatter"
                    }
                  ],
                  "name": "40"
                },
                {
                  "data": [
                    {
                      "marker": {
                        "color": [
                          1,
                          0,
                          0,
                          0,
                          0,
                          0,
                          1,
                          0,
                          0,
                          1,
                          1,
                          1,
                          1,
                          1
                        ],
                        "size": [
                          0,
                          0,
                          0,
                          0,
                          0,
                          0,
                          0,
                          0,
                          0,
                          1.2,
                          0,
                          1.2,
                          1.2,
                          1.2
                        ],
                        "sizemode": "area",
                        "sizeref": 0.0006458333333333333
                      },
                      "mode": "markers",
                      "text": [
                        "1",
                        "0",
                        "0",
                        "0",
                        "0",
                        "0",
                        "1",
                        "0",
                        "0",
                        "1",
                        "1",
                        "1",
                        "1",
                        "1"
                      ],
                      "x": [
                        140,
                        94,
                        94,
                        138,
                        138,
                        138,
                        140,
                        94,
                        138,
                        118,
                        140,
                        118,
                        118,
                        118
                      ],
                      "y": [
                        321,
                        199,
                        199,
                        220,
                        220,
                        220,
                        321,
                        199,
                        220,
                        219,
                        321,
                        219,
                        219,
                        219
                      ],
                      "type": "scatter"
                    }
                  ],
                  "name": "39"
                },
                {
                  "data": [
                    {
                      "marker": {
                        "color": [
                          1,
                          1,
                          1
                        ],
                        "size": [
                          0,
                          0,
                          0
                        ],
                        "sizemode": "area",
                        "sizeref": 0.0006458333333333333
                      },
                      "mode": "markers",
                      "text": [
                        "1",
                        "1",
                        "1"
                      ],
                      "x": [
                        125,
                        125,
                        125
                      ],
                      "y": [
                        304,
                        304,
                        304
                      ],
                      "type": "scatter"
                    }
                  ],
                  "name": "77"
                },
                {
                  "data": [
                    {
                      "marker": {
                        "color": [
                          1,
                          1,
                          1,
                          1,
                          1,
                          1,
                          0,
                          0,
                          0
                        ],
                        "size": [
                          0.1,
                          0.1,
                          2,
                          0.1,
                          2,
                          2,
                          1.8,
                          1.8,
                          1.8
                        ],
                        "sizemode": "area",
                        "sizeref": 0.0006458333333333333
                      },
                      "mode": "markers",
                      "text": [
                        "1",
                        "1",
                        "1",
                        "1",
                        "1",
                        "1",
                        "0",
                        "0",
                        "0"
                      ],
                      "x": [
                        160,
                        160,
                        140,
                        160,
                        140,
                        140,
                        140,
                        140,
                        140
                      ],
                      "y": [
                        234,
                        234,
                        254,
                        234,
                        254,
                        254,
                        239,
                        239,
                        239
                      ],
                      "type": "scatter"
                    }
                  ],
                  "name": "69"
                },
                {
                  "data": [
                    {
                      "marker": {
                        "color": [
                          1,
                          0,
                          1,
                          1,
                          1,
                          1,
                          0,
                          1,
                          1,
                          1,
                          1,
                          1,
                          0,
                          0,
                          1
                        ],
                        "size": [
                          1.6,
                          1.4,
                          0,
                          0,
                          0,
                          0,
                          1.4,
                          0,
                          0,
                          0,
                          1.6,
                          1.6,
                          1.4,
                          1.4,
                          1.6
                        ],
                        "sizemode": "area",
                        "sizeref": 0.0006458333333333333
                      },
                      "mode": "markers",
                      "text": [
                        "1",
                        "0",
                        "1",
                        "1",
                        "1",
                        "1",
                        "0",
                        "1",
                        "1",
                        "1",
                        "1",
                        "1",
                        "0",
                        "0",
                        "1"
                      ],
                      "x": [
                        120,
                        138,
                        122,
                        122,
                        126,
                        122,
                        138,
                        122,
                        126,
                        126,
                        120,
                        120,
                        138,
                        138,
                        120
                      ],
                      "y": [
                        198,
                        183,
                        192,
                        192,
                        282,
                        192,
                        183,
                        192,
                        282,
                        282,
                        198,
                        198,
                        183,
                        183,
                        198
                      ],
                      "type": "scatter"
                    }
                  ],
                  "name": "35"
                },
                {
                  "data": [
                    {
                      "marker": {
                        "color": [
                          0,
                          0,
                          0
                        ],
                        "size": [
                          0.2,
                          0.2,
                          0.2
                        ],
                        "sizemode": "area",
                        "sizeref": 0.0006458333333333333
                      },
                      "mode": "markers",
                      "text": [
                        "0",
                        "0",
                        "0"
                      ],
                      "x": [
                        120,
                        120,
                        120
                      ],
                      "y": [
                        269,
                        269,
                        269
                      ],
                      "type": "scatter"
                    }
                  ],
                  "name": "74"
                }
              ],
              "config": {
                "scrollzoom": true,
                "showLink": false,
                "linkText": "Export to plot.ly",
                "plotlyServerURL": "https://plot.ly"
              }
            },
            "text/html": [
              "<div>                            <div id=\"bba5171b-0504-4c51-bf95-fe73310b7607\" class=\"plotly-graph-div\" style=\"height:650px; width:100%;\"></div>            <script type=\"text/javascript\">                require([\"plotly\"], function(Plotly) {                    window.PLOTLYENV=window.PLOTLYENV || {};                                    if (document.getElementById(\"bba5171b-0504-4c51-bf95-fe73310b7607\")) {                    Plotly.newPlot(                        \"bba5171b-0504-4c51-bf95-fe73310b7607\",                        [{\"marker\":{\"color\":[1,1,1,1],\"size\":[0.0,0.0,0.0,0.0],\"sizemode\":\"area\",\"sizeref\":0.0006458333333333333},\"mode\":\"markers\",\"text\":[\"1\",\"1\",\"1\",\"1\"],\"x\":[130,130,130,130],\"y\":[204,204,204,204],\"type\":\"scatter\"}],                        {\"height\":650,\"hovermode\":\"closest\",\"margin\":{\"b\":50,\"pad\":5,\"t\":50},\"showlegend\":false,\"sliders\":[{\"active\":0,\"currentvalue\":{\"font\":{\"size\":20},\"prefix\":\"Year:\",\"visible\":true,\"xanchor\":\"right\"},\"len\":0.9,\"pad\":{\"b\":10,\"t\":50},\"steps\":[{\"args\":[[52],{\"frame\":{\"duration\":300,\"redraw\":false},\"mode\":\"immediate\",\"transition\":{\"duration\":300}}],\"label\":\"52\",\"method\":\"animate\"},{\"args\":[[53],{\"frame\":{\"duration\":300,\"redraw\":false},\"mode\":\"immediate\",\"transition\":{\"duration\":300}}],\"label\":\"53\",\"method\":\"animate\"},{\"args\":[[70],{\"frame\":{\"duration\":300,\"redraw\":false},\"mode\":\"immediate\",\"transition\":{\"duration\":300}}],\"label\":\"70\",\"method\":\"animate\"},{\"args\":[[61],{\"frame\":{\"duration\":300,\"redraw\":false},\"mode\":\"immediate\",\"transition\":{\"duration\":300}}],\"label\":\"61\",\"method\":\"animate\"},{\"args\":[[62],{\"frame\":{\"duration\":300,\"redraw\":false},\"mode\":\"immediate\",\"transition\":{\"duration\":300}}],\"label\":\"62\",\"method\":\"animate\"},{\"args\":[[58],{\"frame\":{\"duration\":300,\"redraw\":false},\"mode\":\"immediate\",\"transition\":{\"duration\":300}}],\"label\":\"58\",\"method\":\"animate\"},{\"args\":[[55],{\"frame\":{\"duration\":300,\"redraw\":false},\"mode\":\"immediate\",\"transition\":{\"duration\":300}}],\"label\":\"55\",\"method\":\"animate\"},{\"args\":[[46],{\"frame\":{\"duration\":300,\"redraw\":false},\"mode\":\"immediate\",\"transition\":{\"duration\":300}}],\"label\":\"46\",\"method\":\"animate\"},{\"args\":[[54],{\"frame\":{\"duration\":300,\"redraw\":false},\"mode\":\"immediate\",\"transition\":{\"duration\":300}}],\"label\":\"54\",\"method\":\"animate\"},{\"args\":[[71],{\"frame\":{\"duration\":300,\"redraw\":false},\"mode\":\"immediate\",\"transition\":{\"duration\":300}}],\"label\":\"71\",\"method\":\"animate\"},{\"args\":[[43],{\"frame\":{\"duration\":300,\"redraw\":false},\"mode\":\"immediate\",\"transition\":{\"duration\":300}}],\"label\":\"43\",\"method\":\"animate\"},{\"args\":[[34],{\"frame\":{\"duration\":300,\"redraw\":false},\"mode\":\"immediate\",\"transition\":{\"duration\":300}}],\"label\":\"34\",\"method\":\"animate\"},{\"args\":[[51],{\"frame\":{\"duration\":300,\"redraw\":false},\"mode\":\"immediate\",\"transition\":{\"duration\":300}}],\"label\":\"51\",\"method\":\"animate\"},{\"args\":[[50],{\"frame\":{\"duration\":300,\"redraw\":false},\"mode\":\"immediate\",\"transition\":{\"duration\":300}}],\"label\":\"50\",\"method\":\"animate\"},{\"args\":[[60],{\"frame\":{\"duration\":300,\"redraw\":false},\"mode\":\"immediate\",\"transition\":{\"duration\":300}}],\"label\":\"60\",\"method\":\"animate\"},{\"args\":[[67],{\"frame\":{\"duration\":300,\"redraw\":false},\"mode\":\"immediate\",\"transition\":{\"duration\":300}}],\"label\":\"67\",\"method\":\"animate\"},{\"args\":[[45],{\"frame\":{\"duration\":300,\"redraw\":false},\"mode\":\"immediate\",\"transition\":{\"duration\":300}}],\"label\":\"45\",\"method\":\"animate\"},{\"args\":[[63],{\"frame\":{\"duration\":300,\"redraw\":false},\"mode\":\"immediate\",\"transition\":{\"duration\":300}}],\"label\":\"63\",\"method\":\"animate\"},{\"args\":[[42],{\"frame\":{\"duration\":300,\"redraw\":false},\"mode\":\"immediate\",\"transition\":{\"duration\":300}}],\"label\":\"42\",\"method\":\"animate\"},{\"args\":[[44],{\"frame\":{\"duration\":300,\"redraw\":false},\"mode\":\"immediate\",\"transition\":{\"duration\":300}}],\"label\":\"44\",\"method\":\"animate\"},{\"args\":[[56],{\"frame\":{\"duration\":300,\"redraw\":false},\"mode\":\"immediate\",\"transition\":{\"duration\":300}}],\"label\":\"56\",\"method\":\"animate\"},{\"args\":[[57],{\"frame\":{\"duration\":300,\"redraw\":false},\"mode\":\"immediate\",\"transition\":{\"duration\":300}}],\"label\":\"57\",\"method\":\"animate\"},{\"args\":[[59],{\"frame\":{\"duration\":300,\"redraw\":false},\"mode\":\"immediate\",\"transition\":{\"duration\":300}}],\"label\":\"59\",\"method\":\"animate\"},{\"args\":[[64],{\"frame\":{\"duration\":300,\"redraw\":false},\"mode\":\"immediate\",\"transition\":{\"duration\":300}}],\"label\":\"64\",\"method\":\"animate\"},{\"args\":[[65],{\"frame\":{\"duration\":300,\"redraw\":false},\"mode\":\"immediate\",\"transition\":{\"duration\":300}}],\"label\":\"65\",\"method\":\"animate\"},{\"args\":[[41],{\"frame\":{\"duration\":300,\"redraw\":false},\"mode\":\"immediate\",\"transition\":{\"duration\":300}}],\"label\":\"41\",\"method\":\"animate\"},{\"args\":[[66],{\"frame\":{\"duration\":300,\"redraw\":false},\"mode\":\"immediate\",\"transition\":{\"duration\":300}}],\"label\":\"66\",\"method\":\"animate\"},{\"args\":[[38],{\"frame\":{\"duration\":300,\"redraw\":false},\"mode\":\"immediate\",\"transition\":{\"duration\":300}}],\"label\":\"38\",\"method\":\"animate\"},{\"args\":[[49],{\"frame\":{\"duration\":300,\"redraw\":false},\"mode\":\"immediate\",\"transition\":{\"duration\":300}}],\"label\":\"49\",\"method\":\"animate\"},{\"args\":[[48],{\"frame\":{\"duration\":300,\"redraw\":false},\"mode\":\"immediate\",\"transition\":{\"duration\":300}}],\"label\":\"48\",\"method\":\"animate\"},{\"args\":[[29],{\"frame\":{\"duration\":300,\"redraw\":false},\"mode\":\"immediate\",\"transition\":{\"duration\":300}}],\"label\":\"29\",\"method\":\"animate\"},{\"args\":[[37],{\"frame\":{\"duration\":300,\"redraw\":false},\"mode\":\"immediate\",\"transition\":{\"duration\":300}}],\"label\":\"37\",\"method\":\"animate\"},{\"args\":[[47],{\"frame\":{\"duration\":300,\"redraw\":false},\"mode\":\"immediate\",\"transition\":{\"duration\":300}}],\"label\":\"47\",\"method\":\"animate\"},{\"args\":[[68],{\"frame\":{\"duration\":300,\"redraw\":false},\"mode\":\"immediate\",\"transition\":{\"duration\":300}}],\"label\":\"68\",\"method\":\"animate\"},{\"args\":[[76],{\"frame\":{\"duration\":300,\"redraw\":false},\"mode\":\"immediate\",\"transition\":{\"duration\":300}}],\"label\":\"76\",\"method\":\"animate\"},{\"args\":[[40],{\"frame\":{\"duration\":300,\"redraw\":false},\"mode\":\"immediate\",\"transition\":{\"duration\":300}}],\"label\":\"40\",\"method\":\"animate\"},{\"args\":[[39],{\"frame\":{\"duration\":300,\"redraw\":false},\"mode\":\"immediate\",\"transition\":{\"duration\":300}}],\"label\":\"39\",\"method\":\"animate\"},{\"args\":[[77],{\"frame\":{\"duration\":300,\"redraw\":false},\"mode\":\"immediate\",\"transition\":{\"duration\":300}}],\"label\":\"77\",\"method\":\"animate\"},{\"args\":[[69],{\"frame\":{\"duration\":300,\"redraw\":false},\"mode\":\"immediate\",\"transition\":{\"duration\":300}}],\"label\":\"69\",\"method\":\"animate\"},{\"args\":[[35],{\"frame\":{\"duration\":300,\"redraw\":false},\"mode\":\"immediate\",\"transition\":{\"duration\":300}}],\"label\":\"35\",\"method\":\"animate\"},{\"args\":[[74],{\"frame\":{\"duration\":300,\"redraw\":false},\"mode\":\"immediate\",\"transition\":{\"duration\":300}}],\"label\":\"74\",\"method\":\"animate\"}],\"transition\":{\"duration\":300,\"easing\":\"cubic-in-out\"},\"x\":0.1,\"xanchor\":\"left\",\"y\":0,\"yanchor\":\"top\"}],\"template\":{\"data\":{\"barpolar\":[{\"marker\":{\"line\":{\"color\":\"#E5ECF6\",\"width\":0.5},\"pattern\":{\"fillmode\":\"overlay\",\"size\":10,\"solidity\":0.2}},\"type\":\"barpolar\"}],\"bar\":[{\"error_x\":{\"color\":\"#2a3f5f\"},\"error_y\":{\"color\":\"#2a3f5f\"},\"marker\":{\"line\":{\"color\":\"#E5ECF6\",\"width\":0.5},\"pattern\":{\"fillmode\":\"overlay\",\"size\":10,\"solidity\":0.2}},\"type\":\"bar\"}],\"carpet\":[{\"aaxis\":{\"endlinecolor\":\"#2a3f5f\",\"gridcolor\":\"white\",\"linecolor\":\"white\",\"minorgridcolor\":\"white\",\"startlinecolor\":\"#2a3f5f\"},\"baxis\":{\"endlinecolor\":\"#2a3f5f\",\"gridcolor\":\"white\",\"linecolor\":\"white\",\"minorgridcolor\":\"white\",\"startlinecolor\":\"#2a3f5f\"},\"type\":\"carpet\"}],\"choropleth\":[{\"colorbar\":{\"outlinewidth\":0,\"ticks\":\"\"},\"type\":\"choropleth\"}],\"contourcarpet\":[{\"colorbar\":{\"outlinewidth\":0,\"ticks\":\"\"},\"type\":\"contourcarpet\"}],\"contour\":[{\"colorbar\":{\"outlinewidth\":0,\"ticks\":\"\"},\"colorscale\":[[0.0,\"#0d0887\"],[0.1111111111111111,\"#46039f\"],[0.2222222222222222,\"#7201a8\"],[0.3333333333333333,\"#9c179e\"],[0.4444444444444444,\"#bd3786\"],[0.5555555555555556,\"#d8576b\"],[0.6666666666666666,\"#ed7953\"],[0.7777777777777778,\"#fb9f3a\"],[0.8888888888888888,\"#fdca26\"],[1.0,\"#f0f921\"]],\"type\":\"contour\"}],\"heatmapgl\":[{\"colorbar\":{\"outlinewidth\":0,\"ticks\":\"\"},\"colorscale\":[[0.0,\"#0d0887\"],[0.1111111111111111,\"#46039f\"],[0.2222222222222222,\"#7201a8\"],[0.3333333333333333,\"#9c179e\"],[0.4444444444444444,\"#bd3786\"],[0.5555555555555556,\"#d8576b\"],[0.6666666666666666,\"#ed7953\"],[0.7777777777777778,\"#fb9f3a\"],[0.8888888888888888,\"#fdca26\"],[1.0,\"#f0f921\"]],\"type\":\"heatmapgl\"}],\"heatmap\":[{\"colorbar\":{\"outlinewidth\":0,\"ticks\":\"\"},\"colorscale\":[[0.0,\"#0d0887\"],[0.1111111111111111,\"#46039f\"],[0.2222222222222222,\"#7201a8\"],[0.3333333333333333,\"#9c179e\"],[0.4444444444444444,\"#bd3786\"],[0.5555555555555556,\"#d8576b\"],[0.6666666666666666,\"#ed7953\"],[0.7777777777777778,\"#fb9f3a\"],[0.8888888888888888,\"#fdca26\"],[1.0,\"#f0f921\"]],\"type\":\"heatmap\"}],\"histogram2dcontour\":[{\"colorbar\":{\"outlinewidth\":0,\"ticks\":\"\"},\"colorscale\":[[0.0,\"#0d0887\"],[0.1111111111111111,\"#46039f\"],[0.2222222222222222,\"#7201a8\"],[0.3333333333333333,\"#9c179e\"],[0.4444444444444444,\"#bd3786\"],[0.5555555555555556,\"#d8576b\"],[0.6666666666666666,\"#ed7953\"],[0.7777777777777778,\"#fb9f3a\"],[0.8888888888888888,\"#fdca26\"],[1.0,\"#f0f921\"]],\"type\":\"histogram2dcontour\"}],\"histogram2d\":[{\"colorbar\":{\"outlinewidth\":0,\"ticks\":\"\"},\"colorscale\":[[0.0,\"#0d0887\"],[0.1111111111111111,\"#46039f\"],[0.2222222222222222,\"#7201a8\"],[0.3333333333333333,\"#9c179e\"],[0.4444444444444444,\"#bd3786\"],[0.5555555555555556,\"#d8576b\"],[0.6666666666666666,\"#ed7953\"],[0.7777777777777778,\"#fb9f3a\"],[0.8888888888888888,\"#fdca26\"],[1.0,\"#f0f921\"]],\"type\":\"histogram2d\"}],\"histogram\":[{\"marker\":{\"pattern\":{\"fillmode\":\"overlay\",\"size\":10,\"solidity\":0.2}},\"type\":\"histogram\"}],\"mesh3d\":[{\"colorbar\":{\"outlinewidth\":0,\"ticks\":\"\"},\"type\":\"mesh3d\"}],\"parcoords\":[{\"line\":{\"colorbar\":{\"outlinewidth\":0,\"ticks\":\"\"}},\"type\":\"parcoords\"}],\"pie\":[{\"automargin\":true,\"type\":\"pie\"}],\"scatter3d\":[{\"line\":{\"colorbar\":{\"outlinewidth\":0,\"ticks\":\"\"}},\"marker\":{\"colorbar\":{\"outlinewidth\":0,\"ticks\":\"\"}},\"type\":\"scatter3d\"}],\"scattercarpet\":[{\"marker\":{\"colorbar\":{\"outlinewidth\":0,\"ticks\":\"\"}},\"type\":\"scattercarpet\"}],\"scattergeo\":[{\"marker\":{\"colorbar\":{\"outlinewidth\":0,\"ticks\":\"\"}},\"type\":\"scattergeo\"}],\"scattergl\":[{\"marker\":{\"colorbar\":{\"outlinewidth\":0,\"ticks\":\"\"}},\"type\":\"scattergl\"}],\"scattermapbox\":[{\"marker\":{\"colorbar\":{\"outlinewidth\":0,\"ticks\":\"\"}},\"type\":\"scattermapbox\"}],\"scatterpolargl\":[{\"marker\":{\"colorbar\":{\"outlinewidth\":0,\"ticks\":\"\"}},\"type\":\"scatterpolargl\"}],\"scatterpolar\":[{\"marker\":{\"colorbar\":{\"outlinewidth\":0,\"ticks\":\"\"}},\"type\":\"scatterpolar\"}],\"scatter\":[{\"fillpattern\":{\"fillmode\":\"overlay\",\"size\":10,\"solidity\":0.2},\"type\":\"scatter\"}],\"scatterternary\":[{\"marker\":{\"colorbar\":{\"outlinewidth\":0,\"ticks\":\"\"}},\"type\":\"scatterternary\"}],\"surface\":[{\"colorbar\":{\"outlinewidth\":0,\"ticks\":\"\"},\"colorscale\":[[0.0,\"#0d0887\"],[0.1111111111111111,\"#46039f\"],[0.2222222222222222,\"#7201a8\"],[0.3333333333333333,\"#9c179e\"],[0.4444444444444444,\"#bd3786\"],[0.5555555555555556,\"#d8576b\"],[0.6666666666666666,\"#ed7953\"],[0.7777777777777778,\"#fb9f3a\"],[0.8888888888888888,\"#fdca26\"],[1.0,\"#f0f921\"]],\"type\":\"surface\"}],\"table\":[{\"cells\":{\"fill\":{\"color\":\"#EBF0F8\"},\"line\":{\"color\":\"white\"}},\"header\":{\"fill\":{\"color\":\"#C8D4E3\"},\"line\":{\"color\":\"white\"}},\"type\":\"table\"}]},\"layout\":{\"annotationdefaults\":{\"arrowcolor\":\"#2a3f5f\",\"arrowhead\":0,\"arrowwidth\":1},\"autotypenumbers\":\"strict\",\"coloraxis\":{\"colorbar\":{\"outlinewidth\":0,\"ticks\":\"\"}},\"colorscale\":{\"diverging\":[[0,\"#8e0152\"],[0.1,\"#c51b7d\"],[0.2,\"#de77ae\"],[0.3,\"#f1b6da\"],[0.4,\"#fde0ef\"],[0.5,\"#f7f7f7\"],[0.6,\"#e6f5d0\"],[0.7,\"#b8e186\"],[0.8,\"#7fbc41\"],[0.9,\"#4d9221\"],[1,\"#276419\"]],\"sequential\":[[0.0,\"#0d0887\"],[0.1111111111111111,\"#46039f\"],[0.2222222222222222,\"#7201a8\"],[0.3333333333333333,\"#9c179e\"],[0.4444444444444444,\"#bd3786\"],[0.5555555555555556,\"#d8576b\"],[0.6666666666666666,\"#ed7953\"],[0.7777777777777778,\"#fb9f3a\"],[0.8888888888888888,\"#fdca26\"],[1.0,\"#f0f921\"]],\"sequentialminus\":[[0.0,\"#0d0887\"],[0.1111111111111111,\"#46039f\"],[0.2222222222222222,\"#7201a8\"],[0.3333333333333333,\"#9c179e\"],[0.4444444444444444,\"#bd3786\"],[0.5555555555555556,\"#d8576b\"],[0.6666666666666666,\"#ed7953\"],[0.7777777777777778,\"#fb9f3a\"],[0.8888888888888888,\"#fdca26\"],[1.0,\"#f0f921\"]]},\"colorway\":[\"#636efa\",\"#EF553B\",\"#00cc96\",\"#ab63fa\",\"#FFA15A\",\"#19d3f3\",\"#FF6692\",\"#B6E880\",\"#FF97FF\",\"#FECB52\"],\"font\":{\"color\":\"#2a3f5f\"},\"geo\":{\"bgcolor\":\"white\",\"lakecolor\":\"white\",\"landcolor\":\"#E5ECF6\",\"showlakes\":true,\"showland\":true,\"subunitcolor\":\"white\"},\"hoverlabel\":{\"align\":\"left\"},\"hovermode\":\"closest\",\"mapbox\":{\"style\":\"light\"},\"paper_bgcolor\":\"white\",\"plot_bgcolor\":\"#E5ECF6\",\"polar\":{\"angularaxis\":{\"gridcolor\":\"white\",\"linecolor\":\"white\",\"ticks\":\"\"},\"bgcolor\":\"#E5ECF6\",\"radialaxis\":{\"gridcolor\":\"white\",\"linecolor\":\"white\",\"ticks\":\"\"}},\"scene\":{\"xaxis\":{\"backgroundcolor\":\"#E5ECF6\",\"gridcolor\":\"white\",\"gridwidth\":2,\"linecolor\":\"white\",\"showbackground\":true,\"ticks\":\"\",\"zerolinecolor\":\"white\"},\"yaxis\":{\"backgroundcolor\":\"#E5ECF6\",\"gridcolor\":\"white\",\"gridwidth\":2,\"linecolor\":\"white\",\"showbackground\":true,\"ticks\":\"\",\"zerolinecolor\":\"white\"},\"zaxis\":{\"backgroundcolor\":\"#E5ECF6\",\"gridcolor\":\"white\",\"gridwidth\":2,\"linecolor\":\"white\",\"showbackground\":true,\"ticks\":\"\",\"zerolinecolor\":\"white\"}},\"shapedefaults\":{\"line\":{\"color\":\"#2a3f5f\"}},\"ternary\":{\"aaxis\":{\"gridcolor\":\"white\",\"linecolor\":\"white\",\"ticks\":\"\"},\"baxis\":{\"gridcolor\":\"white\",\"linecolor\":\"white\",\"ticks\":\"\"},\"bgcolor\":\"#E5ECF6\",\"caxis\":{\"gridcolor\":\"white\",\"linecolor\":\"white\",\"ticks\":\"\"}},\"title\":{\"x\":0.05},\"xaxis\":{\"automargin\":true,\"gridcolor\":\"white\",\"linecolor\":\"white\",\"ticks\":\"\",\"title\":{\"standoff\":15},\"zerolinecolor\":\"white\",\"zerolinewidth\":2},\"yaxis\":{\"automargin\":true,\"gridcolor\":\"white\",\"linecolor\":\"white\",\"ticks\":\"\",\"title\":{\"standoff\":15},\"zerolinecolor\":\"white\",\"zerolinewidth\":2}}},\"title\":{\"text\":\"BP vs Chol. vs Age vs Sex vs Heart Rate\"},\"updatemenus\":[{\"buttons\":[{\"args\":[null,{\"frame\":{\"duration\":500,\"redraw\":false},\"fromcurrent\":true,\"transition\":{\"duration\":300,\"easing\":\"quadratic-in-out\"}}],\"label\":\"Play\",\"method\":\"animate\"},{\"args\":[[null],{\"frame\":{\"duration\":0,\"redraw\":false},\"mode\":\"immediate\",\"transition\":{\"duration\":0}}],\"label\":\"Pause\",\"method\":\"animate\"}],\"direction\":\"left\",\"pad\":{\"r\":10,\"t\":87},\"showactive\":false,\"type\":\"buttons\",\"x\":0.1,\"xanchor\":\"right\",\"y\":0,\"yanchor\":\"top\"}],\"xaxis\":{\"autorange\":false,\"range\":[65.8,280.0],\"title\":{\"text\":\"Resting Blood Pressure\"}},\"yaxis\":{\"autorange\":false,\"range\":[88.19999999999999,789.5999999999999],\"title\":{\"text\":\"Cholestrol\"}}},                        {\"scrollzoom\": true, \"responsive\": true}                    ).then(function(){\n",
              "                            Plotly.addFrames('bba5171b-0504-4c51-bf95-fe73310b7607', [{\"data\":[{\"marker\":{\"color\":[1,1,1,1,1,1,1,1,1,1,1,0,1,1,1,1,1,1,1,1,1,1,1,1,1,1,1,1,1,1,1,1,1,1,1,0,0,1,1,1,1,1,1],\"size\":[1.0,1.0,0.8,0.8,0.0,0.0,1.2,1.2,0.0,0.0,0.2,0.1,0.5,0.0,0.0,0.0,0.0,0.0,0.2,1.2,1.0,1.0,1.0,0.1,0.0,1.0,0.0,0.0,0.5,0.0,0.0,0.0,1.0,1.0,0.8,0.1,0.1,0.1,0.2,0.5,0.0,0.0,0.1],\"sizemode\":\"area\",\"sizeref\":0.0006458333333333333},\"mode\":\"markers\",\"text\":[\"1\",\"1\",\"1\",\"1\",\"1\",\"1\",\"1\",\"1\",\"1\",\"1\",\"1\",\"0\",\"1\",\"1\",\"1\",\"1\",\"1\",\"1\",\"1\",\"1\",\"1\",\"1\",\"1\",\"1\",\"1\",\"1\",\"1\",\"1\",\"1\",\"1\",\"1\",\"1\",\"1\",\"1\",\"1\",\"0\",\"0\",\"1\",\"1\",\"1\",\"1\",\"1\",\"1\"],\"x\":[125,128,134,134,118,138,152,152,128,138,120,136,172,118,138,128,112,118,120,152,125,125,128,108,112,128,128,112,172,128,128,112,125,128,134,136,136,108,120,172,118,128,108],\"y\":[212,204,201,201,186,223,298,298,205,223,325,196,199,186,223,205,230,186,325,298,212,212,204,233,230,204,255,230,199,255,255,230,212,204,201,196,196,233,325,199,186,205,233],\"type\":\"scatter\"}],\"name\":\"52\"},{\"data\":[{\"marker\":{\"color\":[1,1,1,1,1,1,0,0,0,0,1,1,1,0,1,0,0,1,1,1,1,0,1,0,1,1],\"size\":[3.1,1.2,2.0,0.0,1.2,2.0,0.0,0.4,0.0,0.0,0.0,0.0,0.0,0.0,1.2,0.0,0.4,3.1,2.0,0.0,3.1,0.0,0.0,0.4,3.1,2.0],\"sizemode\":\"area\",\"sizeref\":0.0006458333333333333},\"mode\":\"markers\",\"text\":[\"1\",\"1\",\"1\",\"1\",\"1\",\"1\",\"0\",\"0\",\"0\",\"0\",\"1\",\"1\",\"1\",\"0\",\"1\",\"0\",\"0\",\"1\",\"1\",\"1\",\"1\",\"0\",\"1\",\"0\",\"1\",\"1\"],\"x\":[140,130,123,142,130,123,128,130,128,128,130,130,130,138,130,138,130,140,123,142,140,138,142,130,140,123],\"y\":[203,197,282,226,197,282,216,264,216,216,246,246,246,234,197,234,264,203,282,226,203,234,226,264,203,282],\"type\":\"scatter\"}],\"name\":\"53\"},{\"data\":[{\"marker\":{\"color\":[1,1,1,1,1,1,1,1,1,1,1,1,1,1],\"size\":[2.6,2.9,2.9,2.4,0.0,2.4,2.4,2.4,2.9,0.0,0.0,2.6,2.6,2.6],\"sizemode\":\"area\",\"sizeref\":0.0006458333333333333},\"mode\":\"markers\",\"text\":[\"1\",\"1\",\"1\",\"1\",\"1\",\"1\",\"1\",\"1\",\"1\",\"1\",\"1\",\"1\",\"1\",\"1\"],\"x\":[145,160,160,130,156,130,130,130,160,156,156,145,145,145],\"y\":[174,269,269,322,245,322,322,322,269,245,245,174,174,174],\"type\":\"scatter\"}],\"name\":\"70\"},{\"data\":[{\"marker\":{\"color\":[1,0,0,1,0,1,1,1,1,1,1,1,1,1,1,0,1,1,1,1,0,0,0,1,1,1,1,1,1,1,0],\"size\":[0.0,1.0,0.0,1.9,1.0,3.6,2.6,1.0,3.6,1.9,1.0,1.0,3.6,0.0,0.0,1.0,0.0,2.6,3.6,3.6,0.0,0.0,1.0,2.6,1.9,3.6,3.6,1.9,3.6,2.6,0.0],\"sizemode\":\"area\",\"sizeref\":0.0006458333333333333},\"mode\":\"markers\",\"text\":[\"1\",\"0\",\"0\",\"1\",\"0\",\"1\",\"1\",\"1\",\"1\",\"1\",\"1\",\"1\",\"1\",\"1\",\"1\",\"0\",\"1\",\"1\",\"1\",\"1\",\"0\",\"0\",\"0\",\"1\",\"1\",\"1\",\"1\",\"1\",\"1\",\"1\",\"0\"],\"x\":[148,145,130,140,145,120,134,150,120,140,150,150,120,148,148,145,148,134,138,138,130,130,145,134,140,138,138,140,120,134,130],\"y\":[203,307,330,207,307,260,234,243,260,207,243,243,260,203,203,307,203,234,166,166,330,330,307,234,207,166,166,207,260,234,330],\"type\":\"scatter\"}],\"name\":\"61\"},{\"data\":[{\"marker\":{\"color\":[0,0,0,0,1,1,0,1,0,0,1,0,1,0,0,0,1,0,0,0,0,0,0,1,0,0,1,1,0,1,0,0,0,1,0,1,1],\"size\":[1.9,6.2,3.6,0.0,0.0,1.4,0.0,1.4,1.4,1.2,1.8,1.2,1.8,6.2,0.0,1.4,1.4,6.2,0.0,1.2,1.2,1.2,1.9,1.8,1.4,1.9,1.4,0.0,3.6,0.0,3.6,1.2,3.6,1.8,1.2,1.8,1.8],\"sizemode\":\"area\",\"sizeref\":0.0006458333333333333},\"mode\":\"markers\",\"text\":[\"0\",\"0\",\"0\",\"0\",\"1\",\"1\",\"0\",\"1\",\"0\",\"0\",\"1\",\"0\",\"1\",\"0\",\"0\",\"0\",\"1\",\"0\",\"0\",\"0\",\"0\",\"0\",\"0\",\"1\",\"0\",\"0\",\"1\",\"1\",\"0\",\"1\",\"0\",\"0\",\"0\",\"1\",\"0\",\"1\",\"1\"],\"x\":[138,160,140,124,128,120,124,120,150,140,120,130,130,160,124,150,120,160,124,140,140,130,138,120,150,138,120,128,140,128,140,130,140,120,130,130,130],\"y\":[294,164,268,209,208,281,209,281,244,394,267,263,231,164,209,244,281,164,209,394,394,263,294,267,244,294,281,208,268,208,268,263,268,267,263,231,231],\"type\":\"scatter\"}],\"name\":\"62\"},{\"data\":[{\"marker\":{\"color\":[0,1,1,0,0,1,0,1,1,1,1,0,1,1,0,1,1,1,1,1,1,1,1,1,0,1,1,0,1,0,1,1,1,1,1,0,1,1,0,0,1,0,0,1,0,1,1,1,1,1,1,1,0,1,0,1,0,1,1,0,1,0,1,0,1,1,1,1],\"size\":[1.0,4.4,0.0,0.0,1.0,0.0,2.8,4.4,0.0,0.1,0.0,2.8,3.2,3.2,0.0,3.0,0.8,0.8,2.5,0.6,1.8,2.0,3.2,0.8,0.0,0.0,0.1,0.0,1.8,0.6,2.2,0.4,2.5,3.0,0.1,0.6,2.0,1.8,0.0,2.8,3.2,0.0,0.6,4.4,1.0,0.1,0.0,0.6,2.2,0.0,0.4,0.4,1.0,2.0,0.6,0.6,2.8,0.4,2.5,1.0,1.8,0.0,2.0,1.0,3.0,0.0,4.4,2.2],\"sizemode\":\"area\",\"sizeref\":0.0006458333333333333},\"mode\":\"markers\",\"text\":[\"0\",\"1\",\"1\",\"0\",\"0\",\"1\",\"0\",\"1\",\"1\",\"1\",\"1\",\"0\",\"1\",\"1\",\"0\",\"1\",\"1\",\"1\",\"1\",\"1\",\"1\",\"1\",\"1\",\"1\",\"0\",\"1\",\"1\",\"0\",\"1\",\"0\",\"1\",\"1\",\"1\",\"1\",\"1\",\"0\",\"1\",\"1\",\"0\",\"0\",\"1\",\"0\",\"0\",\"1\",\"0\",\"1\",\"1\",\"1\",\"1\",\"1\",\"1\",\"1\",\"0\",\"1\",\"0\",\"1\",\"0\",\"1\",\"1\",\"0\",\"1\",\"0\",\"1\",\"0\",\"1\",\"1\",\"1\",\"1\"],\"x\":[100,114,140,136,150,140,170,114,125,100,125,170,132,132,120,128,150,150,112,105,120,146,132,150,136,140,100,136,120,130,128,125,112,128,100,130,146,120,120,170,132,120,130,114,100,100,125,105,128,125,125,125,150,146,130,105,170,125,112,150,120,136,146,100,128,140,114,128],\"y\":[248,318,211,319,283,211,225,318,300,234,300,225,224,224,340,259,270,270,230,240,284,218,224,270,319,211,234,319,284,197,216,220,230,259,234,197,218,284,340,225,224,340,197,318,248,234,300,240,216,300,220,220,283,218,197,240,225,220,230,283,284,319,218,248,259,211,318,216],\"type\":\"scatter\"}],\"name\":\"58\"},{\"data\":[{\"marker\":{\"color\":[1,0,0,1,1,0,1,0,1,0,1,1,1,0,1,1,0,0,1,0,0,0,0,1,1,1,0,1,0,0],\"size\":[0.8,3.4,1.2,5.6,5.6,1.2,1.2,1.2,0.8,1.2,1.2,0.8,1.2,3.4,0.0,1.2,3.4,2.0,5.6,1.4,2.0,1.4,1.4,0.0,0.8,5.6,2.0,0.0,3.4,2.0],\"sizemode\":\"area\",\"sizeref\":0.0006458333333333333},\"mode\":\"markers\",\"text\":[\"1\",\"0\",\"0\",\"1\",\"1\",\"0\",\"1\",\"0\",\"1\",\"0\",\"1\",\"1\",\"1\",\"0\",\"1\",\"1\",\"0\",\"0\",\"1\",\"0\",\"0\",\"0\",\"0\",\"1\",\"1\",\"1\",\"0\",\"1\",\"0\",\"0\"],\"x\":[160,180,132,140,140,132,132,132,160,132,132,160,132,180,130,132,180,128,140,135,128,135,135,130,160,140,128,130,180,128],\"y\":[289,327,342,217,217,342,353,342,289,342,353,289,353,327,262,353,327,205,217,250,205,250,250,262,289,217,205,262,327,205],\"type\":\"scatter\"}],\"name\":\"55\"},{\"data\":[{\"marker\":{\"color\":[1,1,1,1,1,1,0,0,0,0,0,1,0,0,1,1,1,0,1,0,1,1,1],\"size\":[0.8,3.6,0.8,3.6,1.8,1.8,0.0,0.0,1.4,0.0,0.0,3.6,1.4,1.4,0.8,0.0,1.8,0.0,1.8,0.0,0.0,0.0,0.8],\"sizemode\":\"area\",\"sizeref\":0.0006458333333333333},\"mode\":\"markers\",\"text\":[\"1\",\"1\",\"1\",\"1\",\"1\",\"1\",\"0\",\"0\",\"0\",\"0\",\"0\",\"1\",\"0\",\"0\",\"1\",\"1\",\"1\",\"0\",\"1\",\"0\",\"1\",\"1\",\"1\"],\"x\":[120,150,120,150,140,140,105,138,142,105,138,150,142,142,120,101,140,138,140,105,101,101,120],\"y\":[249,231,249,231,311,311,204,243,177,204,243,231,177,177,249,197,311,243,311,204,197,197,249],\"type\":\"scatter\"}],\"name\":\"46\"},{\"data\":[{\"marker\":{\"color\":[1,1,1,0,1,1,1,1,1,1,1,1,1,1,1,0,1,1,1,1,0,1,0,0,1,0,0,1,0,1,0,1,1,0,0,1,1,0,1,1,1,0,1,1,1,1,1,1,1,0,0,1,1],\"size\":[3.2,2.2,0.4,0.0,0.0,0.0,0.0,0.0,0.0,0.4,0.0,0.4,2.8,3.2,1.6,0.0,0.0,1.6,0.0,0.0,1.6,0.5,0.0,1.6,0.5,0.0,0.0,1.2,0.0,0.0,0.0,0.5,3.2,0.0,0.0,3.2,0.4,0.0,1.6,2.8,2.8,1.6,1.2,2.2,1.4,2.8,1.2,0.0,2.2,0.0,0.0,1.4,1.4],\"sizemode\":\"area\",\"sizeref\":0.0006458333333333333},\"mode\":\"markers\",\"text\":[\"1\",\"1\",\"1\",\"0\",\"1\",\"1\",\"1\",\"1\",\"1\",\"1\",\"1\",\"1\",\"1\",\"1\",\"1\",\"0\",\"1\",\"1\",\"1\",\"1\",\"0\",\"1\",\"0\",\"0\",\"1\",\"0\",\"0\",\"1\",\"0\",\"1\",\"0\",\"1\",\"1\",\"0\",\"0\",\"1\",\"1\",\"0\",\"1\",\"1\",\"1\",\"0\",\"1\",\"1\",\"1\",\"1\",\"1\",\"1\",\"1\",\"0\",\"0\",\"1\",\"1\"],\"x\":[122,124,120,108,108,110,108,108,192,120,108,120,110,122,150,132,192,150,110,192,110,125,108,110,125,160,132,140,132,110,108,125,122,160,135,122,120,135,150,110,110,110,140,124,120,110,140,110,124,160,135,120,120],\"y\":[286,266,258,267,309,206,309,309,283,258,309,258,239,286,232,288,283,232,206,283,214,273,267,214,273,201,288,239,288,206,267,273,286,201,304,286,258,304,232,239,239,214,239,266,188,239,239,206,266,201,304,188,188],\"type\":\"scatter\"}],\"name\":\"54\"},{\"data\":[{\"marker\":{\"color\":[0,0,0,0,0,0,0,0,0,0,0],\"size\":[1.6,0.0,0.0,0.4,1.6,1.6,0.0,1.6,0.4,0.0,0.4],\"sizemode\":\"area\",\"sizeref\":0.0006458333333333333},\"mode\":\"markers\",\"text\":[\"0\",\"0\",\"0\",\"0\",\"0\",\"0\",\"0\",\"0\",\"0\",\"0\",\"0\"],\"x\":[112,110,110,160,112,112,110,112,160,110,160],\"y\":[149,265,265,302,149,149,265,149,302,265,302],\"type\":\"scatter\"}],\"name\":\"71\"},{\"data\":[{\"marker\":{\"color\":[0,0,1,1,1,1,1,1,0,0,1,1,1,1,0,1,1,0,1,1,1,1,0,1,1,1],\"size\":[3.0,0.2,2.5,1.9,1.5,1.9,0.0,0.1,0.2,3.0,0.1,1.5,0.0,2.5,3.0,1.5,2.5,3.0,1.2,2.5,1.2,1.2,0.2,1.9,0.0,0.1],\"sizemode\":\"area\",\"sizeref\":0.0006458333333333333},\"mode\":\"markers\",\"text\":[\"0\",\"0\",\"1\",\"1\",\"1\",\"1\",\"1\",\"1\",\"0\",\"0\",\"1\",\"1\",\"1\",\"1\",\"0\",\"1\",\"1\",\"0\",\"1\",\"1\",\"1\",\"1\",\"0\",\"1\",\"1\",\"1\"],\"x\":[132,122,120,130,150,130,110,132,122,132,132,150,110,120,132,150,120,132,115,120,115,115,122,130,110,132],\"y\":[341,213,177,315,247,315,211,247,213,341,247,247,211,177,341,247,177,341,303,177,303,303,213,315,211,247],\"type\":\"scatter\"}],\"name\":\"43\"},{\"data\":[{\"marker\":{\"color\":[0,0,1,1,1,0],\"size\":[0.7,0.7,0.0,0.0,0.0,0.7],\"sizemode\":\"area\",\"sizeref\":0.0006458333333333333},\"mode\":\"markers\",\"text\":[\"0\",\"0\",\"1\",\"1\",\"1\",\"0\"],\"x\":[118,118,118,118,118,118],\"y\":[210,210,182,182,182,210],\"type\":\"scatter\"}],\"name\":\"34\"},{\"data\":[{\"marker\":{\"color\":[1,0,1,1,0,0,1,1,1,1,1,1,1,0,0,1,0,1,1,0,0,0,1,1,1,1,0,1,1,1,1,1,1,1,1,0,1,0,1],\"size\":[4.2,1.5,1.4,1.6,0.5,0.6,1.2,0.0,2.4,0.0,0.6,0.6,0.6,1.2,0.6,0.0,1.2,4.2,2.4,0.5,0.6,1.2,0.0,1.4,0.0,1.2,0.5,1.2,4.2,0.0,1.2,1.4,0.0,1.6,1.6,1.5,2.4,1.5,1.6],\"sizemode\":\"area\",\"sizeref\":0.0006458333333333333},\"mode\":\"markers\",\"text\":[\"1\",\"0\",\"1\",\"1\",\"0\",\"0\",\"1\",\"1\",\"1\",\"1\",\"1\",\"1\",\"1\",\"0\",\"0\",\"1\",\"0\",\"1\",\"1\",\"0\",\"0\",\"0\",\"1\",\"1\",\"1\",\"1\",\"0\",\"1\",\"1\",\"1\",\"1\",\"1\",\"1\",\"1\",\"1\",\"0\",\"1\",\"0\",\"1\"],\"x\":[140,140,125,140,130,120,100,140,125,94,110,110,110,130,120,140,130,140,125,130,120,130,94,125,94,100,130,100,140,94,100,125,140,140,140,140,125,140,140],\"y\":[298,308,213,299,256,295,222,261,245,227,175,175,175,305,295,261,305,298,245,256,295,305,227,213,227,222,256,222,298,227,222,213,261,299,299,308,245,308,299],\"type\":\"scatter\"}],\"name\":\"51\"},{\"data\":[{\"marker\":{\"color\":[0,0,1,1,1,1,1,1,1,0,0,0,1,0,1,0,1,1,1,0,0],\"size\":[1.1,1.1,0.0,0.6,0.0,0.9,2.6,2.6,0.9,1.6,0.0,1.6,2.6,1.6,0.0,1.1,0.9,0.6,0.6,0.0,0.0],\"sizemode\":\"area\",\"sizeref\":0.0006458333333333333},\"mode\":\"markers\",\"text\":[\"0\",\"0\",\"1\",\"1\",\"1\",\"1\",\"1\",\"1\",\"1\",\"0\",\"0\",\"0\",\"1\",\"0\",\"1\",\"0\",\"1\",\"1\",\"1\",\"0\",\"0\"],\"x\":[120,120,129,140,129,144,150,150,144,120,110,120,150,120,129,120,144,140,140,110,110],\"y\":[244,244,196,233,196,200,243,243,200,219,254,219,243,219,196,244,200,233,233,254,254],\"type\":\"scatter\"}],\"name\":\"50\"},{\"data\":[{\"marker\":{\"color\":[1,1,1,0,0,1,0,1,1,1,1,1,1,0,1,0,1,0,1,1,1,1,0,0,0,1,0,1,1,0,1,0,1,0,1,1,1],\"size\":[3.0,1.4,2.8,0.9,0.9,1.2,0.0,2.8,1.4,3.0,2.8,2.4,1.4,0.0,1.2,0.9,2.4,2.6,2.8,2.8,1.4,3.0,0.0,2.6,0.0,1.4,0.0,1.4,1.2,0.9,2.4,2.6,2.4,0.0,1.2,1.4,2.8],\"sizemode\":\"area\",\"sizeref\":0.0006458333333333333},\"mode\":\"markers\",\"text\":[\"1\",\"1\",\"1\",\"0\",\"0\",\"1\",\"0\",\"1\",\"1\",\"1\",\"1\",\"1\",\"1\",\"0\",\"1\",\"0\",\"1\",\"0\",\"1\",\"1\",\"1\",\"1\",\"0\",\"0\",\"0\",\"1\",\"0\",\"1\",\"1\",\"0\",\"1\",\"0\",\"1\",\"0\",\"1\",\"1\",\"1\"],\"x\":[140,117,145,150,150,140,102,125,117,140,145,130,130,102,140,150,130,150,145,125,130,140,120,150,102,117,120,130,140,150,130,150,130,120,140,117,125],\"y\":[185,230,282,240,240,293,318,258,230,185,282,206,253,318,293,240,206,258,282,258,253,185,178,258,318,230,178,253,293,240,206,258,206,178,293,230,258],\"type\":\"scatter\"}],\"name\":\"60\"},{\"data\":[{\"marker\":{\"color\":[0,1,1,0,0,1,1,1,1,1,1,1,1,1,1,0,1,0,0,1,1,1,0,1,1,1,1,0,1,0,1],\"size\":[0.3,0.8,0.9,1.6,1.6,1.5,0.9,0.8,1.0,0.9,1.0,1.5,1.0,0.8,2.6,1.6,1.5,0.0,0.3,0.2,1.0,0.8,0.0,2.6,0.2,2.6,2.6,0.0,1.5,0.3,0.2],\"sizemode\":\"area\",\"sizeref\":0.0006458333333333333},\"mode\":\"markers\",\"text\":[\"0\",\"1\",\"1\",\"0\",\"0\",\"1\",\"1\",\"1\",\"1\",\"1\",\"1\",\"1\",\"1\",\"1\",\"1\",\"0\",\"1\",\"0\",\"0\",\"1\",\"1\",\"1\",\"0\",\"1\",\"1\",\"1\",\"1\",\"0\",\"1\",\"0\",\"1\"],\"x\":[106,152,100,115,115,160,100,152,120,100,120,160,120,152,120,115,160,152,106,125,120,152,152,120,125,120,120,152,160,106,125],\"y\":[223,212,299,564,564,286,299,212,237,299,237,286,237,212,229,564,286,277,223,254,237,212,277,229,254,229,229,277,286,223,254],\"type\":\"scatter\"}],\"name\":\"67\"},{\"data\":[{\"marker\":{\"color\":[1,0,0,1,1,1,0,1,0,1,1,1,0,1,0,0,1,0,1,0,1,1,0,1,1],\"size\":[3.0,0.2,0.0,0.0,0.0,0.0,0.0,3.0,0.6,0.0,1.2,0.0,0.6,1.2,0.6,0.6,1.2,0.0,0.0,0.2,0.0,3.0,0.2,0.0,0.0],\"sizemode\":\"area\",\"sizeref\":0.0006458333333333333},\"mode\":\"markers\",\"text\":[\"1\",\"0\",\"0\",\"1\",\"1\",\"1\",\"0\",\"1\",\"0\",\"1\",\"1\",\"1\",\"0\",\"1\",\"0\",\"0\",\"1\",\"0\",\"1\",\"0\",\"1\",\"1\",\"0\",\"1\",\"1\"],\"x\":[104,138,112,128,115,128,112,104,130,142,110,142,130,110,130,130,110,112,115,138,115,104,138,142,128],\"y\":[208,236,160,308,260,308,160,208,234,309,264,309,234,264,234,234,264,160,260,236,260,208,236,309,308],\"type\":\"scatter\"}],\"name\":\"45\"},{\"data\":[{\"marker\":{\"color\":[0,1,1,1,0,1,1,1,1,0,0,1,1,1,0,0,0,0,0,0,0,1,1,0,0,1,1,1,0,0,0,0],\"size\":[0.0,4.0,4.0,1.4,0.0,1.8,4.0,1.4,1.4,0.0,1.8,2.3,1.8,2.3,4.0,4.0,0.0,1.8,1.8,0.0,0.0,1.8,1.4,4.0,0.0,1.8,4.0,2.3,0.0,0.0,4.0,1.8],\"sizemode\":\"area\",\"sizeref\":0.0006458333333333333},\"mode\":\"markers\",\"text\":[\"0\",\"1\",\"1\",\"1\",\"0\",\"1\",\"1\",\"1\",\"1\",\"0\",\"0\",\"1\",\"1\",\"1\",\"0\",\"0\",\"0\",\"0\",\"0\",\"0\",\"0\",\"1\",\"1\",\"0\",\"0\",\"1\",\"1\",\"1\",\"0\",\"0\",\"0\",\"0\"],\"x\":[135,140,140,130,124,130,140,130,130,135,108,145,130,145,150,150,124,108,108,140,140,130,130,150,140,130,140,145,124,135,150,108],\"y\":[252,187,187,254,197,330,187,254,254,252,269,233,330,233,407,407,197,269,269,195,195,330,254,407,195,330,187,233,197,252,407,269],\"type\":\"scatter\"}],\"name\":\"63\"},{\"data\":[{\"marker\":{\"color\":[0,1,1,1,1,1,1,1,1,0,0,0,1,1,1,1,1,1,0,0,1,1,1,1,1,1],\"size\":[0.0,0.0,1.8,0.0,0.0,0.8,0.8,0.0,0.8,0.0,0.6,0.0,0.8,1.8,0.0,0.8,0.0,1.8,0.6,0.6,0.0,0.8,0.0,1.8,0.0,0.0],\"sizemode\":\"area\",\"sizeref\":0.0006458333333333333},\"mode\":\"markers\",\"text\":[\"0\",\"1\",\"1\",\"1\",\"1\",\"1\",\"1\",\"1\",\"1\",\"0\",\"0\",\"0\",\"1\",\"1\",\"1\",\"1\",\"1\",\"1\",\"0\",\"0\",\"1\",\"1\",\"1\",\"1\",\"1\",\"1\"],\"x\":[120,140,136,120,130,148,120,130,148,120,102,120,120,136,120,148,130,136,102,102,140,120,130,136,140,120],\"y\":[209,226,315,295,180,244,240,180,244,209,265,209,240,315,295,244,180,315,265,265,226,240,180,315,226,295],\"type\":\"scatter\"}],\"name\":\"42\"},{\"data\":[{\"marker\":{\"color\":[1,1,1,1,1,1,1,0,1,1,1,1,0,1,1,1,0,1,1,1,1,1,1,1,1,0,1,1,1,1,1,1,0,1,1,0],\"size\":[0.4,2.8,0.0,2.8,0.0,2.8,0.0,0.3,0.0,0.0,0.0,0.0,0.3,0.0,0.0,0.0,0.3,0.0,0.0,0.0,0.0,0.0,0.0,0.0,0.0,0.6,0.0,0.0,2.8,0.4,0.4,0.0,0.6,0.0,0.0,0.6],\"sizemode\":\"area\",\"sizeref\":0.0006458333333333333},\"mode\":\"markers\",\"text\":[\"1\",\"1\",\"1\",\"1\",\"1\",\"1\",\"1\",\"0\",\"1\",\"1\",\"1\",\"1\",\"0\",\"1\",\"1\",\"1\",\"0\",\"1\",\"1\",\"1\",\"1\",\"1\",\"1\",\"1\",\"1\",\"0\",\"1\",\"1\",\"1\",\"1\",\"1\",\"1\",\"0\",\"1\",\"1\",\"0\"],\"x\":[130,120,120,120,110,120,110,118,130,120,120,130,118,120,120,130,118,112,120,140,112,112,140,120,120,108,140,120,120,130,130,120,108,110,120,108],\"y\":[233,169,220,169,197,169,197,242,219,226,263,219,242,220,226,219,242,290,220,235,290,290,235,226,220,141,235,226,169,233,233,263,141,197,263,141],\"type\":\"scatter\"}],\"name\":\"44\"},{\"data\":[{\"marker\":{\"color\":[1,1,1,1,1,1,1,0,1,0,1,1,1,1,0,0,0,1,1,1,0,1,0,1,0,0,1,1,1,1,1,1,1,1,1,1,1,0,1],\"size\":[0.6,1.9,1.2,1.2,2.1,1.6,0.0,4.0,1.6,1.9,1.2,0.0,0.8,1.6,4.0,1.3,1.3,0.6,0.6,1.2,4.0,2.1,1.9,1.6,4.0,1.3,0.0,0.6,0.0,0.0,0.0,2.1,0.0,0.8,0.0,1.9,0.8,1.9,1.9],\"sizemode\":\"area\",\"sizeref\":0.0006458333333333333},\"mode\":\"markers\",\"text\":[\"1\",\"1\",\"1\",\"1\",\"1\",\"1\",\"1\",\"0\",\"1\",\"0\",\"1\",\"1\",\"1\",\"1\",\"0\",\"0\",\"0\",\"1\",\"1\",\"1\",\"0\",\"1\",\"0\",\"1\",\"0\",\"0\",\"1\",\"1\",\"1\",\"1\",\"1\",\"1\",\"1\",\"1\",\"1\",\"1\",\"1\",\"0\",\"1\"],\"x\":[130,120,125,125,132,130,120,200,130,134,125,130,120,130,200,140,140,130,130,125,200,132,134,130,200,140,130,130,130,130,120,132,120,120,120,120,120,134,120],\"y\":[256,193,249,249,184,283,240,288,283,409,249,221,236,283,288,294,294,256,256,249,288,184,409,283,288,294,221,256,221,221,240,184,240,236,240,193,236,409,193],\"type\":\"scatter\"}],\"name\":\"56\"},{\"data\":[{\"marker\":{\"color\":[1,1,0,1,0,1,1,1,1,0,1,0,1,1,1,1,1,1,1,1,0,1,0,0,1,0,1,1,1,1,1,0,1,1,1,0,1,1,1,1,1,1,1,1,1,1,1,1,1,1,1,1,0,1,0,1,1],\"size\":[1.2,0.4,0.2,0.0,0.0,0.2,3.0,0.4,1.2,0.6,1.0,0.0,0.3,1.0,0.0,0.6,0.2,3.0,1.5,0.3,0.0,0.6,0.0,0.6,1.6,0.6,1.2,1.6,0.2,1.0,0.4,0.0,1.6,0.0,1.2,0.0,0.3,1.5,0.4,0.6,3.0,3.0,0.6,0.3,0.4,0.4,0.0,0.0,1.2,1.0,1.5,1.2,0.2,0.0,0.2,0.4,0.0],\"sizemode\":\"area\",\"sizeref\":0.0006458333333333333},\"mode\":\"markers\",\"text\":[\"1\",\"1\",\"0\",\"1\",\"0\",\"1\",\"1\",\"1\",\"1\",\"0\",\"1\",\"0\",\"1\",\"1\",\"1\",\"1\",\"1\",\"1\",\"1\",\"1\",\"0\",\"1\",\"0\",\"0\",\"1\",\"0\",\"1\",\"1\",\"1\",\"1\",\"1\",\"0\",\"1\",\"1\",\"1\",\"0\",\"1\",\"1\",\"1\",\"1\",\"1\",\"1\",\"1\",\"1\",\"1\",\"1\",\"1\",\"1\",\"1\",\"1\",\"1\",\"1\",\"0\",\"1\",\"0\",\"1\",\"1\"],\"x\":[130,128,140,154,128,150,110,140,152,120,165,130,124,165,132,150,150,110,110,124,130,150,128,120,150,120,152,150,150,165,128,128,150,154,152,130,124,110,128,150,110,110,150,124,128,140,132,154,130,165,110,130,140,132,140,140,154],\"y\":[131,229,241,232,303,126,335,192,274,354,289,236,261,289,207,276,126,335,201,261,236,276,303,354,168,354,274,168,126,289,229,303,168,232,274,236,261,201,229,276,335,335,276,261,229,192,207,232,131,289,201,131,241,207,241,192,232],\"type\":\"scatter\"}],\"name\":\"57\"},{\"data\":[{\"marker\":{\"color\":[1,1,1,1,1,0,1,1,1,1,1,1,1,1,1,1,1,1,0,1,1,1,1,1,1,1,1,0,1,1,1,1,1,1,1,1,1,1,1,1,1,1,1,1,1,1],\"size\":[0.0,1.6,0.2,3.4,0.0,0.0,2.2,3.4,1.6,2.2,1.6,2.2,0.0,1.0,0.8,0.0,1.2,0.2,0.0,0.5,0.0,4.2,0.8,0.0,1.0,0.0,4.2,0.0,0.0,3.4,1.0,1.2,0.8,0.2,0.0,0.2,0.0,0.0,0.0,4.2,0.5,2.2,0.8,0.5,1.2,0.0],\"sizemode\":\"area\",\"sizeref\":0.0006458333333333333},\"mode\":\"markers\",\"text\":[\"1\",\"1\",\"1\",\"1\",\"1\",\"0\",\"1\",\"1\",\"1\",\"1\",\"1\",\"1\",\"1\",\"1\",\"1\",\"1\",\"1\",\"1\",\"0\",\"1\",\"1\",\"1\",\"1\",\"1\",\"1\",\"1\",\"1\",\"0\",\"1\",\"1\",\"1\",\"1\",\"1\",\"1\",\"1\",\"1\",\"1\",\"1\",\"1\",\"1\",\"1\",\"1\",\"1\",\"1\",\"1\",\"1\"],\"x\":[138,150,170,170,140,174,126,170,150,126,150,126,140,164,134,140,110,170,174,135,140,178,134,140,164,140,178,174,138,170,164,110,134,170,160,170,160,160,138,178,135,126,134,135,110,140],\"y\":[271,212,288,326,177,249,218,326,212,218,212,218,177,176,204,221,239,288,249,234,177,270,204,177,176,221,270,249,271,326,176,239,204,288,273,288,273,273,271,270,234,218,204,234,239,221],\"type\":\"scatter\"}],\"name\":\"59\"},{\"data\":[{\"marker\":{\"color\":[1,0,1,1,1,1,1,1,0,1,0,0,0,1,0,1,1,1,1,1,1,0,1,1,1,1,0,1,1,0,1,1,1,1],\"size\":[0.2,0.0,2.2,1.8,1.8,0.6,1.8,0.6,0.0,1.8,0.2,0.2,2.0,2.2,0.2,1.8,0.6,1.8,2.0,2.0,0.2,2.0,1.8,0.0,0.0,2.2,2.0,0.0,0.6,0.0,2.2,0.0,0.2,2.0],\"sizemode\":\"area\",\"sizeref\":0.0006458333333333333},\"mode\":\"markers\",\"text\":[\"1\",\"0\",\"1\",\"1\",\"1\",\"1\",\"1\",\"1\",\"0\",\"1\",\"0\",\"0\",\"0\",\"1\",\"0\",\"1\",\"1\",\"1\",\"1\",\"1\",\"1\",\"0\",\"1\",\"1\",\"1\",\"1\",\"0\",\"1\",\"1\",\"0\",\"1\",\"1\",\"1\",\"1\"],\"x\":[128,180,120,110,125,170,110,170,180,110,140,140,130,120,140,125,170,125,145,145,128,130,125,140,140,120,130,140,170,180,120,140,128,145],\"y\":[263,325,246,211,309,227,211,227,325,211,313,313,303,246,313,309,227,309,212,212,263,303,309,335,335,246,303,335,227,325,246,335,263,212],\"type\":\"scatter\"}],\"name\":\"64\"},{\"data\":[{\"marker\":{\"color\":[0,1,0,1,0,0,0,0,1,1,0,0,1,1,1,1,0,0,1,0,0,1,1,1,1,0,1],\"size\":[0.8,0.6,0.8,2.8,0.8,0.8,1.0,1.0,0.6,2.8,0.8,0.8,0.6,1.4,1.4,0.4,0.8,0.8,0.4,1.0,1.0,1.4,2.8,2.8,0.4,0.8,1.4],\"sizemode\":\"area\",\"sizeref\":0.0006458333333333333},\"mode\":\"markers\",\"text\":[\"0\",\"1\",\"0\",\"1\",\"0\",\"0\",\"0\",\"0\",\"1\",\"1\",\"0\",\"0\",\"1\",\"1\",\"1\",\"1\",\"0\",\"0\",\"1\",\"0\",\"0\",\"1\",\"1\",\"1\",\"1\",\"0\",\"1\"],\"x\":[160,110,140,135,155,160,150,150,110,135,155,155,110,138,138,120,140,160,120,150,150,138,135,135,120,140,138],\"y\":[360,248,417,254,269,360,225,225,248,254,269,269,248,282,282,177,417,360,177,225,225,282,254,254,177,417,282],\"type\":\"scatter\"}],\"name\":\"65\"},{\"data\":[{\"marker\":{\"color\":[1,1,1,1,1,1,1,1,0,0,0,1,0,0,0,1,1,0,0,1,0,1,0,1,0,1,0,1,1,1,1,1],\"size\":[0.0,0.0,0.0,0.0,0.0,0.0,0.0,0.0,0.0,0.0,1.4,0.0,0.0,1.4,0.0,2.0,0.0,1.4,0.0,2.0,0.0,0.0,0.0,0.0,0.0,2.0,0.0,0.0,0.0,0.0,0.0,0.0],\"sizemode\":\"area\",\"sizeref\":0.0006458333333333333},\"mode\":\"markers\",\"text\":[\"1\",\"1\",\"1\",\"1\",\"1\",\"1\",\"1\",\"1\",\"0\",\"0\",\"0\",\"1\",\"0\",\"0\",\"0\",\"1\",\"1\",\"0\",\"0\",\"1\",\"0\",\"1\",\"0\",\"1\",\"0\",\"1\",\"0\",\"1\",\"1\",\"1\",\"1\",\"1\"],\"x\":[135,135,110,110,120,112,112,120,126,105,130,120,105,130,112,130,110,130,105,130,126,120,126,110,112,130,112,135,135,112,110,110],\"y\":[203,203,235,172,157,250,250,157,306,198,204,157,198,204,268,214,172,204,198,214,306,157,306,235,268,214,268,203,203,250,235,172],\"type\":\"scatter\"}],\"name\":\"41\"},{\"data\":[{\"marker\":{\"color\":[0,0,0,1,0,0,1,1,1,1,1,1,0,1,0,1,0,0,1,1,0,1,1,0,1],\"size\":[1.0,0.0,0.0,0.4,0.0,1.0,0.4,2.3,0.0,0.0,0.4,2.3,0.0,2.3,1.0,0.1,2.6,2.6,0.0,0.1,2.6,2.3,0.1,1.0,0.1],\"sizemode\":\"area\",\"sizeref\":0.0006458333333333333},\"mode\":\"markers\",\"text\":[\"0\",\"0\",\"0\",\"1\",\"0\",\"0\",\"1\",\"1\",\"1\",\"1\",\"1\",\"1\",\"0\",\"1\",\"0\",\"1\",\"0\",\"0\",\"1\",\"1\",\"0\",\"1\",\"1\",\"0\",\"1\"],\"x\":[178,146,146,120,146,178,120,160,160,160,120,160,146,160,178,112,150,150,160,112,150,160,112,178,112],\"y\":[228,278,278,302,278,228,302,228,246,246,302,228,278,228,228,212,226,226,246,212,226,228,212,228,212],\"type\":\"scatter\"}],\"name\":\"66\"},{\"data\":[{\"marker\":{\"color\":[1,1,1,1,1,1,1,1,1,1,1,1],\"size\":[0.0,0.0,0.0,0.0,3.8,0.0,0.0,0.0,3.8,3.8,3.8,0.0],\"sizemode\":\"area\",\"sizeref\":0.0006458333333333333},\"mode\":\"markers\",\"text\":[\"1\",\"1\",\"1\",\"1\",\"1\",\"1\",\"1\",\"1\",\"1\",\"1\",\"1\",\"1\"],\"x\":[138,138,138,138,120,138,138,138,120,120,120,138],\"y\":[175,175,175,175,231,175,175,175,231,231,231,175],\"type\":\"scatter\"}],\"name\":\"38\"},{\"data\":[{\"marker\":{\"color\":[1,1,1,1,0,1,1,0,0,1,1,1,1,0,1,0,0],\"size\":[2.0,0.8,0.6,0.8,0.0,0.8,2.0,0.0,0.0,2.0,2.0,0.6,0.6,0.0,0.8,0.0,0.0],\"sizemode\":\"area\",\"sizeref\":0.0006458333333333333},\"mode\":\"markers\",\"text\":[\"1\",\"1\",\"1\",\"1\",\"0\",\"1\",\"1\",\"0\",\"0\",\"1\",\"1\",\"1\",\"1\",\"0\",\"1\",\"0\",\"0\"],\"x\":[120,118,130,118,130,118,120,134,134,120,120,130,130,130,118,134,130],\"y\":[188,149,266,149,269,149,188,271,271,188,188,266,266,269,149,271,269],\"type\":\"scatter\"}],\"name\":\"49\"},{\"data\":[{\"marker\":{\"color\":[1,1,1,1,1,1,1,0,1,1,1,1,1,1,1,1,1,1,1,0,0,1,1],\"size\":[0.2,0.0,0.0,0.0,0.5,0.0,0.0,0.2,0.2,0.0,1.0,0.0,1.0,1.0,0.0,0.0,0.5,0.2,0.0,0.2,0.2,0.5,1.0],\"sizemode\":\"area\",\"sizeref\":0.0006458333333333333},\"mode\":\"markers\",\"text\":[\"1\",\"1\",\"1\",\"1\",\"1\",\"1\",\"1\",\"0\",\"1\",\"1\",\"1\",\"1\",\"1\",\"1\",\"1\",\"1\",\"1\",\"1\",\"1\",\"0\",\"0\",\"1\",\"1\"],\"x\":[130,130,124,130,124,122,130,130,130,122,110,124,110,110,122,130,124,130,124,130,130,124,110],\"y\":[245,256,255,256,274,222,256,275,245,222,229,255,229,229,222,256,274,245,255,275,275,274,229],\"type\":\"scatter\"}],\"name\":\"48\"},{\"data\":[{\"marker\":{\"color\":[1,1,1,1],\"size\":[0.0,0.0,0.0,0.0],\"sizemode\":\"area\",\"sizeref\":0.0006458333333333333},\"mode\":\"markers\",\"text\":[\"1\",\"1\",\"1\",\"1\"],\"x\":[130,130,130,130],\"y\":[204,204,204,204],\"type\":\"scatter\"}],\"name\":\"29\"},{\"data\":[{\"marker\":{\"color\":[0,0,0,1,1,1],\"size\":[0.0,0.0,0.0,3.5,3.5,3.5],\"sizemode\":\"area\",\"sizeref\":0.0006458333333333333},\"mode\":\"markers\",\"text\":[\"0\",\"0\",\"0\",\"1\",\"1\",\"1\"],\"x\":[120,120,120,130,130,130],\"y\":[215,215,215,250,250,250],\"type\":\"scatter\"}],\"name\":\"37\"},{\"data\":[{\"marker\":{\"color\":[1,1,1,1,1,1,1,1,1,1,1,1,1,1,1,1,1,1],\"size\":[0.0,0.0,1.0,0.0,0.1,1.0,0.0,0.0,0.0,0.0,1.0,0.0,0.0,0.0,0.1,0.0,0.1,1.0],\"sizemode\":\"area\",\"sizeref\":0.0006458333333333333},\"mode\":\"markers\",\"text\":[\"1\",\"1\",\"1\",\"1\",\"1\",\"1\",\"1\",\"1\",\"1\",\"1\",\"1\",\"1\",\"1\",\"1\",\"1\",\"1\",\"1\",\"1\"],\"x\":[138,138,110,138,112,110,108,130,130,108,110,108,130,108,112,130,112,110],\"y\":[257,257,275,257,204,275,243,253,253,243,275,243,253,243,204,253,204,275],\"type\":\"scatter\"}],\"name\":\"47\"},{\"data\":[{\"marker\":{\"color\":[1,1,1,1,1,1,0,1,1,1,0,0],\"size\":[3.4,1.6,1.6,1.0,1.0,1.6,1.5,3.4,3.4,1.0,1.5,1.5],\"sizemode\":\"area\",\"sizeref\":0.0006458333333333333},\"mode\":\"markers\",\"text\":[\"1\",\"1\",\"1\",\"1\",\"1\",\"1\",\"0\",\"1\",\"1\",\"1\",\"0\",\"0\"],\"x\":[144,180,180,118,118,180,120,144,144,118,120,120],\"y\":[193,274,274,277,277,274,211,193,193,277,211,211],\"type\":\"scatter\"}],\"name\":\"68\"},{\"data\":[{\"marker\":{\"color\":[0,0,0],\"size\":[1.1,1.1,1.1],\"sizemode\":\"area\",\"sizeref\":0.0006458333333333333},\"mode\":\"markers\",\"text\":[\"0\",\"0\",\"0\"],\"x\":[140,140,140],\"y\":[197,197,197],\"type\":\"scatter\"}],\"name\":\"76\"},{\"data\":[{\"marker\":{\"color\":[1,1,1,1,1,1,1,1,1,1,1],\"size\":[0.0,2.0,1.4,2.0,0.0,1.4,2.0,1.4,2.0,0.0,0.0],\"sizemode\":\"area\",\"sizeref\":0.0006458333333333333},\"mode\":\"markers\",\"text\":[\"1\",\"1\",\"1\",\"1\",\"1\",\"1\",\"1\",\"1\",\"1\",\"1\",\"1\"],\"x\":[152,110,140,110,152,140,110,140,110,152,152],\"y\":[223,167,199,167,223,199,167,199,167,223,223],\"type\":\"scatter\"}],\"name\":\"40\"},{\"data\":[{\"marker\":{\"color\":[1,0,0,0,0,0,1,0,0,1,1,1,1,1],\"size\":[0.0,0.0,0.0,0.0,0.0,0.0,0.0,0.0,0.0,1.2,0.0,1.2,1.2,1.2],\"sizemode\":\"area\",\"sizeref\":0.0006458333333333333},\"mode\":\"markers\",\"text\":[\"1\",\"0\",\"0\",\"0\",\"0\",\"0\",\"1\",\"0\",\"0\",\"1\",\"1\",\"1\",\"1\",\"1\"],\"x\":[140,94,94,138,138,138,140,94,138,118,140,118,118,118],\"y\":[321,199,199,220,220,220,321,199,220,219,321,219,219,219],\"type\":\"scatter\"}],\"name\":\"39\"},{\"data\":[{\"marker\":{\"color\":[1,1,1],\"size\":[0.0,0.0,0.0],\"sizemode\":\"area\",\"sizeref\":0.0006458333333333333},\"mode\":\"markers\",\"text\":[\"1\",\"1\",\"1\"],\"x\":[125,125,125],\"y\":[304,304,304],\"type\":\"scatter\"}],\"name\":\"77\"},{\"data\":[{\"marker\":{\"color\":[1,1,1,1,1,1,0,0,0],\"size\":[0.1,0.1,2.0,0.1,2.0,2.0,1.8,1.8,1.8],\"sizemode\":\"area\",\"sizeref\":0.0006458333333333333},\"mode\":\"markers\",\"text\":[\"1\",\"1\",\"1\",\"1\",\"1\",\"1\",\"0\",\"0\",\"0\"],\"x\":[160,160,140,160,140,140,140,140,140],\"y\":[234,234,254,234,254,254,239,239,239],\"type\":\"scatter\"}],\"name\":\"69\"},{\"data\":[{\"marker\":{\"color\":[1,0,1,1,1,1,0,1,1,1,1,1,0,0,1],\"size\":[1.6,1.4,0.0,0.0,0.0,0.0,1.4,0.0,0.0,0.0,1.6,1.6,1.4,1.4,1.6],\"sizemode\":\"area\",\"sizeref\":0.0006458333333333333},\"mode\":\"markers\",\"text\":[\"1\",\"0\",\"1\",\"1\",\"1\",\"1\",\"0\",\"1\",\"1\",\"1\",\"1\",\"1\",\"0\",\"0\",\"1\"],\"x\":[120,138,122,122,126,122,138,122,126,126,120,120,138,138,120],\"y\":[198,183,192,192,282,192,183,192,282,282,198,198,183,183,198],\"type\":\"scatter\"}],\"name\":\"35\"},{\"data\":[{\"marker\":{\"color\":[0,0,0],\"size\":[0.2,0.2,0.2],\"sizemode\":\"area\",\"sizeref\":0.0006458333333333333},\"mode\":\"markers\",\"text\":[\"0\",\"0\",\"0\"],\"x\":[120,120,120],\"y\":[269,269,269],\"type\":\"scatter\"}],\"name\":\"74\"}]);\n",
              "                        }).then(function(){\n",
              "                            Plotly.animate('bba5171b-0504-4c51-bf95-fe73310b7607', null);\n",
              "                        }).then(function(){\n",
              "                            \n",
              "var gd = document.getElementById('bba5171b-0504-4c51-bf95-fe73310b7607');\n",
              "var x = new MutationObserver(function (mutations, observer) {{\n",
              "        var display = window.getComputedStyle(gd).display;\n",
              "        if (!display || display === 'none') {{\n",
              "            console.log([gd, 'removed!']);\n",
              "            Plotly.purge(gd);\n",
              "            observer.disconnect();\n",
              "        }}\n",
              "}});\n",
              "\n",
              "// Listen for the removal of the full notebook cells\n",
              "var notebookContainer = gd.closest('#notebook-container');\n",
              "if (notebookContainer) {{\n",
              "    x.observe(notebookContainer, {childList: true});\n",
              "}}\n",
              "\n",
              "// Listen for the clearing of the current output cell\n",
              "var outputEl = gd.closest('.output');\n",
              "if (outputEl) {{\n",
              "    x.observe(outputEl, {childList: true});\n",
              "}}\n",
              "\n",
              "                        })                };                });            </script>        </div>"
            ]
          },
          "metadata": {}
        }
      ]
    },
    {
      "cell_type": "code",
      "source": [
        "# Simple test dataset\n",
        "from bubbly.bubbly import bubbleplot\n",
        "data = pd.DataFrame({\n",
        "    'trestbps': [120, 130, 110, 150],\n",
        "    'chol': [230, 250, 240, 220],\n",
        "    'sex': [0, 1, 0, 1],\n",
        "    'age': [60, 55, 50, 65],\n",
        "    'oldpeak': [1.0, 2.5, 1.2, 0.5]\n",
        "})\n",
        "\n",
        "figure = bubbleplot(\n",
        "    dataset = data,\n",
        "    x_column = 'trestbps',\n",
        "    y_column = 'chol',\n",
        "    bubble_column = 'sex',\n",
        "    time_column = 'age',\n",
        "    size_column = 'oldpeak',\n",
        "    color_column = 'sex',\n",
        "    x_title = \"Resting Blood Pressure\",\n",
        "    y_title = \"Cholestrol\",\n",
        "    title = 'BP vs Chol. vs Age vs Sex vs Heart Rate',\n",
        "    x_logscale = False,\n",
        "    scale_bubble = 3,\n",
        "    height = 650\n",
        ")\n",
        "\n",
        "py.iplot(figure, config={'scrollzoom': True})\n"
      ],
      "metadata": {
        "colab": {
          "base_uri": "https://localhost:8080/",
          "height": 667
        },
        "id": "uUl8G3AbNurh",
        "outputId": "7c5c9b42-8045-425d-c076-58af7ecf557b"
      },
      "execution_count": null,
      "outputs": [
        {
          "output_type": "display_data",
          "data": {
            "application/vnd.plotly.v1+json": {
              "data": [
                {
                  "marker": {
                    "color": [
                      0
                    ],
                    "size": [
                      1.2
                    ],
                    "sizemode": "area",
                    "sizeref": 0.00026041666666666666
                  },
                  "mode": "markers",
                  "text": [
                    "0"
                  ],
                  "x": [
                    110
                  ],
                  "y": [
                    240
                  ],
                  "type": "scatter"
                }
              ],
              "layout": {
                "height": 650,
                "hovermode": "closest",
                "margin": {
                  "b": 50,
                  "pad": 5,
                  "t": 50
                },
                "showlegend": false,
                "sliders": [
                  {
                    "active": 0,
                    "currentvalue": {
                      "font": {
                        "size": 20
                      },
                      "prefix": "Year:",
                      "visible": true,
                      "xanchor": "right"
                    },
                    "len": 0.9,
                    "pad": {
                      "b": 10,
                      "t": 50
                    },
                    "steps": [
                      {
                        "args": [
                          [
                            60
                          ],
                          {
                            "frame": {
                              "duration": 300,
                              "redraw": false
                            },
                            "mode": "immediate",
                            "transition": {
                              "duration": 300
                            }
                          }
                        ],
                        "label": "60",
                        "method": "animate"
                      },
                      {
                        "args": [
                          [
                            55
                          ],
                          {
                            "frame": {
                              "duration": 300,
                              "redraw": false
                            },
                            "mode": "immediate",
                            "transition": {
                              "duration": 300
                            }
                          }
                        ],
                        "label": "55",
                        "method": "animate"
                      },
                      {
                        "args": [
                          [
                            50
                          ],
                          {
                            "frame": {
                              "duration": 300,
                              "redraw": false
                            },
                            "mode": "immediate",
                            "transition": {
                              "duration": 300
                            }
                          }
                        ],
                        "label": "50",
                        "method": "animate"
                      },
                      {
                        "args": [
                          [
                            65
                          ],
                          {
                            "frame": {
                              "duration": 300,
                              "redraw": false
                            },
                            "mode": "immediate",
                            "transition": {
                              "duration": 300
                            }
                          }
                        ],
                        "label": "65",
                        "method": "animate"
                      }
                    ],
                    "transition": {
                      "duration": 300,
                      "easing": "cubic-in-out"
                    },
                    "x": 0.1,
                    "xanchor": "left",
                    "y": 0,
                    "yanchor": "top"
                  }
                ],
                "template": {
                  "data": {
                    "barpolar": [
                      {
                        "marker": {
                          "line": {
                            "color": "#E5ECF6",
                            "width": 0.5
                          },
                          "pattern": {
                            "fillmode": "overlay",
                            "size": 10,
                            "solidity": 0.2
                          }
                        },
                        "type": "barpolar"
                      }
                    ],
                    "bar": [
                      {
                        "error_x": {
                          "color": "#2a3f5f"
                        },
                        "error_y": {
                          "color": "#2a3f5f"
                        },
                        "marker": {
                          "line": {
                            "color": "#E5ECF6",
                            "width": 0.5
                          },
                          "pattern": {
                            "fillmode": "overlay",
                            "size": 10,
                            "solidity": 0.2
                          }
                        },
                        "type": "bar"
                      }
                    ],
                    "carpet": [
                      {
                        "aaxis": {
                          "endlinecolor": "#2a3f5f",
                          "gridcolor": "white",
                          "linecolor": "white",
                          "minorgridcolor": "white",
                          "startlinecolor": "#2a3f5f"
                        },
                        "baxis": {
                          "endlinecolor": "#2a3f5f",
                          "gridcolor": "white",
                          "linecolor": "white",
                          "minorgridcolor": "white",
                          "startlinecolor": "#2a3f5f"
                        },
                        "type": "carpet"
                      }
                    ],
                    "choropleth": [
                      {
                        "colorbar": {
                          "outlinewidth": 0,
                          "ticks": ""
                        },
                        "type": "choropleth"
                      }
                    ],
                    "contourcarpet": [
                      {
                        "colorbar": {
                          "outlinewidth": 0,
                          "ticks": ""
                        },
                        "type": "contourcarpet"
                      }
                    ],
                    "contour": [
                      {
                        "colorbar": {
                          "outlinewidth": 0,
                          "ticks": ""
                        },
                        "colorscale": [
                          [
                            0,
                            "#0d0887"
                          ],
                          [
                            0.1111111111111111,
                            "#46039f"
                          ],
                          [
                            0.2222222222222222,
                            "#7201a8"
                          ],
                          [
                            0.3333333333333333,
                            "#9c179e"
                          ],
                          [
                            0.4444444444444444,
                            "#bd3786"
                          ],
                          [
                            0.5555555555555556,
                            "#d8576b"
                          ],
                          [
                            0.6666666666666666,
                            "#ed7953"
                          ],
                          [
                            0.7777777777777778,
                            "#fb9f3a"
                          ],
                          [
                            0.8888888888888888,
                            "#fdca26"
                          ],
                          [
                            1,
                            "#f0f921"
                          ]
                        ],
                        "type": "contour"
                      }
                    ],
                    "heatmapgl": [
                      {
                        "colorbar": {
                          "outlinewidth": 0,
                          "ticks": ""
                        },
                        "colorscale": [
                          [
                            0,
                            "#0d0887"
                          ],
                          [
                            0.1111111111111111,
                            "#46039f"
                          ],
                          [
                            0.2222222222222222,
                            "#7201a8"
                          ],
                          [
                            0.3333333333333333,
                            "#9c179e"
                          ],
                          [
                            0.4444444444444444,
                            "#bd3786"
                          ],
                          [
                            0.5555555555555556,
                            "#d8576b"
                          ],
                          [
                            0.6666666666666666,
                            "#ed7953"
                          ],
                          [
                            0.7777777777777778,
                            "#fb9f3a"
                          ],
                          [
                            0.8888888888888888,
                            "#fdca26"
                          ],
                          [
                            1,
                            "#f0f921"
                          ]
                        ],
                        "type": "heatmapgl"
                      }
                    ],
                    "heatmap": [
                      {
                        "colorbar": {
                          "outlinewidth": 0,
                          "ticks": ""
                        },
                        "colorscale": [
                          [
                            0,
                            "#0d0887"
                          ],
                          [
                            0.1111111111111111,
                            "#46039f"
                          ],
                          [
                            0.2222222222222222,
                            "#7201a8"
                          ],
                          [
                            0.3333333333333333,
                            "#9c179e"
                          ],
                          [
                            0.4444444444444444,
                            "#bd3786"
                          ],
                          [
                            0.5555555555555556,
                            "#d8576b"
                          ],
                          [
                            0.6666666666666666,
                            "#ed7953"
                          ],
                          [
                            0.7777777777777778,
                            "#fb9f3a"
                          ],
                          [
                            0.8888888888888888,
                            "#fdca26"
                          ],
                          [
                            1,
                            "#f0f921"
                          ]
                        ],
                        "type": "heatmap"
                      }
                    ],
                    "histogram2dcontour": [
                      {
                        "colorbar": {
                          "outlinewidth": 0,
                          "ticks": ""
                        },
                        "colorscale": [
                          [
                            0,
                            "#0d0887"
                          ],
                          [
                            0.1111111111111111,
                            "#46039f"
                          ],
                          [
                            0.2222222222222222,
                            "#7201a8"
                          ],
                          [
                            0.3333333333333333,
                            "#9c179e"
                          ],
                          [
                            0.4444444444444444,
                            "#bd3786"
                          ],
                          [
                            0.5555555555555556,
                            "#d8576b"
                          ],
                          [
                            0.6666666666666666,
                            "#ed7953"
                          ],
                          [
                            0.7777777777777778,
                            "#fb9f3a"
                          ],
                          [
                            0.8888888888888888,
                            "#fdca26"
                          ],
                          [
                            1,
                            "#f0f921"
                          ]
                        ],
                        "type": "histogram2dcontour"
                      }
                    ],
                    "histogram2d": [
                      {
                        "colorbar": {
                          "outlinewidth": 0,
                          "ticks": ""
                        },
                        "colorscale": [
                          [
                            0,
                            "#0d0887"
                          ],
                          [
                            0.1111111111111111,
                            "#46039f"
                          ],
                          [
                            0.2222222222222222,
                            "#7201a8"
                          ],
                          [
                            0.3333333333333333,
                            "#9c179e"
                          ],
                          [
                            0.4444444444444444,
                            "#bd3786"
                          ],
                          [
                            0.5555555555555556,
                            "#d8576b"
                          ],
                          [
                            0.6666666666666666,
                            "#ed7953"
                          ],
                          [
                            0.7777777777777778,
                            "#fb9f3a"
                          ],
                          [
                            0.8888888888888888,
                            "#fdca26"
                          ],
                          [
                            1,
                            "#f0f921"
                          ]
                        ],
                        "type": "histogram2d"
                      }
                    ],
                    "histogram": [
                      {
                        "marker": {
                          "pattern": {
                            "fillmode": "overlay",
                            "size": 10,
                            "solidity": 0.2
                          }
                        },
                        "type": "histogram"
                      }
                    ],
                    "mesh3d": [
                      {
                        "colorbar": {
                          "outlinewidth": 0,
                          "ticks": ""
                        },
                        "type": "mesh3d"
                      }
                    ],
                    "parcoords": [
                      {
                        "line": {
                          "colorbar": {
                            "outlinewidth": 0,
                            "ticks": ""
                          }
                        },
                        "type": "parcoords"
                      }
                    ],
                    "pie": [
                      {
                        "automargin": true,
                        "type": "pie"
                      }
                    ],
                    "scatter3d": [
                      {
                        "line": {
                          "colorbar": {
                            "outlinewidth": 0,
                            "ticks": ""
                          }
                        },
                        "marker": {
                          "colorbar": {
                            "outlinewidth": 0,
                            "ticks": ""
                          }
                        },
                        "type": "scatter3d"
                      }
                    ],
                    "scattercarpet": [
                      {
                        "marker": {
                          "colorbar": {
                            "outlinewidth": 0,
                            "ticks": ""
                          }
                        },
                        "type": "scattercarpet"
                      }
                    ],
                    "scattergeo": [
                      {
                        "marker": {
                          "colorbar": {
                            "outlinewidth": 0,
                            "ticks": ""
                          }
                        },
                        "type": "scattergeo"
                      }
                    ],
                    "scattergl": [
                      {
                        "marker": {
                          "colorbar": {
                            "outlinewidth": 0,
                            "ticks": ""
                          }
                        },
                        "type": "scattergl"
                      }
                    ],
                    "scattermapbox": [
                      {
                        "marker": {
                          "colorbar": {
                            "outlinewidth": 0,
                            "ticks": ""
                          }
                        },
                        "type": "scattermapbox"
                      }
                    ],
                    "scatterpolargl": [
                      {
                        "marker": {
                          "colorbar": {
                            "outlinewidth": 0,
                            "ticks": ""
                          }
                        },
                        "type": "scatterpolargl"
                      }
                    ],
                    "scatterpolar": [
                      {
                        "marker": {
                          "colorbar": {
                            "outlinewidth": 0,
                            "ticks": ""
                          }
                        },
                        "type": "scatterpolar"
                      }
                    ],
                    "scatter": [
                      {
                        "fillpattern": {
                          "fillmode": "overlay",
                          "size": 10,
                          "solidity": 0.2
                        },
                        "type": "scatter"
                      }
                    ],
                    "scatterternary": [
                      {
                        "marker": {
                          "colorbar": {
                            "outlinewidth": 0,
                            "ticks": ""
                          }
                        },
                        "type": "scatterternary"
                      }
                    ],
                    "surface": [
                      {
                        "colorbar": {
                          "outlinewidth": 0,
                          "ticks": ""
                        },
                        "colorscale": [
                          [
                            0,
                            "#0d0887"
                          ],
                          [
                            0.1111111111111111,
                            "#46039f"
                          ],
                          [
                            0.2222222222222222,
                            "#7201a8"
                          ],
                          [
                            0.3333333333333333,
                            "#9c179e"
                          ],
                          [
                            0.4444444444444444,
                            "#bd3786"
                          ],
                          [
                            0.5555555555555556,
                            "#d8576b"
                          ],
                          [
                            0.6666666666666666,
                            "#ed7953"
                          ],
                          [
                            0.7777777777777778,
                            "#fb9f3a"
                          ],
                          [
                            0.8888888888888888,
                            "#fdca26"
                          ],
                          [
                            1,
                            "#f0f921"
                          ]
                        ],
                        "type": "surface"
                      }
                    ],
                    "table": [
                      {
                        "cells": {
                          "fill": {
                            "color": "#EBF0F8"
                          },
                          "line": {
                            "color": "white"
                          }
                        },
                        "header": {
                          "fill": {
                            "color": "#C8D4E3"
                          },
                          "line": {
                            "color": "white"
                          }
                        },
                        "type": "table"
                      }
                    ]
                  },
                  "layout": {
                    "annotationdefaults": {
                      "arrowcolor": "#2a3f5f",
                      "arrowhead": 0,
                      "arrowwidth": 1
                    },
                    "autotypenumbers": "strict",
                    "coloraxis": {
                      "colorbar": {
                        "outlinewidth": 0,
                        "ticks": ""
                      }
                    },
                    "colorscale": {
                      "diverging": [
                        [
                          0,
                          "#8e0152"
                        ],
                        [
                          0.1,
                          "#c51b7d"
                        ],
                        [
                          0.2,
                          "#de77ae"
                        ],
                        [
                          0.3,
                          "#f1b6da"
                        ],
                        [
                          0.4,
                          "#fde0ef"
                        ],
                        [
                          0.5,
                          "#f7f7f7"
                        ],
                        [
                          0.6,
                          "#e6f5d0"
                        ],
                        [
                          0.7,
                          "#b8e186"
                        ],
                        [
                          0.8,
                          "#7fbc41"
                        ],
                        [
                          0.9,
                          "#4d9221"
                        ],
                        [
                          1,
                          "#276419"
                        ]
                      ],
                      "sequential": [
                        [
                          0,
                          "#0d0887"
                        ],
                        [
                          0.1111111111111111,
                          "#46039f"
                        ],
                        [
                          0.2222222222222222,
                          "#7201a8"
                        ],
                        [
                          0.3333333333333333,
                          "#9c179e"
                        ],
                        [
                          0.4444444444444444,
                          "#bd3786"
                        ],
                        [
                          0.5555555555555556,
                          "#d8576b"
                        ],
                        [
                          0.6666666666666666,
                          "#ed7953"
                        ],
                        [
                          0.7777777777777778,
                          "#fb9f3a"
                        ],
                        [
                          0.8888888888888888,
                          "#fdca26"
                        ],
                        [
                          1,
                          "#f0f921"
                        ]
                      ],
                      "sequentialminus": [
                        [
                          0,
                          "#0d0887"
                        ],
                        [
                          0.1111111111111111,
                          "#46039f"
                        ],
                        [
                          0.2222222222222222,
                          "#7201a8"
                        ],
                        [
                          0.3333333333333333,
                          "#9c179e"
                        ],
                        [
                          0.4444444444444444,
                          "#bd3786"
                        ],
                        [
                          0.5555555555555556,
                          "#d8576b"
                        ],
                        [
                          0.6666666666666666,
                          "#ed7953"
                        ],
                        [
                          0.7777777777777778,
                          "#fb9f3a"
                        ],
                        [
                          0.8888888888888888,
                          "#fdca26"
                        ],
                        [
                          1,
                          "#f0f921"
                        ]
                      ]
                    },
                    "colorway": [
                      "#636efa",
                      "#EF553B",
                      "#00cc96",
                      "#ab63fa",
                      "#FFA15A",
                      "#19d3f3",
                      "#FF6692",
                      "#B6E880",
                      "#FF97FF",
                      "#FECB52"
                    ],
                    "font": {
                      "color": "#2a3f5f"
                    },
                    "geo": {
                      "bgcolor": "white",
                      "lakecolor": "white",
                      "landcolor": "#E5ECF6",
                      "showlakes": true,
                      "showland": true,
                      "subunitcolor": "white"
                    },
                    "hoverlabel": {
                      "align": "left"
                    },
                    "hovermode": "closest",
                    "mapbox": {
                      "style": "light"
                    },
                    "paper_bgcolor": "white",
                    "plot_bgcolor": "#E5ECF6",
                    "polar": {
                      "angularaxis": {
                        "gridcolor": "white",
                        "linecolor": "white",
                        "ticks": ""
                      },
                      "bgcolor": "#E5ECF6",
                      "radialaxis": {
                        "gridcolor": "white",
                        "linecolor": "white",
                        "ticks": ""
                      }
                    },
                    "scene": {
                      "xaxis": {
                        "backgroundcolor": "#E5ECF6",
                        "gridcolor": "white",
                        "gridwidth": 2,
                        "linecolor": "white",
                        "showbackground": true,
                        "ticks": "",
                        "zerolinecolor": "white"
                      },
                      "yaxis": {
                        "backgroundcolor": "#E5ECF6",
                        "gridcolor": "white",
                        "gridwidth": 2,
                        "linecolor": "white",
                        "showbackground": true,
                        "ticks": "",
                        "zerolinecolor": "white"
                      },
                      "zaxis": {
                        "backgroundcolor": "#E5ECF6",
                        "gridcolor": "white",
                        "gridwidth": 2,
                        "linecolor": "white",
                        "showbackground": true,
                        "ticks": "",
                        "zerolinecolor": "white"
                      }
                    },
                    "shapedefaults": {
                      "line": {
                        "color": "#2a3f5f"
                      }
                    },
                    "ternary": {
                      "aaxis": {
                        "gridcolor": "white",
                        "linecolor": "white",
                        "ticks": ""
                      },
                      "baxis": {
                        "gridcolor": "white",
                        "linecolor": "white",
                        "ticks": ""
                      },
                      "bgcolor": "#E5ECF6",
                      "caxis": {
                        "gridcolor": "white",
                        "linecolor": "white",
                        "ticks": ""
                      }
                    },
                    "title": {
                      "x": 0.05
                    },
                    "xaxis": {
                      "automargin": true,
                      "gridcolor": "white",
                      "linecolor": "white",
                      "ticks": "",
                      "title": {
                        "standoff": 15
                      },
                      "zerolinecolor": "white",
                      "zerolinewidth": 2
                    },
                    "yaxis": {
                      "automargin": true,
                      "gridcolor": "white",
                      "linecolor": "white",
                      "ticks": "",
                      "title": {
                        "standoff": 15
                      },
                      "zerolinecolor": "white",
                      "zerolinewidth": 2
                    }
                  }
                },
                "title": {
                  "text": "BP vs Chol. vs Age vs Sex vs Heart Rate"
                },
                "updatemenus": [
                  {
                    "buttons": [
                      {
                        "args": [
                          null,
                          {
                            "frame": {
                              "duration": 500,
                              "redraw": false
                            },
                            "fromcurrent": true,
                            "transition": {
                              "duration": 300,
                              "easing": "quadratic-in-out"
                            }
                          }
                        ],
                        "label": "Play",
                        "method": "animate"
                      },
                      {
                        "args": [
                          [
                            null
                          ],
                          {
                            "frame": {
                              "duration": 0,
                              "redraw": false
                            },
                            "mode": "immediate",
                            "transition": {
                              "duration": 0
                            }
                          }
                        ],
                        "label": "Pause",
                        "method": "animate"
                      }
                    ],
                    "direction": "left",
                    "pad": {
                      "r": 10,
                      "t": 87
                    },
                    "showactive": false,
                    "type": "buttons",
                    "x": 0.1,
                    "xanchor": "right",
                    "y": 0,
                    "yanchor": "top"
                  }
                ],
                "xaxis": {
                  "autorange": false,
                  "range": [
                    77,
                    210
                  ],
                  "title": {
                    "text": "Resting Blood Pressure"
                  }
                },
                "yaxis": {
                  "autorange": false,
                  "range": [
                    154,
                    350
                  ],
                  "title": {
                    "text": "Cholestrol"
                  }
                }
              },
              "frames": [
                {
                  "data": [
                    {
                      "marker": {
                        "color": [
                          0
                        ],
                        "size": [
                          1
                        ],
                        "sizemode": "area",
                        "sizeref": 0.00026041666666666666
                      },
                      "mode": "markers",
                      "text": [
                        "0"
                      ],
                      "x": [
                        120
                      ],
                      "y": [
                        230
                      ],
                      "type": "scatter"
                    }
                  ],
                  "name": "60"
                },
                {
                  "data": [
                    {
                      "marker": {
                        "color": [
                          1
                        ],
                        "size": [
                          2.5
                        ],
                        "sizemode": "area",
                        "sizeref": 0.00026041666666666666
                      },
                      "mode": "markers",
                      "text": [
                        "1"
                      ],
                      "x": [
                        130
                      ],
                      "y": [
                        250
                      ],
                      "type": "scatter"
                    }
                  ],
                  "name": "55"
                },
                {
                  "data": [
                    {
                      "marker": {
                        "color": [
                          0
                        ],
                        "size": [
                          1.2
                        ],
                        "sizemode": "area",
                        "sizeref": 0.00026041666666666666
                      },
                      "mode": "markers",
                      "text": [
                        "0"
                      ],
                      "x": [
                        110
                      ],
                      "y": [
                        240
                      ],
                      "type": "scatter"
                    }
                  ],
                  "name": "50"
                },
                {
                  "data": [
                    {
                      "marker": {
                        "color": [
                          1
                        ],
                        "size": [
                          0.5
                        ],
                        "sizemode": "area",
                        "sizeref": 0.00026041666666666666
                      },
                      "mode": "markers",
                      "text": [
                        "1"
                      ],
                      "x": [
                        150
                      ],
                      "y": [
                        220
                      ],
                      "type": "scatter"
                    }
                  ],
                  "name": "65"
                }
              ],
              "config": {
                "scrollzoom": true,
                "showLink": false,
                "linkText": "Export to plot.ly",
                "plotlyServerURL": "https://plot.ly"
              }
            },
            "text/html": [
              "<div>                            <div id=\"fd48dcaf-67b0-4994-bff1-b9dd2ad3ca75\" class=\"plotly-graph-div\" style=\"height:650px; width:100%;\"></div>            <script type=\"text/javascript\">                require([\"plotly\"], function(Plotly) {                    window.PLOTLYENV=window.PLOTLYENV || {};                                    if (document.getElementById(\"fd48dcaf-67b0-4994-bff1-b9dd2ad3ca75\")) {                    Plotly.newPlot(                        \"fd48dcaf-67b0-4994-bff1-b9dd2ad3ca75\",                        [{\"marker\":{\"color\":[0],\"size\":[1.2],\"sizemode\":\"area\",\"sizeref\":0.00026041666666666666},\"mode\":\"markers\",\"text\":[\"0\"],\"x\":[110],\"y\":[240],\"type\":\"scatter\"}],                        {\"height\":650,\"hovermode\":\"closest\",\"margin\":{\"b\":50,\"pad\":5,\"t\":50},\"showlegend\":false,\"sliders\":[{\"active\":0,\"currentvalue\":{\"font\":{\"size\":20},\"prefix\":\"Year:\",\"visible\":true,\"xanchor\":\"right\"},\"len\":0.9,\"pad\":{\"b\":10,\"t\":50},\"steps\":[{\"args\":[[60],{\"frame\":{\"duration\":300,\"redraw\":false},\"mode\":\"immediate\",\"transition\":{\"duration\":300}}],\"label\":\"60\",\"method\":\"animate\"},{\"args\":[[55],{\"frame\":{\"duration\":300,\"redraw\":false},\"mode\":\"immediate\",\"transition\":{\"duration\":300}}],\"label\":\"55\",\"method\":\"animate\"},{\"args\":[[50],{\"frame\":{\"duration\":300,\"redraw\":false},\"mode\":\"immediate\",\"transition\":{\"duration\":300}}],\"label\":\"50\",\"method\":\"animate\"},{\"args\":[[65],{\"frame\":{\"duration\":300,\"redraw\":false},\"mode\":\"immediate\",\"transition\":{\"duration\":300}}],\"label\":\"65\",\"method\":\"animate\"}],\"transition\":{\"duration\":300,\"easing\":\"cubic-in-out\"},\"x\":0.1,\"xanchor\":\"left\",\"y\":0,\"yanchor\":\"top\"}],\"template\":{\"data\":{\"barpolar\":[{\"marker\":{\"line\":{\"color\":\"#E5ECF6\",\"width\":0.5},\"pattern\":{\"fillmode\":\"overlay\",\"size\":10,\"solidity\":0.2}},\"type\":\"barpolar\"}],\"bar\":[{\"error_x\":{\"color\":\"#2a3f5f\"},\"error_y\":{\"color\":\"#2a3f5f\"},\"marker\":{\"line\":{\"color\":\"#E5ECF6\",\"width\":0.5},\"pattern\":{\"fillmode\":\"overlay\",\"size\":10,\"solidity\":0.2}},\"type\":\"bar\"}],\"carpet\":[{\"aaxis\":{\"endlinecolor\":\"#2a3f5f\",\"gridcolor\":\"white\",\"linecolor\":\"white\",\"minorgridcolor\":\"white\",\"startlinecolor\":\"#2a3f5f\"},\"baxis\":{\"endlinecolor\":\"#2a3f5f\",\"gridcolor\":\"white\",\"linecolor\":\"white\",\"minorgridcolor\":\"white\",\"startlinecolor\":\"#2a3f5f\"},\"type\":\"carpet\"}],\"choropleth\":[{\"colorbar\":{\"outlinewidth\":0,\"ticks\":\"\"},\"type\":\"choropleth\"}],\"contourcarpet\":[{\"colorbar\":{\"outlinewidth\":0,\"ticks\":\"\"},\"type\":\"contourcarpet\"}],\"contour\":[{\"colorbar\":{\"outlinewidth\":0,\"ticks\":\"\"},\"colorscale\":[[0.0,\"#0d0887\"],[0.1111111111111111,\"#46039f\"],[0.2222222222222222,\"#7201a8\"],[0.3333333333333333,\"#9c179e\"],[0.4444444444444444,\"#bd3786\"],[0.5555555555555556,\"#d8576b\"],[0.6666666666666666,\"#ed7953\"],[0.7777777777777778,\"#fb9f3a\"],[0.8888888888888888,\"#fdca26\"],[1.0,\"#f0f921\"]],\"type\":\"contour\"}],\"heatmapgl\":[{\"colorbar\":{\"outlinewidth\":0,\"ticks\":\"\"},\"colorscale\":[[0.0,\"#0d0887\"],[0.1111111111111111,\"#46039f\"],[0.2222222222222222,\"#7201a8\"],[0.3333333333333333,\"#9c179e\"],[0.4444444444444444,\"#bd3786\"],[0.5555555555555556,\"#d8576b\"],[0.6666666666666666,\"#ed7953\"],[0.7777777777777778,\"#fb9f3a\"],[0.8888888888888888,\"#fdca26\"],[1.0,\"#f0f921\"]],\"type\":\"heatmapgl\"}],\"heatmap\":[{\"colorbar\":{\"outlinewidth\":0,\"ticks\":\"\"},\"colorscale\":[[0.0,\"#0d0887\"],[0.1111111111111111,\"#46039f\"],[0.2222222222222222,\"#7201a8\"],[0.3333333333333333,\"#9c179e\"],[0.4444444444444444,\"#bd3786\"],[0.5555555555555556,\"#d8576b\"],[0.6666666666666666,\"#ed7953\"],[0.7777777777777778,\"#fb9f3a\"],[0.8888888888888888,\"#fdca26\"],[1.0,\"#f0f921\"]],\"type\":\"heatmap\"}],\"histogram2dcontour\":[{\"colorbar\":{\"outlinewidth\":0,\"ticks\":\"\"},\"colorscale\":[[0.0,\"#0d0887\"],[0.1111111111111111,\"#46039f\"],[0.2222222222222222,\"#7201a8\"],[0.3333333333333333,\"#9c179e\"],[0.4444444444444444,\"#bd3786\"],[0.5555555555555556,\"#d8576b\"],[0.6666666666666666,\"#ed7953\"],[0.7777777777777778,\"#fb9f3a\"],[0.8888888888888888,\"#fdca26\"],[1.0,\"#f0f921\"]],\"type\":\"histogram2dcontour\"}],\"histogram2d\":[{\"colorbar\":{\"outlinewidth\":0,\"ticks\":\"\"},\"colorscale\":[[0.0,\"#0d0887\"],[0.1111111111111111,\"#46039f\"],[0.2222222222222222,\"#7201a8\"],[0.3333333333333333,\"#9c179e\"],[0.4444444444444444,\"#bd3786\"],[0.5555555555555556,\"#d8576b\"],[0.6666666666666666,\"#ed7953\"],[0.7777777777777778,\"#fb9f3a\"],[0.8888888888888888,\"#fdca26\"],[1.0,\"#f0f921\"]],\"type\":\"histogram2d\"}],\"histogram\":[{\"marker\":{\"pattern\":{\"fillmode\":\"overlay\",\"size\":10,\"solidity\":0.2}},\"type\":\"histogram\"}],\"mesh3d\":[{\"colorbar\":{\"outlinewidth\":0,\"ticks\":\"\"},\"type\":\"mesh3d\"}],\"parcoords\":[{\"line\":{\"colorbar\":{\"outlinewidth\":0,\"ticks\":\"\"}},\"type\":\"parcoords\"}],\"pie\":[{\"automargin\":true,\"type\":\"pie\"}],\"scatter3d\":[{\"line\":{\"colorbar\":{\"outlinewidth\":0,\"ticks\":\"\"}},\"marker\":{\"colorbar\":{\"outlinewidth\":0,\"ticks\":\"\"}},\"type\":\"scatter3d\"}],\"scattercarpet\":[{\"marker\":{\"colorbar\":{\"outlinewidth\":0,\"ticks\":\"\"}},\"type\":\"scattercarpet\"}],\"scattergeo\":[{\"marker\":{\"colorbar\":{\"outlinewidth\":0,\"ticks\":\"\"}},\"type\":\"scattergeo\"}],\"scattergl\":[{\"marker\":{\"colorbar\":{\"outlinewidth\":0,\"ticks\":\"\"}},\"type\":\"scattergl\"}],\"scattermapbox\":[{\"marker\":{\"colorbar\":{\"outlinewidth\":0,\"ticks\":\"\"}},\"type\":\"scattermapbox\"}],\"scatterpolargl\":[{\"marker\":{\"colorbar\":{\"outlinewidth\":0,\"ticks\":\"\"}},\"type\":\"scatterpolargl\"}],\"scatterpolar\":[{\"marker\":{\"colorbar\":{\"outlinewidth\":0,\"ticks\":\"\"}},\"type\":\"scatterpolar\"}],\"scatter\":[{\"fillpattern\":{\"fillmode\":\"overlay\",\"size\":10,\"solidity\":0.2},\"type\":\"scatter\"}],\"scatterternary\":[{\"marker\":{\"colorbar\":{\"outlinewidth\":0,\"ticks\":\"\"}},\"type\":\"scatterternary\"}],\"surface\":[{\"colorbar\":{\"outlinewidth\":0,\"ticks\":\"\"},\"colorscale\":[[0.0,\"#0d0887\"],[0.1111111111111111,\"#46039f\"],[0.2222222222222222,\"#7201a8\"],[0.3333333333333333,\"#9c179e\"],[0.4444444444444444,\"#bd3786\"],[0.5555555555555556,\"#d8576b\"],[0.6666666666666666,\"#ed7953\"],[0.7777777777777778,\"#fb9f3a\"],[0.8888888888888888,\"#fdca26\"],[1.0,\"#f0f921\"]],\"type\":\"surface\"}],\"table\":[{\"cells\":{\"fill\":{\"color\":\"#EBF0F8\"},\"line\":{\"color\":\"white\"}},\"header\":{\"fill\":{\"color\":\"#C8D4E3\"},\"line\":{\"color\":\"white\"}},\"type\":\"table\"}]},\"layout\":{\"annotationdefaults\":{\"arrowcolor\":\"#2a3f5f\",\"arrowhead\":0,\"arrowwidth\":1},\"autotypenumbers\":\"strict\",\"coloraxis\":{\"colorbar\":{\"outlinewidth\":0,\"ticks\":\"\"}},\"colorscale\":{\"diverging\":[[0,\"#8e0152\"],[0.1,\"#c51b7d\"],[0.2,\"#de77ae\"],[0.3,\"#f1b6da\"],[0.4,\"#fde0ef\"],[0.5,\"#f7f7f7\"],[0.6,\"#e6f5d0\"],[0.7,\"#b8e186\"],[0.8,\"#7fbc41\"],[0.9,\"#4d9221\"],[1,\"#276419\"]],\"sequential\":[[0.0,\"#0d0887\"],[0.1111111111111111,\"#46039f\"],[0.2222222222222222,\"#7201a8\"],[0.3333333333333333,\"#9c179e\"],[0.4444444444444444,\"#bd3786\"],[0.5555555555555556,\"#d8576b\"],[0.6666666666666666,\"#ed7953\"],[0.7777777777777778,\"#fb9f3a\"],[0.8888888888888888,\"#fdca26\"],[1.0,\"#f0f921\"]],\"sequentialminus\":[[0.0,\"#0d0887\"],[0.1111111111111111,\"#46039f\"],[0.2222222222222222,\"#7201a8\"],[0.3333333333333333,\"#9c179e\"],[0.4444444444444444,\"#bd3786\"],[0.5555555555555556,\"#d8576b\"],[0.6666666666666666,\"#ed7953\"],[0.7777777777777778,\"#fb9f3a\"],[0.8888888888888888,\"#fdca26\"],[1.0,\"#f0f921\"]]},\"colorway\":[\"#636efa\",\"#EF553B\",\"#00cc96\",\"#ab63fa\",\"#FFA15A\",\"#19d3f3\",\"#FF6692\",\"#B6E880\",\"#FF97FF\",\"#FECB52\"],\"font\":{\"color\":\"#2a3f5f\"},\"geo\":{\"bgcolor\":\"white\",\"lakecolor\":\"white\",\"landcolor\":\"#E5ECF6\",\"showlakes\":true,\"showland\":true,\"subunitcolor\":\"white\"},\"hoverlabel\":{\"align\":\"left\"},\"hovermode\":\"closest\",\"mapbox\":{\"style\":\"light\"},\"paper_bgcolor\":\"white\",\"plot_bgcolor\":\"#E5ECF6\",\"polar\":{\"angularaxis\":{\"gridcolor\":\"white\",\"linecolor\":\"white\",\"ticks\":\"\"},\"bgcolor\":\"#E5ECF6\",\"radialaxis\":{\"gridcolor\":\"white\",\"linecolor\":\"white\",\"ticks\":\"\"}},\"scene\":{\"xaxis\":{\"backgroundcolor\":\"#E5ECF6\",\"gridcolor\":\"white\",\"gridwidth\":2,\"linecolor\":\"white\",\"showbackground\":true,\"ticks\":\"\",\"zerolinecolor\":\"white\"},\"yaxis\":{\"backgroundcolor\":\"#E5ECF6\",\"gridcolor\":\"white\",\"gridwidth\":2,\"linecolor\":\"white\",\"showbackground\":true,\"ticks\":\"\",\"zerolinecolor\":\"white\"},\"zaxis\":{\"backgroundcolor\":\"#E5ECF6\",\"gridcolor\":\"white\",\"gridwidth\":2,\"linecolor\":\"white\",\"showbackground\":true,\"ticks\":\"\",\"zerolinecolor\":\"white\"}},\"shapedefaults\":{\"line\":{\"color\":\"#2a3f5f\"}},\"ternary\":{\"aaxis\":{\"gridcolor\":\"white\",\"linecolor\":\"white\",\"ticks\":\"\"},\"baxis\":{\"gridcolor\":\"white\",\"linecolor\":\"white\",\"ticks\":\"\"},\"bgcolor\":\"#E5ECF6\",\"caxis\":{\"gridcolor\":\"white\",\"linecolor\":\"white\",\"ticks\":\"\"}},\"title\":{\"x\":0.05},\"xaxis\":{\"automargin\":true,\"gridcolor\":\"white\",\"linecolor\":\"white\",\"ticks\":\"\",\"title\":{\"standoff\":15},\"zerolinecolor\":\"white\",\"zerolinewidth\":2},\"yaxis\":{\"automargin\":true,\"gridcolor\":\"white\",\"linecolor\":\"white\",\"ticks\":\"\",\"title\":{\"standoff\":15},\"zerolinecolor\":\"white\",\"zerolinewidth\":2}}},\"title\":{\"text\":\"BP vs Chol. vs Age vs Sex vs Heart Rate\"},\"updatemenus\":[{\"buttons\":[{\"args\":[null,{\"frame\":{\"duration\":500,\"redraw\":false},\"fromcurrent\":true,\"transition\":{\"duration\":300,\"easing\":\"quadratic-in-out\"}}],\"label\":\"Play\",\"method\":\"animate\"},{\"args\":[[null],{\"frame\":{\"duration\":0,\"redraw\":false},\"mode\":\"immediate\",\"transition\":{\"duration\":0}}],\"label\":\"Pause\",\"method\":\"animate\"}],\"direction\":\"left\",\"pad\":{\"r\":10,\"t\":87},\"showactive\":false,\"type\":\"buttons\",\"x\":0.1,\"xanchor\":\"right\",\"y\":0,\"yanchor\":\"top\"}],\"xaxis\":{\"autorange\":false,\"range\":[77.0,210.0],\"title\":{\"text\":\"Resting Blood Pressure\"}},\"yaxis\":{\"autorange\":false,\"range\":[154.0,350.0],\"title\":{\"text\":\"Cholestrol\"}}},                        {\"scrollzoom\": true, \"responsive\": true}                    ).then(function(){\n",
              "                            Plotly.addFrames('fd48dcaf-67b0-4994-bff1-b9dd2ad3ca75', [{\"data\":[{\"marker\":{\"color\":[0],\"size\":[1.0],\"sizemode\":\"area\",\"sizeref\":0.00026041666666666666},\"mode\":\"markers\",\"text\":[\"0\"],\"x\":[120],\"y\":[230],\"type\":\"scatter\"}],\"name\":\"60\"},{\"data\":[{\"marker\":{\"color\":[1],\"size\":[2.5],\"sizemode\":\"area\",\"sizeref\":0.00026041666666666666},\"mode\":\"markers\",\"text\":[\"1\"],\"x\":[130],\"y\":[250],\"type\":\"scatter\"}],\"name\":\"55\"},{\"data\":[{\"marker\":{\"color\":[0],\"size\":[1.2],\"sizemode\":\"area\",\"sizeref\":0.00026041666666666666},\"mode\":\"markers\",\"text\":[\"0\"],\"x\":[110],\"y\":[240],\"type\":\"scatter\"}],\"name\":\"50\"},{\"data\":[{\"marker\":{\"color\":[1],\"size\":[0.5],\"sizemode\":\"area\",\"sizeref\":0.00026041666666666666},\"mode\":\"markers\",\"text\":[\"1\"],\"x\":[150],\"y\":[220],\"type\":\"scatter\"}],\"name\":\"65\"}]);\n",
              "                        }).then(function(){\n",
              "                            Plotly.animate('fd48dcaf-67b0-4994-bff1-b9dd2ad3ca75', null);\n",
              "                        }).then(function(){\n",
              "                            \n",
              "var gd = document.getElementById('fd48dcaf-67b0-4994-bff1-b9dd2ad3ca75');\n",
              "var x = new MutationObserver(function (mutations, observer) {{\n",
              "        var display = window.getComputedStyle(gd).display;\n",
              "        if (!display || display === 'none') {{\n",
              "            console.log([gd, 'removed!']);\n",
              "            Plotly.purge(gd);\n",
              "            observer.disconnect();\n",
              "        }}\n",
              "}});\n",
              "\n",
              "// Listen for the removal of the full notebook cells\n",
              "var notebookContainer = gd.closest('#notebook-container');\n",
              "if (notebookContainer) {{\n",
              "    x.observe(notebookContainer, {childList: true});\n",
              "}}\n",
              "\n",
              "// Listen for the clearing of the current output cell\n",
              "var outputEl = gd.closest('.output');\n",
              "if (outputEl) {{\n",
              "    x.observe(outputEl, {childList: true});\n",
              "}}\n",
              "\n",
              "                        })                };                });            </script>        </div>"
            ]
          },
          "metadata": {}
        }
      ]
    },
    {
      "cell_type": "code",
      "source": [
        "px.pie(data, names='chol',color_discrete_sequence=px.colors.sequential.Aggrnyl)"
      ],
      "metadata": {
        "colab": {
          "base_uri": "https://localhost:8080/",
          "height": 542
        },
        "id": "B6ml6xxjhS1W",
        "outputId": "536a7f4a-1d55-4ec8-81a5-61d0c71a8294"
      },
      "execution_count": null,
      "outputs": [
        {
          "output_type": "display_data",
          "data": {
            "application/vnd.plotly.v1+json": {
              "data": [
                {
                  "domain": {
                    "x": [
                      0,
                      1
                    ],
                    "y": [
                      0,
                      1
                    ]
                  },
                  "hovertemplate": "chol=%{label}<extra></extra>",
                  "labels": [
                    230,
                    250,
                    240,
                    220
                  ],
                  "legendgroup": "",
                  "name": "",
                  "showlegend": true,
                  "type": "pie"
                }
              ],
              "layout": {
                "template": {
                  "data": {
                    "histogram2dcontour": [
                      {
                        "type": "histogram2dcontour",
                        "colorbar": {
                          "outlinewidth": 0,
                          "ticks": ""
                        },
                        "colorscale": [
                          [
                            0,
                            "#0d0887"
                          ],
                          [
                            0.1111111111111111,
                            "#46039f"
                          ],
                          [
                            0.2222222222222222,
                            "#7201a8"
                          ],
                          [
                            0.3333333333333333,
                            "#9c179e"
                          ],
                          [
                            0.4444444444444444,
                            "#bd3786"
                          ],
                          [
                            0.5555555555555556,
                            "#d8576b"
                          ],
                          [
                            0.6666666666666666,
                            "#ed7953"
                          ],
                          [
                            0.7777777777777778,
                            "#fb9f3a"
                          ],
                          [
                            0.8888888888888888,
                            "#fdca26"
                          ],
                          [
                            1,
                            "#f0f921"
                          ]
                        ]
                      }
                    ],
                    "choropleth": [
                      {
                        "type": "choropleth",
                        "colorbar": {
                          "outlinewidth": 0,
                          "ticks": ""
                        }
                      }
                    ],
                    "histogram2d": [
                      {
                        "type": "histogram2d",
                        "colorbar": {
                          "outlinewidth": 0,
                          "ticks": ""
                        },
                        "colorscale": [
                          [
                            0,
                            "#0d0887"
                          ],
                          [
                            0.1111111111111111,
                            "#46039f"
                          ],
                          [
                            0.2222222222222222,
                            "#7201a8"
                          ],
                          [
                            0.3333333333333333,
                            "#9c179e"
                          ],
                          [
                            0.4444444444444444,
                            "#bd3786"
                          ],
                          [
                            0.5555555555555556,
                            "#d8576b"
                          ],
                          [
                            0.6666666666666666,
                            "#ed7953"
                          ],
                          [
                            0.7777777777777778,
                            "#fb9f3a"
                          ],
                          [
                            0.8888888888888888,
                            "#fdca26"
                          ],
                          [
                            1,
                            "#f0f921"
                          ]
                        ]
                      }
                    ],
                    "heatmap": [
                      {
                        "type": "heatmap",
                        "colorbar": {
                          "outlinewidth": 0,
                          "ticks": ""
                        },
                        "colorscale": [
                          [
                            0,
                            "#0d0887"
                          ],
                          [
                            0.1111111111111111,
                            "#46039f"
                          ],
                          [
                            0.2222222222222222,
                            "#7201a8"
                          ],
                          [
                            0.3333333333333333,
                            "#9c179e"
                          ],
                          [
                            0.4444444444444444,
                            "#bd3786"
                          ],
                          [
                            0.5555555555555556,
                            "#d8576b"
                          ],
                          [
                            0.6666666666666666,
                            "#ed7953"
                          ],
                          [
                            0.7777777777777778,
                            "#fb9f3a"
                          ],
                          [
                            0.8888888888888888,
                            "#fdca26"
                          ],
                          [
                            1,
                            "#f0f921"
                          ]
                        ]
                      }
                    ],
                    "heatmapgl": [
                      {
                        "type": "heatmapgl",
                        "colorbar": {
                          "outlinewidth": 0,
                          "ticks": ""
                        },
                        "colorscale": [
                          [
                            0,
                            "#0d0887"
                          ],
                          [
                            0.1111111111111111,
                            "#46039f"
                          ],
                          [
                            0.2222222222222222,
                            "#7201a8"
                          ],
                          [
                            0.3333333333333333,
                            "#9c179e"
                          ],
                          [
                            0.4444444444444444,
                            "#bd3786"
                          ],
                          [
                            0.5555555555555556,
                            "#d8576b"
                          ],
                          [
                            0.6666666666666666,
                            "#ed7953"
                          ],
                          [
                            0.7777777777777778,
                            "#fb9f3a"
                          ],
                          [
                            0.8888888888888888,
                            "#fdca26"
                          ],
                          [
                            1,
                            "#f0f921"
                          ]
                        ]
                      }
                    ],
                    "contourcarpet": [
                      {
                        "type": "contourcarpet",
                        "colorbar": {
                          "outlinewidth": 0,
                          "ticks": ""
                        }
                      }
                    ],
                    "contour": [
                      {
                        "type": "contour",
                        "colorbar": {
                          "outlinewidth": 0,
                          "ticks": ""
                        },
                        "colorscale": [
                          [
                            0,
                            "#0d0887"
                          ],
                          [
                            0.1111111111111111,
                            "#46039f"
                          ],
                          [
                            0.2222222222222222,
                            "#7201a8"
                          ],
                          [
                            0.3333333333333333,
                            "#9c179e"
                          ],
                          [
                            0.4444444444444444,
                            "#bd3786"
                          ],
                          [
                            0.5555555555555556,
                            "#d8576b"
                          ],
                          [
                            0.6666666666666666,
                            "#ed7953"
                          ],
                          [
                            0.7777777777777778,
                            "#fb9f3a"
                          ],
                          [
                            0.8888888888888888,
                            "#fdca26"
                          ],
                          [
                            1,
                            "#f0f921"
                          ]
                        ]
                      }
                    ],
                    "surface": [
                      {
                        "type": "surface",
                        "colorbar": {
                          "outlinewidth": 0,
                          "ticks": ""
                        },
                        "colorscale": [
                          [
                            0,
                            "#0d0887"
                          ],
                          [
                            0.1111111111111111,
                            "#46039f"
                          ],
                          [
                            0.2222222222222222,
                            "#7201a8"
                          ],
                          [
                            0.3333333333333333,
                            "#9c179e"
                          ],
                          [
                            0.4444444444444444,
                            "#bd3786"
                          ],
                          [
                            0.5555555555555556,
                            "#d8576b"
                          ],
                          [
                            0.6666666666666666,
                            "#ed7953"
                          ],
                          [
                            0.7777777777777778,
                            "#fb9f3a"
                          ],
                          [
                            0.8888888888888888,
                            "#fdca26"
                          ],
                          [
                            1,
                            "#f0f921"
                          ]
                        ]
                      }
                    ],
                    "mesh3d": [
                      {
                        "type": "mesh3d",
                        "colorbar": {
                          "outlinewidth": 0,
                          "ticks": ""
                        }
                      }
                    ],
                    "scatter": [
                      {
                        "fillpattern": {
                          "fillmode": "overlay",
                          "size": 10,
                          "solidity": 0.2
                        },
                        "type": "scatter"
                      }
                    ],
                    "parcoords": [
                      {
                        "type": "parcoords",
                        "line": {
                          "colorbar": {
                            "outlinewidth": 0,
                            "ticks": ""
                          }
                        }
                      }
                    ],
                    "scatterpolargl": [
                      {
                        "type": "scatterpolargl",
                        "marker": {
                          "colorbar": {
                            "outlinewidth": 0,
                            "ticks": ""
                          }
                        }
                      }
                    ],
                    "bar": [
                      {
                        "error_x": {
                          "color": "#2a3f5f"
                        },
                        "error_y": {
                          "color": "#2a3f5f"
                        },
                        "marker": {
                          "line": {
                            "color": "#E5ECF6",
                            "width": 0.5
                          },
                          "pattern": {
                            "fillmode": "overlay",
                            "size": 10,
                            "solidity": 0.2
                          }
                        },
                        "type": "bar"
                      }
                    ],
                    "scattergeo": [
                      {
                        "type": "scattergeo",
                        "marker": {
                          "colorbar": {
                            "outlinewidth": 0,
                            "ticks": ""
                          }
                        }
                      }
                    ],
                    "scatterpolar": [
                      {
                        "type": "scatterpolar",
                        "marker": {
                          "colorbar": {
                            "outlinewidth": 0,
                            "ticks": ""
                          }
                        }
                      }
                    ],
                    "histogram": [
                      {
                        "marker": {
                          "pattern": {
                            "fillmode": "overlay",
                            "size": 10,
                            "solidity": 0.2
                          }
                        },
                        "type": "histogram"
                      }
                    ],
                    "scattergl": [
                      {
                        "type": "scattergl",
                        "marker": {
                          "colorbar": {
                            "outlinewidth": 0,
                            "ticks": ""
                          }
                        }
                      }
                    ],
                    "scatter3d": [
                      {
                        "type": "scatter3d",
                        "line": {
                          "colorbar": {
                            "outlinewidth": 0,
                            "ticks": ""
                          }
                        },
                        "marker": {
                          "colorbar": {
                            "outlinewidth": 0,
                            "ticks": ""
                          }
                        }
                      }
                    ],
                    "scattermapbox": [
                      {
                        "type": "scattermapbox",
                        "marker": {
                          "colorbar": {
                            "outlinewidth": 0,
                            "ticks": ""
                          }
                        }
                      }
                    ],
                    "scatterternary": [
                      {
                        "type": "scatterternary",
                        "marker": {
                          "colorbar": {
                            "outlinewidth": 0,
                            "ticks": ""
                          }
                        }
                      }
                    ],
                    "scattercarpet": [
                      {
                        "type": "scattercarpet",
                        "marker": {
                          "colorbar": {
                            "outlinewidth": 0,
                            "ticks": ""
                          }
                        }
                      }
                    ],
                    "carpet": [
                      {
                        "aaxis": {
                          "endlinecolor": "#2a3f5f",
                          "gridcolor": "white",
                          "linecolor": "white",
                          "minorgridcolor": "white",
                          "startlinecolor": "#2a3f5f"
                        },
                        "baxis": {
                          "endlinecolor": "#2a3f5f",
                          "gridcolor": "white",
                          "linecolor": "white",
                          "minorgridcolor": "white",
                          "startlinecolor": "#2a3f5f"
                        },
                        "type": "carpet"
                      }
                    ],
                    "table": [
                      {
                        "cells": {
                          "fill": {
                            "color": "#EBF0F8"
                          },
                          "line": {
                            "color": "white"
                          }
                        },
                        "header": {
                          "fill": {
                            "color": "#C8D4E3"
                          },
                          "line": {
                            "color": "white"
                          }
                        },
                        "type": "table"
                      }
                    ],
                    "barpolar": [
                      {
                        "marker": {
                          "line": {
                            "color": "#E5ECF6",
                            "width": 0.5
                          },
                          "pattern": {
                            "fillmode": "overlay",
                            "size": 10,
                            "solidity": 0.2
                          }
                        },
                        "type": "barpolar"
                      }
                    ],
                    "pie": [
                      {
                        "automargin": true,
                        "type": "pie"
                      }
                    ]
                  },
                  "layout": {
                    "autotypenumbers": "strict",
                    "colorway": [
                      "#636efa",
                      "#EF553B",
                      "#00cc96",
                      "#ab63fa",
                      "#FFA15A",
                      "#19d3f3",
                      "#FF6692",
                      "#B6E880",
                      "#FF97FF",
                      "#FECB52"
                    ],
                    "font": {
                      "color": "#2a3f5f"
                    },
                    "hovermode": "closest",
                    "hoverlabel": {
                      "align": "left"
                    },
                    "paper_bgcolor": "white",
                    "plot_bgcolor": "#E5ECF6",
                    "polar": {
                      "bgcolor": "#E5ECF6",
                      "angularaxis": {
                        "gridcolor": "white",
                        "linecolor": "white",
                        "ticks": ""
                      },
                      "radialaxis": {
                        "gridcolor": "white",
                        "linecolor": "white",
                        "ticks": ""
                      }
                    },
                    "ternary": {
                      "bgcolor": "#E5ECF6",
                      "aaxis": {
                        "gridcolor": "white",
                        "linecolor": "white",
                        "ticks": ""
                      },
                      "baxis": {
                        "gridcolor": "white",
                        "linecolor": "white",
                        "ticks": ""
                      },
                      "caxis": {
                        "gridcolor": "white",
                        "linecolor": "white",
                        "ticks": ""
                      }
                    },
                    "coloraxis": {
                      "colorbar": {
                        "outlinewidth": 0,
                        "ticks": ""
                      }
                    },
                    "colorscale": {
                      "sequential": [
                        [
                          0,
                          "#0d0887"
                        ],
                        [
                          0.1111111111111111,
                          "#46039f"
                        ],
                        [
                          0.2222222222222222,
                          "#7201a8"
                        ],
                        [
                          0.3333333333333333,
                          "#9c179e"
                        ],
                        [
                          0.4444444444444444,
                          "#bd3786"
                        ],
                        [
                          0.5555555555555556,
                          "#d8576b"
                        ],
                        [
                          0.6666666666666666,
                          "#ed7953"
                        ],
                        [
                          0.7777777777777778,
                          "#fb9f3a"
                        ],
                        [
                          0.8888888888888888,
                          "#fdca26"
                        ],
                        [
                          1,
                          "#f0f921"
                        ]
                      ],
                      "sequentialminus": [
                        [
                          0,
                          "#0d0887"
                        ],
                        [
                          0.1111111111111111,
                          "#46039f"
                        ],
                        [
                          0.2222222222222222,
                          "#7201a8"
                        ],
                        [
                          0.3333333333333333,
                          "#9c179e"
                        ],
                        [
                          0.4444444444444444,
                          "#bd3786"
                        ],
                        [
                          0.5555555555555556,
                          "#d8576b"
                        ],
                        [
                          0.6666666666666666,
                          "#ed7953"
                        ],
                        [
                          0.7777777777777778,
                          "#fb9f3a"
                        ],
                        [
                          0.8888888888888888,
                          "#fdca26"
                        ],
                        [
                          1,
                          "#f0f921"
                        ]
                      ],
                      "diverging": [
                        [
                          0,
                          "#8e0152"
                        ],
                        [
                          0.1,
                          "#c51b7d"
                        ],
                        [
                          0.2,
                          "#de77ae"
                        ],
                        [
                          0.3,
                          "#f1b6da"
                        ],
                        [
                          0.4,
                          "#fde0ef"
                        ],
                        [
                          0.5,
                          "#f7f7f7"
                        ],
                        [
                          0.6,
                          "#e6f5d0"
                        ],
                        [
                          0.7,
                          "#b8e186"
                        ],
                        [
                          0.8,
                          "#7fbc41"
                        ],
                        [
                          0.9,
                          "#4d9221"
                        ],
                        [
                          1,
                          "#276419"
                        ]
                      ]
                    },
                    "xaxis": {
                      "gridcolor": "white",
                      "linecolor": "white",
                      "ticks": "",
                      "title": {
                        "standoff": 15
                      },
                      "zerolinecolor": "white",
                      "automargin": true,
                      "zerolinewidth": 2
                    },
                    "yaxis": {
                      "gridcolor": "white",
                      "linecolor": "white",
                      "ticks": "",
                      "title": {
                        "standoff": 15
                      },
                      "zerolinecolor": "white",
                      "automargin": true,
                      "zerolinewidth": 2
                    },
                    "scene": {
                      "xaxis": {
                        "backgroundcolor": "#E5ECF6",
                        "gridcolor": "white",
                        "linecolor": "white",
                        "showbackground": true,
                        "ticks": "",
                        "zerolinecolor": "white",
                        "gridwidth": 2
                      },
                      "yaxis": {
                        "backgroundcolor": "#E5ECF6",
                        "gridcolor": "white",
                        "linecolor": "white",
                        "showbackground": true,
                        "ticks": "",
                        "zerolinecolor": "white",
                        "gridwidth": 2
                      },
                      "zaxis": {
                        "backgroundcolor": "#E5ECF6",
                        "gridcolor": "white",
                        "linecolor": "white",
                        "showbackground": true,
                        "ticks": "",
                        "zerolinecolor": "white",
                        "gridwidth": 2
                      }
                    },
                    "shapedefaults": {
                      "line": {
                        "color": "#2a3f5f"
                      }
                    },
                    "annotationdefaults": {
                      "arrowcolor": "#2a3f5f",
                      "arrowhead": 0,
                      "arrowwidth": 1
                    },
                    "geo": {
                      "bgcolor": "white",
                      "landcolor": "#E5ECF6",
                      "subunitcolor": "white",
                      "showland": true,
                      "showlakes": true,
                      "lakecolor": "white"
                    },
                    "title": {
                      "x": 0.05
                    },
                    "mapbox": {
                      "style": "light"
                    }
                  }
                },
                "legend": {
                  "tracegroupgap": 0
                },
                "margin": {
                  "t": 60
                },
                "piecolorway": [
                  "rgb(36, 86, 104)",
                  "rgb(15, 114, 121)",
                  "rgb(13, 143, 129)",
                  "rgb(57, 171, 126)",
                  "rgb(110, 197, 116)",
                  "rgb(169, 220, 103)",
                  "rgb(237, 239, 93)"
                ]
              },
              "config": {
                "plotlyServerURL": "https://plot.ly"
              }
            },
            "text/html": [
              "<div>                            <div id=\"523da068-050c-4013-8d81-7e37be8e7606\" class=\"plotly-graph-div\" style=\"height:525px; width:100%;\"></div>            <script type=\"text/javascript\">                require([\"plotly\"], function(Plotly) {                    window.PLOTLYENV=window.PLOTLYENV || {};                                    if (document.getElementById(\"523da068-050c-4013-8d81-7e37be8e7606\")) {                    Plotly.newPlot(                        \"523da068-050c-4013-8d81-7e37be8e7606\",                        [{\"domain\":{\"x\":[0.0,1.0],\"y\":[0.0,1.0]},\"hovertemplate\":\"chol=%{label}\\u003cextra\\u003e\\u003c\\u002fextra\\u003e\",\"labels\":[230,250,240,220],\"legendgroup\":\"\",\"name\":\"\",\"showlegend\":true,\"type\":\"pie\"}],                        {\"template\":{\"data\":{\"histogram2dcontour\":[{\"type\":\"histogram2dcontour\",\"colorbar\":{\"outlinewidth\":0,\"ticks\":\"\"},\"colorscale\":[[0.0,\"#0d0887\"],[0.1111111111111111,\"#46039f\"],[0.2222222222222222,\"#7201a8\"],[0.3333333333333333,\"#9c179e\"],[0.4444444444444444,\"#bd3786\"],[0.5555555555555556,\"#d8576b\"],[0.6666666666666666,\"#ed7953\"],[0.7777777777777778,\"#fb9f3a\"],[0.8888888888888888,\"#fdca26\"],[1.0,\"#f0f921\"]]}],\"choropleth\":[{\"type\":\"choropleth\",\"colorbar\":{\"outlinewidth\":0,\"ticks\":\"\"}}],\"histogram2d\":[{\"type\":\"histogram2d\",\"colorbar\":{\"outlinewidth\":0,\"ticks\":\"\"},\"colorscale\":[[0.0,\"#0d0887\"],[0.1111111111111111,\"#46039f\"],[0.2222222222222222,\"#7201a8\"],[0.3333333333333333,\"#9c179e\"],[0.4444444444444444,\"#bd3786\"],[0.5555555555555556,\"#d8576b\"],[0.6666666666666666,\"#ed7953\"],[0.7777777777777778,\"#fb9f3a\"],[0.8888888888888888,\"#fdca26\"],[1.0,\"#f0f921\"]]}],\"heatmap\":[{\"type\":\"heatmap\",\"colorbar\":{\"outlinewidth\":0,\"ticks\":\"\"},\"colorscale\":[[0.0,\"#0d0887\"],[0.1111111111111111,\"#46039f\"],[0.2222222222222222,\"#7201a8\"],[0.3333333333333333,\"#9c179e\"],[0.4444444444444444,\"#bd3786\"],[0.5555555555555556,\"#d8576b\"],[0.6666666666666666,\"#ed7953\"],[0.7777777777777778,\"#fb9f3a\"],[0.8888888888888888,\"#fdca26\"],[1.0,\"#f0f921\"]]}],\"heatmapgl\":[{\"type\":\"heatmapgl\",\"colorbar\":{\"outlinewidth\":0,\"ticks\":\"\"},\"colorscale\":[[0.0,\"#0d0887\"],[0.1111111111111111,\"#46039f\"],[0.2222222222222222,\"#7201a8\"],[0.3333333333333333,\"#9c179e\"],[0.4444444444444444,\"#bd3786\"],[0.5555555555555556,\"#d8576b\"],[0.6666666666666666,\"#ed7953\"],[0.7777777777777778,\"#fb9f3a\"],[0.8888888888888888,\"#fdca26\"],[1.0,\"#f0f921\"]]}],\"contourcarpet\":[{\"type\":\"contourcarpet\",\"colorbar\":{\"outlinewidth\":0,\"ticks\":\"\"}}],\"contour\":[{\"type\":\"contour\",\"colorbar\":{\"outlinewidth\":0,\"ticks\":\"\"},\"colorscale\":[[0.0,\"#0d0887\"],[0.1111111111111111,\"#46039f\"],[0.2222222222222222,\"#7201a8\"],[0.3333333333333333,\"#9c179e\"],[0.4444444444444444,\"#bd3786\"],[0.5555555555555556,\"#d8576b\"],[0.6666666666666666,\"#ed7953\"],[0.7777777777777778,\"#fb9f3a\"],[0.8888888888888888,\"#fdca26\"],[1.0,\"#f0f921\"]]}],\"surface\":[{\"type\":\"surface\",\"colorbar\":{\"outlinewidth\":0,\"ticks\":\"\"},\"colorscale\":[[0.0,\"#0d0887\"],[0.1111111111111111,\"#46039f\"],[0.2222222222222222,\"#7201a8\"],[0.3333333333333333,\"#9c179e\"],[0.4444444444444444,\"#bd3786\"],[0.5555555555555556,\"#d8576b\"],[0.6666666666666666,\"#ed7953\"],[0.7777777777777778,\"#fb9f3a\"],[0.8888888888888888,\"#fdca26\"],[1.0,\"#f0f921\"]]}],\"mesh3d\":[{\"type\":\"mesh3d\",\"colorbar\":{\"outlinewidth\":0,\"ticks\":\"\"}}],\"scatter\":[{\"fillpattern\":{\"fillmode\":\"overlay\",\"size\":10,\"solidity\":0.2},\"type\":\"scatter\"}],\"parcoords\":[{\"type\":\"parcoords\",\"line\":{\"colorbar\":{\"outlinewidth\":0,\"ticks\":\"\"}}}],\"scatterpolargl\":[{\"type\":\"scatterpolargl\",\"marker\":{\"colorbar\":{\"outlinewidth\":0,\"ticks\":\"\"}}}],\"bar\":[{\"error_x\":{\"color\":\"#2a3f5f\"},\"error_y\":{\"color\":\"#2a3f5f\"},\"marker\":{\"line\":{\"color\":\"#E5ECF6\",\"width\":0.5},\"pattern\":{\"fillmode\":\"overlay\",\"size\":10,\"solidity\":0.2}},\"type\":\"bar\"}],\"scattergeo\":[{\"type\":\"scattergeo\",\"marker\":{\"colorbar\":{\"outlinewidth\":0,\"ticks\":\"\"}}}],\"scatterpolar\":[{\"type\":\"scatterpolar\",\"marker\":{\"colorbar\":{\"outlinewidth\":0,\"ticks\":\"\"}}}],\"histogram\":[{\"marker\":{\"pattern\":{\"fillmode\":\"overlay\",\"size\":10,\"solidity\":0.2}},\"type\":\"histogram\"}],\"scattergl\":[{\"type\":\"scattergl\",\"marker\":{\"colorbar\":{\"outlinewidth\":0,\"ticks\":\"\"}}}],\"scatter3d\":[{\"type\":\"scatter3d\",\"line\":{\"colorbar\":{\"outlinewidth\":0,\"ticks\":\"\"}},\"marker\":{\"colorbar\":{\"outlinewidth\":0,\"ticks\":\"\"}}}],\"scattermapbox\":[{\"type\":\"scattermapbox\",\"marker\":{\"colorbar\":{\"outlinewidth\":0,\"ticks\":\"\"}}}],\"scatterternary\":[{\"type\":\"scatterternary\",\"marker\":{\"colorbar\":{\"outlinewidth\":0,\"ticks\":\"\"}}}],\"scattercarpet\":[{\"type\":\"scattercarpet\",\"marker\":{\"colorbar\":{\"outlinewidth\":0,\"ticks\":\"\"}}}],\"carpet\":[{\"aaxis\":{\"endlinecolor\":\"#2a3f5f\",\"gridcolor\":\"white\",\"linecolor\":\"white\",\"minorgridcolor\":\"white\",\"startlinecolor\":\"#2a3f5f\"},\"baxis\":{\"endlinecolor\":\"#2a3f5f\",\"gridcolor\":\"white\",\"linecolor\":\"white\",\"minorgridcolor\":\"white\",\"startlinecolor\":\"#2a3f5f\"},\"type\":\"carpet\"}],\"table\":[{\"cells\":{\"fill\":{\"color\":\"#EBF0F8\"},\"line\":{\"color\":\"white\"}},\"header\":{\"fill\":{\"color\":\"#C8D4E3\"},\"line\":{\"color\":\"white\"}},\"type\":\"table\"}],\"barpolar\":[{\"marker\":{\"line\":{\"color\":\"#E5ECF6\",\"width\":0.5},\"pattern\":{\"fillmode\":\"overlay\",\"size\":10,\"solidity\":0.2}},\"type\":\"barpolar\"}],\"pie\":[{\"automargin\":true,\"type\":\"pie\"}]},\"layout\":{\"autotypenumbers\":\"strict\",\"colorway\":[\"#636efa\",\"#EF553B\",\"#00cc96\",\"#ab63fa\",\"#FFA15A\",\"#19d3f3\",\"#FF6692\",\"#B6E880\",\"#FF97FF\",\"#FECB52\"],\"font\":{\"color\":\"#2a3f5f\"},\"hovermode\":\"closest\",\"hoverlabel\":{\"align\":\"left\"},\"paper_bgcolor\":\"white\",\"plot_bgcolor\":\"#E5ECF6\",\"polar\":{\"bgcolor\":\"#E5ECF6\",\"angularaxis\":{\"gridcolor\":\"white\",\"linecolor\":\"white\",\"ticks\":\"\"},\"radialaxis\":{\"gridcolor\":\"white\",\"linecolor\":\"white\",\"ticks\":\"\"}},\"ternary\":{\"bgcolor\":\"#E5ECF6\",\"aaxis\":{\"gridcolor\":\"white\",\"linecolor\":\"white\",\"ticks\":\"\"},\"baxis\":{\"gridcolor\":\"white\",\"linecolor\":\"white\",\"ticks\":\"\"},\"caxis\":{\"gridcolor\":\"white\",\"linecolor\":\"white\",\"ticks\":\"\"}},\"coloraxis\":{\"colorbar\":{\"outlinewidth\":0,\"ticks\":\"\"}},\"colorscale\":{\"sequential\":[[0.0,\"#0d0887\"],[0.1111111111111111,\"#46039f\"],[0.2222222222222222,\"#7201a8\"],[0.3333333333333333,\"#9c179e\"],[0.4444444444444444,\"#bd3786\"],[0.5555555555555556,\"#d8576b\"],[0.6666666666666666,\"#ed7953\"],[0.7777777777777778,\"#fb9f3a\"],[0.8888888888888888,\"#fdca26\"],[1.0,\"#f0f921\"]],\"sequentialminus\":[[0.0,\"#0d0887\"],[0.1111111111111111,\"#46039f\"],[0.2222222222222222,\"#7201a8\"],[0.3333333333333333,\"#9c179e\"],[0.4444444444444444,\"#bd3786\"],[0.5555555555555556,\"#d8576b\"],[0.6666666666666666,\"#ed7953\"],[0.7777777777777778,\"#fb9f3a\"],[0.8888888888888888,\"#fdca26\"],[1.0,\"#f0f921\"]],\"diverging\":[[0,\"#8e0152\"],[0.1,\"#c51b7d\"],[0.2,\"#de77ae\"],[0.3,\"#f1b6da\"],[0.4,\"#fde0ef\"],[0.5,\"#f7f7f7\"],[0.6,\"#e6f5d0\"],[0.7,\"#b8e186\"],[0.8,\"#7fbc41\"],[0.9,\"#4d9221\"],[1,\"#276419\"]]},\"xaxis\":{\"gridcolor\":\"white\",\"linecolor\":\"white\",\"ticks\":\"\",\"title\":{\"standoff\":15},\"zerolinecolor\":\"white\",\"automargin\":true,\"zerolinewidth\":2},\"yaxis\":{\"gridcolor\":\"white\",\"linecolor\":\"white\",\"ticks\":\"\",\"title\":{\"standoff\":15},\"zerolinecolor\":\"white\",\"automargin\":true,\"zerolinewidth\":2},\"scene\":{\"xaxis\":{\"backgroundcolor\":\"#E5ECF6\",\"gridcolor\":\"white\",\"linecolor\":\"white\",\"showbackground\":true,\"ticks\":\"\",\"zerolinecolor\":\"white\",\"gridwidth\":2},\"yaxis\":{\"backgroundcolor\":\"#E5ECF6\",\"gridcolor\":\"white\",\"linecolor\":\"white\",\"showbackground\":true,\"ticks\":\"\",\"zerolinecolor\":\"white\",\"gridwidth\":2},\"zaxis\":{\"backgroundcolor\":\"#E5ECF6\",\"gridcolor\":\"white\",\"linecolor\":\"white\",\"showbackground\":true,\"ticks\":\"\",\"zerolinecolor\":\"white\",\"gridwidth\":2}},\"shapedefaults\":{\"line\":{\"color\":\"#2a3f5f\"}},\"annotationdefaults\":{\"arrowcolor\":\"#2a3f5f\",\"arrowhead\":0,\"arrowwidth\":1},\"geo\":{\"bgcolor\":\"white\",\"landcolor\":\"#E5ECF6\",\"subunitcolor\":\"white\",\"showland\":true,\"showlakes\":true,\"lakecolor\":\"white\"},\"title\":{\"x\":0.05},\"mapbox\":{\"style\":\"light\"}}},\"legend\":{\"tracegroupgap\":0},\"margin\":{\"t\":60},\"piecolorway\":[\"rgb(36, 86, 104)\",\"rgb(15, 114, 121)\",\"rgb(13, 143, 129)\",\"rgb(57, 171, 126)\",\"rgb(110, 197, 116)\",\"rgb(169, 220, 103)\",\"rgb(237, 239, 93)\"]},                        {\"responsive\": true}                    ).then(function(){\n",
              "                            \n",
              "var gd = document.getElementById('523da068-050c-4013-8d81-7e37be8e7606');\n",
              "var x = new MutationObserver(function (mutations, observer) {{\n",
              "        var display = window.getComputedStyle(gd).display;\n",
              "        if (!display || display === 'none') {{\n",
              "            console.log([gd, 'removed!']);\n",
              "            Plotly.purge(gd);\n",
              "            observer.disconnect();\n",
              "        }}\n",
              "}});\n",
              "\n",
              "// Listen for the removal of the full notebook cells\n",
              "var notebookContainer = gd.closest('#notebook-container');\n",
              "if (notebookContainer) {{\n",
              "    x.observe(notebookContainer, {childList: true});\n",
              "}}\n",
              "\n",
              "// Listen for the clearing of the current output cell\n",
              "var outputEl = gd.closest('.output');\n",
              "if (outputEl) {{\n",
              "    x.observe(outputEl, {childList: true});\n",
              "}}\n",
              "\n",
              "                        })                };                });            </script>        </div>"
            ]
          },
          "metadata": {}
        }
      ]
    },
    {
      "cell_type": "code",
      "source": [
        "px.histogram(data,\n",
        "             x='age',\n",
        "             color_discrete_sequence=px.colors.sequential.Aggrnyl,\n",
        "             hover_data=data.columns,\n",
        "             marginal=\"box\",\n",
        "             color='target')"
      ],
      "metadata": {
        "colab": {
          "base_uri": "https://localhost:8080/",
          "height": 356
        },
        "id": "N7ssGVVQhel0",
        "outputId": "94e6f47a-9741-4212-ace3-67606077d9ca"
      },
      "execution_count": null,
      "outputs": [
        {
          "output_type": "error",
          "ename": "ValueError",
          "evalue": "Value of 'color' is not the name of a column in 'data_frame'. Expected one of ['trestbps', 'chol', 'sex', 'age', 'oldpeak'] but received: target",
          "traceback": [
            "\u001b[0;31m---------------------------------------------------------------------------\u001b[0m",
            "\u001b[0;31mValueError\u001b[0m                                Traceback (most recent call last)",
            "\u001b[0;32m<ipython-input-11-ba7f799e8149>\u001b[0m in \u001b[0;36m<cell line: 1>\u001b[0;34m()\u001b[0m\n\u001b[0;32m----> 1\u001b[0;31m px.histogram(data,\n\u001b[0m\u001b[1;32m      2\u001b[0m              \u001b[0mx\u001b[0m\u001b[0;34m=\u001b[0m\u001b[0;34m'age'\u001b[0m\u001b[0;34m,\u001b[0m\u001b[0;34m\u001b[0m\u001b[0;34m\u001b[0m\u001b[0m\n\u001b[1;32m      3\u001b[0m              \u001b[0mcolor_discrete_sequence\u001b[0m\u001b[0;34m=\u001b[0m\u001b[0mpx\u001b[0m\u001b[0;34m.\u001b[0m\u001b[0mcolors\u001b[0m\u001b[0;34m.\u001b[0m\u001b[0msequential\u001b[0m\u001b[0;34m.\u001b[0m\u001b[0mAggrnyl\u001b[0m\u001b[0;34m,\u001b[0m\u001b[0;34m\u001b[0m\u001b[0;34m\u001b[0m\u001b[0m\n\u001b[1;32m      4\u001b[0m              \u001b[0mhover_data\u001b[0m\u001b[0;34m=\u001b[0m\u001b[0mdata\u001b[0m\u001b[0;34m.\u001b[0m\u001b[0mcolumns\u001b[0m\u001b[0;34m,\u001b[0m\u001b[0;34m\u001b[0m\u001b[0;34m\u001b[0m\u001b[0m\n\u001b[1;32m      5\u001b[0m              \u001b[0mmarginal\u001b[0m\u001b[0;34m=\u001b[0m\u001b[0;34m\"box\"\u001b[0m\u001b[0;34m,\u001b[0m\u001b[0;34m\u001b[0m\u001b[0;34m\u001b[0m\u001b[0m\n",
            "\u001b[0;32m/usr/local/lib/python3.10/dist-packages/plotly/express/_chart_types.py\u001b[0m in \u001b[0;36mhistogram\u001b[0;34m(data_frame, x, y, color, pattern_shape, facet_row, facet_col, facet_col_wrap, facet_row_spacing, facet_col_spacing, hover_name, hover_data, animation_frame, animation_group, category_orders, labels, color_discrete_sequence, color_discrete_map, pattern_shape_sequence, pattern_shape_map, marginal, opacity, orientation, barmode, barnorm, histnorm, log_x, log_y, range_x, range_y, histfunc, cumulative, nbins, text_auto, title, template, width, height)\u001b[0m\n\u001b[1;32m    478\u001b[0m     `orientation` is `'h'`).\n\u001b[1;32m    479\u001b[0m     \"\"\"\n\u001b[0;32m--> 480\u001b[0;31m     return make_figure(\n\u001b[0m\u001b[1;32m    481\u001b[0m         \u001b[0margs\u001b[0m\u001b[0;34m=\u001b[0m\u001b[0mlocals\u001b[0m\u001b[0;34m(\u001b[0m\u001b[0;34m)\u001b[0m\u001b[0;34m,\u001b[0m\u001b[0;34m\u001b[0m\u001b[0;34m\u001b[0m\u001b[0m\n\u001b[1;32m    482\u001b[0m         \u001b[0mconstructor\u001b[0m\u001b[0;34m=\u001b[0m\u001b[0mgo\u001b[0m\u001b[0;34m.\u001b[0m\u001b[0mHistogram\u001b[0m\u001b[0;34m,\u001b[0m\u001b[0;34m\u001b[0m\u001b[0;34m\u001b[0m\u001b[0m\n",
            "\u001b[0;32m/usr/local/lib/python3.10/dist-packages/plotly/express/_core.py\u001b[0m in \u001b[0;36mmake_figure\u001b[0;34m(args, constructor, trace_patch, layout_patch)\u001b[0m\n\u001b[1;32m   2115\u001b[0m     \u001b[0mapply_default_cascade\u001b[0m\u001b[0;34m(\u001b[0m\u001b[0margs\u001b[0m\u001b[0;34m)\u001b[0m\u001b[0;34m\u001b[0m\u001b[0;34m\u001b[0m\u001b[0m\n\u001b[1;32m   2116\u001b[0m \u001b[0;34m\u001b[0m\u001b[0m\n\u001b[0;32m-> 2117\u001b[0;31m     \u001b[0margs\u001b[0m \u001b[0;34m=\u001b[0m \u001b[0mbuild_dataframe\u001b[0m\u001b[0;34m(\u001b[0m\u001b[0margs\u001b[0m\u001b[0;34m,\u001b[0m \u001b[0mconstructor\u001b[0m\u001b[0;34m)\u001b[0m\u001b[0;34m\u001b[0m\u001b[0;34m\u001b[0m\u001b[0m\n\u001b[0m\u001b[1;32m   2118\u001b[0m     \u001b[0;32mif\u001b[0m \u001b[0mconstructor\u001b[0m \u001b[0;32min\u001b[0m \u001b[0;34m[\u001b[0m\u001b[0mgo\u001b[0m\u001b[0;34m.\u001b[0m\u001b[0mTreemap\u001b[0m\u001b[0;34m,\u001b[0m \u001b[0mgo\u001b[0m\u001b[0;34m.\u001b[0m\u001b[0mSunburst\u001b[0m\u001b[0;34m,\u001b[0m \u001b[0mgo\u001b[0m\u001b[0;34m.\u001b[0m\u001b[0mIcicle\u001b[0m\u001b[0;34m]\u001b[0m \u001b[0;32mand\u001b[0m \u001b[0margs\u001b[0m\u001b[0;34m[\u001b[0m\u001b[0;34m\"path\"\u001b[0m\u001b[0;34m]\u001b[0m \u001b[0;32mis\u001b[0m \u001b[0;32mnot\u001b[0m \u001b[0;32mNone\u001b[0m\u001b[0;34m:\u001b[0m\u001b[0;34m\u001b[0m\u001b[0;34m\u001b[0m\u001b[0m\n\u001b[1;32m   2119\u001b[0m         \u001b[0margs\u001b[0m \u001b[0;34m=\u001b[0m \u001b[0mprocess_dataframe_hierarchy\u001b[0m\u001b[0;34m(\u001b[0m\u001b[0margs\u001b[0m\u001b[0;34m)\u001b[0m\u001b[0;34m\u001b[0m\u001b[0;34m\u001b[0m\u001b[0m\n",
            "\u001b[0;32m/usr/local/lib/python3.10/dist-packages/plotly/express/_core.py\u001b[0m in \u001b[0;36mbuild_dataframe\u001b[0;34m(args, constructor)\u001b[0m\n\u001b[1;32m   1511\u001b[0m     \u001b[0;31m# now that things have been prepped, we do the systematic rewriting of `args`\u001b[0m\u001b[0;34m\u001b[0m\u001b[0;34m\u001b[0m\u001b[0m\n\u001b[1;32m   1512\u001b[0m \u001b[0;34m\u001b[0m\u001b[0m\n\u001b[0;32m-> 1513\u001b[0;31m     df_output, wide_id_vars = process_args_into_dataframe(\n\u001b[0m\u001b[1;32m   1514\u001b[0m         \u001b[0margs\u001b[0m\u001b[0;34m,\u001b[0m \u001b[0mwide_mode\u001b[0m\u001b[0;34m,\u001b[0m \u001b[0mvar_name\u001b[0m\u001b[0;34m,\u001b[0m \u001b[0mvalue_name\u001b[0m\u001b[0;34m\u001b[0m\u001b[0;34m\u001b[0m\u001b[0m\n\u001b[1;32m   1515\u001b[0m     )\n",
            "\u001b[0;32m/usr/local/lib/python3.10/dist-packages/plotly/express/_core.py\u001b[0m in \u001b[0;36mprocess_args_into_dataframe\u001b[0;34m(args, wide_mode, var_name, value_name)\u001b[0m\n\u001b[1;32m   1232\u001b[0m                         \u001b[0;32mif\u001b[0m \u001b[0margument\u001b[0m \u001b[0;34m==\u001b[0m \u001b[0;34m\"index\"\u001b[0m\u001b[0;34m:\u001b[0m\u001b[0;34m\u001b[0m\u001b[0;34m\u001b[0m\u001b[0m\n\u001b[1;32m   1233\u001b[0m                             \u001b[0merr_msg\u001b[0m \u001b[0;34m+=\u001b[0m \u001b[0;34m\"\\n To use the index, pass it in directly as `df.index`.\"\u001b[0m\u001b[0;34m\u001b[0m\u001b[0;34m\u001b[0m\u001b[0m\n\u001b[0;32m-> 1234\u001b[0;31m                         \u001b[0;32mraise\u001b[0m \u001b[0mValueError\u001b[0m\u001b[0;34m(\u001b[0m\u001b[0merr_msg\u001b[0m\u001b[0;34m)\u001b[0m\u001b[0;34m\u001b[0m\u001b[0;34m\u001b[0m\u001b[0m\n\u001b[0m\u001b[1;32m   1235\u001b[0m                 \u001b[0;32melif\u001b[0m \u001b[0mlength\u001b[0m \u001b[0;32mand\u001b[0m \u001b[0mlen\u001b[0m\u001b[0;34m(\u001b[0m\u001b[0mdf_input\u001b[0m\u001b[0;34m[\u001b[0m\u001b[0margument\u001b[0m\u001b[0;34m]\u001b[0m\u001b[0;34m)\u001b[0m \u001b[0;34m!=\u001b[0m \u001b[0mlength\u001b[0m\u001b[0;34m:\u001b[0m\u001b[0;34m\u001b[0m\u001b[0;34m\u001b[0m\u001b[0m\n\u001b[1;32m   1236\u001b[0m                     raise ValueError(\n",
            "\u001b[0;31mValueError\u001b[0m: Value of 'color' is not the name of a column in 'data_frame'. Expected one of ['trestbps', 'chol', 'sex', 'age', 'oldpeak'] but received: target"
          ]
        }
      ]
    },
    {
      "cell_type": "code",
      "source": [
        "df=data.copy()\n",
        "df['sex']=df['sex'].map({\n",
        "    1:'Male',\n",
        "    0:'Female'\n",
        "})"
      ],
      "metadata": {
        "id": "Df6FN_BJhkaN"
      },
      "execution_count": null,
      "outputs": []
    },
    {
      "cell_type": "code",
      "source": [
        "px.pie(df, names='sex',\n",
        "       color_discrete_sequence=px.colors.sequential.Aggrnyl,\n",
        "       hole=.6,\n",
        "\n",
        "       )"
      ],
      "metadata": {
        "id": "f6SeYsvphrk0"
      },
      "execution_count": null,
      "outputs": []
    },
    {
      "cell_type": "code",
      "source": [
        "px.box(data,x='target',y='trestbps',color_discrete_sequence=px.colors.sequential.Aggrnyl)"
      ],
      "metadata": {
        "id": "c_QX6e7Nhu_i"
      },
      "execution_count": null,
      "outputs": []
    },
    {
      "cell_type": "code",
      "source": [
        "px.histogram(data, x=\"target\", color=\"restecg\",barmode=\"group\",color_discrete_sequence=px.colors.sequential.Aggrnyl)"
      ],
      "metadata": {
        "id": "Z9C8mchmh0Ll"
      },
      "execution_count": null,
      "outputs": []
    },
    {
      "cell_type": "code",
      "source": [
        " px.violin(data, y=\"chol\",\n",
        "           color=\"target\",\n",
        "           color_discrete_sequence=px.colors.sequential.Aggrnyl,\n",
        "           hover_data=data.columns,\n",
        "           points=\"all\",\n",
        "           box=True,\n",
        "          )"
      ],
      "metadata": {
        "id": "Hb-i1nJFh5pJ"
      },
      "execution_count": null,
      "outputs": []
    },
    {
      "cell_type": "code",
      "source": [
        "px.box(data,x='target',y='age',color_discrete_sequence=px.colors.sequential.Aggrnyl, points=\"all\")"
      ],
      "metadata": {
        "id": "13-JsebCh_IX"
      },
      "execution_count": null,
      "outputs": []
    },
    {
      "cell_type": "code",
      "source": [
        "px.box(data,x='target',y='slope',color_discrete_sequence=px.colors.sequential.Aggrnyl, points=\"all\")"
      ],
      "metadata": {
        "id": "anFO3UFdiDlx"
      },
      "execution_count": null,
      "outputs": []
    },
    {
      "cell_type": "code",
      "source": [
        "px.box(data,x='target',y='ca',color_discrete_sequence=px.colors.sequential.Aggrnyl, points=\"all\")"
      ],
      "metadata": {
        "id": "oNTVTtDciKZS"
      },
      "execution_count": null,
      "outputs": []
    },
    {
      "cell_type": "code",
      "source": [
        "data.reset_index(drop=True, inplace=True)\n",
        "data.head()"
      ],
      "metadata": {
        "id": "_l-UJUhuiNwN"
      },
      "execution_count": null,
      "outputs": []
    },
    {
      "cell_type": "code",
      "source": [
        "from sklearn.model_selection import train_test_split\n",
        "from sklearn.metrics import classification_report,accuracy_score\n",
        "\n",
        "Y = data['target']\n",
        "X = data.drop('target',axis=1)\n",
        "# x, x_test, y, y_test = train_test_split(X,Y,test_size=0.2,train_size=0.8)\n",
        "x_train, x_validation, y_train, y_validation = train_test_split(X,Y,test_size=0.1,train_size=0.9,random_state=254,shuffle=True)"
      ],
      "metadata": {
        "id": "18sz_czRiR5a"
      },
      "execution_count": null,
      "outputs": []
    },
    {
      "cell_type": "code",
      "source": [
        "from sklearn.neural_network import MLPClassifier\n",
        "clf = MLPClassifier(solver='lbfgs', alpha=1e-08,hidden_layer_sizes=(60,),activation='logistic', random_state=(2),)\n",
        "clf = clf.fit(x_train,y_train)\n",
        "predictCLF = clf.predict(x_validation)"
      ],
      "metadata": {
        "id": "qN6rmSroi0rb"
      },
      "execution_count": null,
      "outputs": []
    },
    {
      "cell_type": "code",
      "source": [
        "print(classification_report(predictCLF,y_validation))"
      ],
      "metadata": {
        "id": "PNUx73Xci5hX"
      },
      "execution_count": null,
      "outputs": []
    },
    {
      "cell_type": "code",
      "source": [
        "acc_CLF=accuracy_score(predictCLF,y_validation)\n",
        "print(acc_CLF)"
      ],
      "metadata": {
        "id": "Pqx5t2G6jFeL"
      },
      "execution_count": null,
      "outputs": []
    },
    {
      "cell_type": "code",
      "source": [
        "from sklearn.neighbors import KNeighborsClassifier\n",
        "\n",
        "for i in [2,3,4,5,6]:\n",
        "    KNN = KNeighborsClassifier(n_neighbors=i)\n",
        "    KNN = KNN.fit(x_train,y_train)\n",
        "    print('with '+str(i)+' neighbors',KNN.score(x_validation,y_validation))"
      ],
      "metadata": {
        "id": "olHI1LKYjIEL"
      },
      "execution_count": null,
      "outputs": []
    },
    {
      "cell_type": "code",
      "source": [
        "from sklearn import tree\n",
        "for i in range(2,9):\n",
        "    DT = tree.DecisionTreeClassifier(max_leaf_nodes=i)\n",
        "    DT = DT.fit(x_train,y_train)\n",
        "    print('with '+str(i)+' max_leaf_nodes', DT.score(x_validation,y_validation))"
      ],
      "metadata": {
        "id": "aw1hZ1m_jLp_"
      },
      "execution_count": null,
      "outputs": []
    },
    {
      "cell_type": "code",
      "source": [
        "from sklearn.preprocessing import StandardScaler\n",
        "from sklearn.pipeline import make_pipeline\n",
        "from sklearn.svm import SVC\n",
        "clf = make_pipeline(StandardScaler(), SVC(gamma='auto',))\n",
        "clf.fit(x_train,y_train)"
      ],
      "metadata": {
        "id": "RAt-oumPjOSV"
      },
      "execution_count": null,
      "outputs": []
    },
    {
      "cell_type": "code",
      "source": [
        "print(clf.score(x_validation,y_validation))"
      ],
      "metadata": {
        "id": "EYDvX1qejRDg"
      },
      "execution_count": null,
      "outputs": []
    },
    {
      "cell_type": "code",
      "source": [
        "from sklearn.ensemble import RandomForestClassifier\n",
        "for i in [1,2,3,4,5]:\n",
        "    clf = RandomForestClassifier(max_depth=i, random_state=0)\n",
        "    clf.fit(x_train,y_train)\n",
        "    #print(str(i),clf.score(x_validation,y_validation))\n",
        "    print(clf.score())"
      ],
      "metadata": {
        "id": "rGhTXcW4jS2f",
        "colab": {
          "base_uri": "https://localhost:8080/",
          "height": 211
        },
        "outputId": "d739503f-104e-4475-d4c9-d5c2547575ff"
      },
      "execution_count": null,
      "outputs": [
        {
          "output_type": "error",
          "ename": "NameError",
          "evalue": "name 'x_train' is not defined",
          "traceback": [
            "\u001b[0;31m---------------------------------------------------------------------------\u001b[0m",
            "\u001b[0;31mNameError\u001b[0m                                 Traceback (most recent call last)",
            "\u001b[0;32m<ipython-input-12-9be4b28c154d>\u001b[0m in \u001b[0;36m<cell line: 2>\u001b[0;34m()\u001b[0m\n\u001b[1;32m      2\u001b[0m \u001b[0;32mfor\u001b[0m \u001b[0mi\u001b[0m \u001b[0;32min\u001b[0m \u001b[0;34m[\u001b[0m\u001b[0;36m1\u001b[0m\u001b[0;34m,\u001b[0m\u001b[0;36m2\u001b[0m\u001b[0;34m,\u001b[0m\u001b[0;36m3\u001b[0m\u001b[0;34m,\u001b[0m\u001b[0;36m4\u001b[0m\u001b[0;34m,\u001b[0m\u001b[0;36m5\u001b[0m\u001b[0;34m]\u001b[0m\u001b[0;34m:\u001b[0m\u001b[0;34m\u001b[0m\u001b[0;34m\u001b[0m\u001b[0m\n\u001b[1;32m      3\u001b[0m     \u001b[0mclf\u001b[0m \u001b[0;34m=\u001b[0m \u001b[0mRandomForestClassifier\u001b[0m\u001b[0;34m(\u001b[0m\u001b[0mmax_depth\u001b[0m\u001b[0;34m=\u001b[0m\u001b[0mi\u001b[0m\u001b[0;34m,\u001b[0m \u001b[0mrandom_state\u001b[0m\u001b[0;34m=\u001b[0m\u001b[0;36m0\u001b[0m\u001b[0;34m)\u001b[0m\u001b[0;34m\u001b[0m\u001b[0;34m\u001b[0m\u001b[0m\n\u001b[0;32m----> 4\u001b[0;31m     \u001b[0mclf\u001b[0m\u001b[0;34m.\u001b[0m\u001b[0mfit\u001b[0m\u001b[0;34m(\u001b[0m\u001b[0mx_train\u001b[0m\u001b[0;34m,\u001b[0m\u001b[0my_train\u001b[0m\u001b[0;34m)\u001b[0m\u001b[0;34m\u001b[0m\u001b[0;34m\u001b[0m\u001b[0m\n\u001b[0m\u001b[1;32m      5\u001b[0m     \u001b[0;31m#print(str(i),clf.score(x_validation,y_validation))\u001b[0m\u001b[0;34m\u001b[0m\u001b[0;34m\u001b[0m\u001b[0m\n\u001b[1;32m      6\u001b[0m     \u001b[0mprint\u001b[0m\u001b[0;34m(\u001b[0m\u001b[0mclf\u001b[0m\u001b[0;34m.\u001b[0m\u001b[0mscore\u001b[0m\u001b[0;34m(\u001b[0m\u001b[0;34m)\u001b[0m\u001b[0;34m)\u001b[0m\u001b[0;34m\u001b[0m\u001b[0;34m\u001b[0m\u001b[0m\n",
            "\u001b[0;31mNameError\u001b[0m: name 'x_train' is not defined"
          ]
        }
      ]
    }
  ]
}